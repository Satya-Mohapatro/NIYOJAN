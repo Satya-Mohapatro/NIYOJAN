{
 "cells": [
  {
   "cell_type": "markdown",
   "id": "9598e16f",
   "metadata": {},
   "source": [
    "## LSTM Forecasting"
   ]
  },
  {
   "cell_type": "markdown",
   "id": "b791bb9d",
   "metadata": {},
   "source": [
    "• Use Case: Predict sales for medicines with promotion-driven or nonlinear demand patterns (e.g., vitamins, supplements).\n"
   ]
  },
  {
   "cell_type": "code",
   "execution_count": 2,
   "id": "6a33de12",
   "metadata": {},
   "outputs": [],
   "source": [
    "import os\n",
    "import numpy as np\n",
    "import pandas as pd\n",
    "import matplotlib.pyplot as plt\n",
    "from datetime import timedelta\n",
    "import math\n",
    "import random"
   ]
  },
  {
   "cell_type": "code",
   "execution_count": 3,
   "id": "34fa1681",
   "metadata": {},
   "outputs": [],
   "source": [
    "from sklearn.preprocessing import MinMaxScaler\n",
    "from sklearn.metrics import mean_squared_error, mean_absolute_error"
   ]
  },
  {
   "cell_type": "code",
   "execution_count": 4,
   "id": "1da99ef2",
   "metadata": {},
   "outputs": [],
   "source": [
    "import tensorflow as tf\n",
    "from tensorflow.keras.models import Sequential\n",
    "from tensorflow.keras.layers import LSTM, Dense, Dropout\n",
    "from tensorflow.keras.callbacks import EarlyStopping, ModelCheckpoint"
   ]
  },
  {
   "cell_type": "code",
   "execution_count": 5,
   "id": "4ecc6189",
   "metadata": {},
   "outputs": [],
   "source": [
    "SEED = 42\n",
    "LOOKBACK = 30\n",
    "FORECAST_HORIZON = 30\n",
    "BATCH_SIZE = 32\n",
    "EPOCHS = 100"
   ]
  },
  {
   "cell_type": "code",
   "execution_count": 6,
   "id": "b7ab4e62",
   "metadata": {},
   "outputs": [],
   "source": [
    "np.random.seed(SEED)\n",
    "tf.random.set_seed(SEED)\n",
    "random.seed(SEED)"
   ]
  },
  {
   "cell_type": "code",
   "execution_count": null,
   "id": "75219bda",
   "metadata": {},
   "outputs": [],
   "source": [
    "df_all = pd.read_csv(\"C:/Users/Admin/NIYOJAN/Data/Synthetic/Training/Lstm_data.csv\")\n",
    "df_all[\"date\"] = pd.to_datetime(df_all[\"date\"])"
   ]
  },
  {
   "cell_type": "code",
   "execution_count": null,
   "id": "13fd0603",
   "metadata": {},
   "outputs": [],
   "source": [
    "LOOKBACK = 30\n",
    "FORECAST_HORIZON = 30\n",
    "PRODUCTS = [\"Paracetamol_500mg\", \"Vitamin_C\", \"Antibiotic_A\",\n",
    "            \"Insulin_Supplies\", \"PainRelief_Gel\"]\n",
    "MODEL_DIR = \"C:/Users/Admin/IIS/Models/Lstm\"\n",
    "FORECAST_DIR = \"C:/Users/Admin/NIYOJAN/Forecasts/Lstm\""
   ]
  },
  {
   "cell_type": "code",
   "execution_count": 9,
   "id": "0fa2b094",
   "metadata": {},
   "outputs": [],
   "source": [
    "def create_sequences(df, features, target_col=\"sales_scaled\"):\n",
    "    X, y = [], []\n",
    "    for i in range(LOOKBACK, len(df)):\n",
    "        X.append(df[features].iloc[i-LOOKBACK:i].values)\n",
    "        y.append(df[target_col].iloc[i])\n",
    "    return np.array(X), np.array(y)"
   ]
  },
  {
   "cell_type": "code",
   "execution_count": 10,
   "id": "2ba38316",
   "metadata": {},
   "outputs": [],
   "source": [
    "master_forecast_df = pd.DataFrame()"
   ]
  },
  {
   "cell_type": "code",
   "execution_count": 11,
   "id": "3a3d292a",
   "metadata": {},
   "outputs": [
    {
     "name": "stdout",
     "output_type": "stream",
     "text": [
      "\n",
      "=== Training LSTM for Paracetamol_500mg ===\n",
      "Epoch 1/100\n"
     ]
    },
    {
     "name": "stderr",
     "output_type": "stream",
     "text": [
      "c:\\Users\\Admin\\miniconda3\\envs\\dl_env\\lib\\site-packages\\keras\\src\\layers\\rnn\\rnn.py:199: UserWarning: Do not pass an `input_shape`/`input_dim` argument to a layer. When using Sequential models, prefer using an `Input(shape)` object as the first layer in the model instead.\n",
      "  super().__init__(**kwargs)\n"
     ]
    },
    {
     "name": "stdout",
     "output_type": "stream",
     "text": [
      "23/23 - 5s - 206ms/step - loss: 0.0766 - mae: 0.2242 - val_loss: 0.0488 - val_mae: 0.1849\n",
      "Epoch 2/100\n",
      "23/23 - 1s - 29ms/step - loss: 0.0341 - mae: 0.1445 - val_loss: 0.0270 - val_mae: 0.1268\n",
      "Epoch 3/100\n",
      "23/23 - 1s - 23ms/step - loss: 0.0304 - mae: 0.1355 - val_loss: 0.0252 - val_mae: 0.1218\n",
      "Epoch 4/100\n",
      "23/23 - 1s - 24ms/step - loss: 0.0282 - mae: 0.1323 - val_loss: 0.0259 - val_mae: 0.1236\n",
      "Epoch 5/100\n",
      "23/23 - 1s - 27ms/step - loss: 0.0288 - mae: 0.1342 - val_loss: 0.0263 - val_mae: 0.1258\n",
      "Epoch 6/100\n",
      "23/23 - 1s - 28ms/step - loss: 0.0272 - mae: 0.1295 - val_loss: 0.0276 - val_mae: 0.1291\n",
      "Epoch 7/100\n",
      "23/23 - 1s - 26ms/step - loss: 0.0277 - mae: 0.1312 - val_loss: 0.0291 - val_mae: 0.1343\n",
      "Epoch 8/100\n",
      "23/23 - 1s - 28ms/step - loss: 0.0263 - mae: 0.1271 - val_loss: 0.0287 - val_mae: 0.1346\n",
      "Epoch 9/100\n",
      "23/23 - 1s - 28ms/step - loss: 0.0266 - mae: 0.1278 - val_loss: 0.0292 - val_mae: 0.1362\n",
      "Epoch 10/100\n",
      "23/23 - 1s - 25ms/step - loss: 0.0257 - mae: 0.1257 - val_loss: 0.0251 - val_mae: 0.1244\n",
      "Epoch 11/100\n",
      "23/23 - 1s - 26ms/step - loss: 0.0253 - mae: 0.1255 - val_loss: 0.0267 - val_mae: 0.1297\n",
      "Epoch 12/100\n",
      "23/23 - 1s - 25ms/step - loss: 0.0247 - mae: 0.1242 - val_loss: 0.0267 - val_mae: 0.1302\n",
      "Epoch 13/100\n",
      "23/23 - 1s - 25ms/step - loss: 0.0252 - mae: 0.1247 - val_loss: 0.0253 - val_mae: 0.1266\n",
      "Epoch 14/100\n",
      "23/23 - 1s - 26ms/step - loss: 0.0250 - mae: 0.1245 - val_loss: 0.0270 - val_mae: 0.1316\n",
      "Epoch 15/100\n",
      "23/23 - 1s - 26ms/step - loss: 0.0248 - mae: 0.1246 - val_loss: 0.0247 - val_mae: 0.1250\n",
      "Epoch 16/100\n",
      "23/23 - 1s - 25ms/step - loss: 0.0247 - mae: 0.1236 - val_loss: 0.0261 - val_mae: 0.1297\n",
      "Epoch 17/100\n",
      "23/23 - 1s - 25ms/step - loss: 0.0249 - mae: 0.1235 - val_loss: 0.0257 - val_mae: 0.1281\n",
      "Epoch 18/100\n",
      "23/23 - 1s - 25ms/step - loss: 0.0238 - mae: 0.1217 - val_loss: 0.0266 - val_mae: 0.1308\n",
      "Epoch 19/100\n",
      "23/23 - 1s - 25ms/step - loss: 0.0236 - mae: 0.1221 - val_loss: 0.0238 - val_mae: 0.1233\n",
      "Epoch 20/100\n",
      "23/23 - 1s - 30ms/step - loss: 0.0241 - mae: 0.1223 - val_loss: 0.0263 - val_mae: 0.1299\n",
      "Epoch 21/100\n",
      "23/23 - 1s - 30ms/step - loss: 0.0237 - mae: 0.1206 - val_loss: 0.0251 - val_mae: 0.1266\n",
      "Epoch 22/100\n",
      "23/23 - 1s - 29ms/step - loss: 0.0244 - mae: 0.1229 - val_loss: 0.0236 - val_mae: 0.1224\n",
      "Epoch 23/100\n",
      "23/23 - 1s - 31ms/step - loss: 0.0239 - mae: 0.1221 - val_loss: 0.0230 - val_mae: 0.1208\n",
      "Epoch 24/100\n",
      "23/23 - 1s - 27ms/step - loss: 0.0225 - mae: 0.1186 - val_loss: 0.0237 - val_mae: 0.1226\n",
      "Epoch 25/100\n",
      "23/23 - 1s - 25ms/step - loss: 0.0227 - mae: 0.1202 - val_loss: 0.0252 - val_mae: 0.1267\n",
      "Epoch 26/100\n",
      "23/23 - 1s - 25ms/step - loss: 0.0229 - mae: 0.1191 - val_loss: 0.0233 - val_mae: 0.1206\n",
      "Epoch 27/100\n",
      "23/23 - 1s - 24ms/step - loss: 0.0227 - mae: 0.1188 - val_loss: 0.0245 - val_mae: 0.1253\n",
      "Epoch 28/100\n",
      "23/23 - 1s - 23ms/step - loss: 0.0225 - mae: 0.1184 - val_loss: 0.0230 - val_mae: 0.1204\n",
      "Epoch 29/100\n",
      "23/23 - 1s - 26ms/step - loss: 0.0224 - mae: 0.1175 - val_loss: 0.0230 - val_mae: 0.1204\n",
      "Epoch 30/100\n",
      "23/23 - 1s - 25ms/step - loss: 0.0225 - mae: 0.1188 - val_loss: 0.0207 - val_mae: 0.1133\n",
      "Epoch 31/100\n",
      "23/23 - 1s - 24ms/step - loss: 0.0223 - mae: 0.1181 - val_loss: 0.0230 - val_mae: 0.1193\n",
      "Epoch 32/100\n",
      "23/23 - 1s - 27ms/step - loss: 0.0224 - mae: 0.1185 - val_loss: 0.0236 - val_mae: 0.1212\n",
      "Epoch 33/100\n",
      "23/23 - 1s - 27ms/step - loss: 0.0224 - mae: 0.1178 - val_loss: 0.0228 - val_mae: 0.1183\n",
      "Epoch 34/100\n",
      "23/23 - 1s - 37ms/step - loss: 0.0222 - mae: 0.1175 - val_loss: 0.0231 - val_mae: 0.1201\n",
      "Epoch 35/100\n",
      "23/23 - 2s - 68ms/step - loss: 0.0220 - mae: 0.1168 - val_loss: 0.0229 - val_mae: 0.1194\n",
      "Epoch 36/100\n",
      "23/23 - 1s - 58ms/step - loss: 0.0223 - mae: 0.1168 - val_loss: 0.0251 - val_mae: 0.1256\n",
      "Epoch 37/100\n",
      "23/23 - 1s - 46ms/step - loss: 0.0223 - mae: 0.1183 - val_loss: 0.0239 - val_mae: 0.1227\n",
      "Epoch 38/100\n",
      "23/23 - 1s - 34ms/step - loss: 0.0224 - mae: 0.1183 - val_loss: 0.0219 - val_mae: 0.1161\n",
      "Epoch 39/100\n",
      "23/23 - 1s - 32ms/step - loss: 0.0222 - mae: 0.1171 - val_loss: 0.0208 - val_mae: 0.1131\n",
      "Epoch 40/100\n",
      "23/23 - 1s - 26ms/step - loss: 0.0225 - mae: 0.1171 - val_loss: 0.0240 - val_mae: 0.1229\n"
     ]
    },
    {
     "name": "stderr",
     "output_type": "stream",
     "text": [
      "WARNING:absl:You are saving your model as an HDF5 file via `model.save()` or `keras.saving.save_model(model)`. This file format is considered legacy. We recommend using instead the native Keras format, e.g. `model.save('my_model.keras')` or `keras.saving.save_model(model, 'my_model.keras')`. \n"
     ]
    },
    {
     "name": "stdout",
     "output_type": "stream",
     "text": [
      "\u001b[1m5/5\u001b[0m \u001b[32m━━━━━━━━━━━━━━━━━━━━\u001b[0m\u001b[37m\u001b[0m \u001b[1m1s\u001b[0m 88ms/step\n",
      "Paracetamol_500mg Test RMSE: 9.518, MAE: 7.598\n",
      "\u001b[1m1/1\u001b[0m \u001b[32m━━━━━━━━━━━━━━━━━━━━\u001b[0m\u001b[37m\u001b[0m \u001b[1m0s\u001b[0m 34ms/step\n",
      "\u001b[1m1/1\u001b[0m \u001b[32m━━━━━━━━━━━━━━━━━━━━\u001b[0m\u001b[37m\u001b[0m \u001b[1m0s\u001b[0m 47ms/step\n",
      "\u001b[1m1/1\u001b[0m \u001b[32m━━━━━━━━━━━━━━━━━━━━\u001b[0m\u001b[37m\u001b[0m \u001b[1m0s\u001b[0m 48ms/step\n"
     ]
    },
    {
     "name": "stderr",
     "output_type": "stream",
     "text": [
      "c:\\Users\\Admin\\miniconda3\\envs\\dl_env\\lib\\site-packages\\sklearn\\utils\\validation.py:2749: UserWarning: X does not have valid feature names, but MinMaxScaler was fitted with feature names\n",
      "  warnings.warn(\n",
      "c:\\Users\\Admin\\miniconda3\\envs\\dl_env\\lib\\site-packages\\sklearn\\utils\\validation.py:2749: UserWarning: X does not have valid feature names, but MinMaxScaler was fitted with feature names\n",
      "  warnings.warn(\n"
     ]
    },
    {
     "name": "stdout",
     "output_type": "stream",
     "text": [
      "\u001b[1m1/1\u001b[0m \u001b[32m━━━━━━━━━━━━━━━━━━━━\u001b[0m\u001b[37m\u001b[0m \u001b[1m0s\u001b[0m 32ms/step\n",
      "\u001b[1m1/1\u001b[0m \u001b[32m━━━━━━━━━━━━━━━━━━━━\u001b[0m\u001b[37m\u001b[0m \u001b[1m0s\u001b[0m 51ms/step\n"
     ]
    },
    {
     "name": "stderr",
     "output_type": "stream",
     "text": [
      "c:\\Users\\Admin\\miniconda3\\envs\\dl_env\\lib\\site-packages\\sklearn\\utils\\validation.py:2749: UserWarning: X does not have valid feature names, but MinMaxScaler was fitted with feature names\n",
      "  warnings.warn(\n",
      "c:\\Users\\Admin\\miniconda3\\envs\\dl_env\\lib\\site-packages\\sklearn\\utils\\validation.py:2749: UserWarning: X does not have valid feature names, but MinMaxScaler was fitted with feature names\n",
      "  warnings.warn(\n"
     ]
    },
    {
     "name": "stdout",
     "output_type": "stream",
     "text": [
      "\u001b[1m1/1\u001b[0m \u001b[32m━━━━━━━━━━━━━━━━━━━━\u001b[0m\u001b[37m\u001b[0m \u001b[1m0s\u001b[0m 27ms/step\n",
      "\u001b[1m1/1\u001b[0m \u001b[32m━━━━━━━━━━━━━━━━━━━━\u001b[0m\u001b[37m\u001b[0m \u001b[1m0s\u001b[0m 52ms/step\n"
     ]
    },
    {
     "name": "stderr",
     "output_type": "stream",
     "text": [
      "c:\\Users\\Admin\\miniconda3\\envs\\dl_env\\lib\\site-packages\\sklearn\\utils\\validation.py:2749: UserWarning: X does not have valid feature names, but MinMaxScaler was fitted with feature names\n",
      "  warnings.warn(\n",
      "c:\\Users\\Admin\\miniconda3\\envs\\dl_env\\lib\\site-packages\\sklearn\\utils\\validation.py:2749: UserWarning: X does not have valid feature names, but MinMaxScaler was fitted with feature names\n",
      "  warnings.warn(\n",
      "c:\\Users\\Admin\\miniconda3\\envs\\dl_env\\lib\\site-packages\\sklearn\\utils\\validation.py:2749: UserWarning: X does not have valid feature names, but MinMaxScaler was fitted with feature names\n",
      "  warnings.warn(\n"
     ]
    },
    {
     "name": "stdout",
     "output_type": "stream",
     "text": [
      "\u001b[1m1/1\u001b[0m \u001b[32m━━━━━━━━━━━━━━━━━━━━\u001b[0m\u001b[37m\u001b[0m \u001b[1m0s\u001b[0m 47ms/step\n",
      "\u001b[1m1/1\u001b[0m \u001b[32m━━━━━━━━━━━━━━━━━━━━\u001b[0m\u001b[37m\u001b[0m \u001b[1m0s\u001b[0m 48ms/step\n",
      "\u001b[1m1/1\u001b[0m \u001b[32m━━━━━━━━━━━━━━━━━━━━\u001b[0m\u001b[37m\u001b[0m \u001b[1m0s\u001b[0m 40ms/step\n"
     ]
    },
    {
     "name": "stderr",
     "output_type": "stream",
     "text": [
      "c:\\Users\\Admin\\miniconda3\\envs\\dl_env\\lib\\site-packages\\sklearn\\utils\\validation.py:2749: UserWarning: X does not have valid feature names, but MinMaxScaler was fitted with feature names\n",
      "  warnings.warn(\n",
      "c:\\Users\\Admin\\miniconda3\\envs\\dl_env\\lib\\site-packages\\sklearn\\utils\\validation.py:2749: UserWarning: X does not have valid feature names, but MinMaxScaler was fitted with feature names\n",
      "  warnings.warn(\n",
      "c:\\Users\\Admin\\miniconda3\\envs\\dl_env\\lib\\site-packages\\sklearn\\utils\\validation.py:2749: UserWarning: X does not have valid feature names, but MinMaxScaler was fitted with feature names\n",
      "  warnings.warn(\n"
     ]
    },
    {
     "name": "stdout",
     "output_type": "stream",
     "text": [
      "\u001b[1m1/1\u001b[0m \u001b[32m━━━━━━━━━━━━━━━━━━━━\u001b[0m\u001b[37m\u001b[0m \u001b[1m0s\u001b[0m 41ms/step\n",
      "\u001b[1m1/1\u001b[0m \u001b[32m━━━━━━━━━━━━━━━━━━━━\u001b[0m\u001b[37m\u001b[0m \u001b[1m0s\u001b[0m 51ms/step\n",
      "\u001b[1m1/1\u001b[0m \u001b[32m━━━━━━━━━━━━━━━━━━━━\u001b[0m\u001b[37m\u001b[0m \u001b[1m0s\u001b[0m 45ms/step\n"
     ]
    },
    {
     "name": "stderr",
     "output_type": "stream",
     "text": [
      "c:\\Users\\Admin\\miniconda3\\envs\\dl_env\\lib\\site-packages\\sklearn\\utils\\validation.py:2749: UserWarning: X does not have valid feature names, but MinMaxScaler was fitted with feature names\n",
      "  warnings.warn(\n",
      "c:\\Users\\Admin\\miniconda3\\envs\\dl_env\\lib\\site-packages\\sklearn\\utils\\validation.py:2749: UserWarning: X does not have valid feature names, but MinMaxScaler was fitted with feature names\n",
      "  warnings.warn(\n",
      "c:\\Users\\Admin\\miniconda3\\envs\\dl_env\\lib\\site-packages\\sklearn\\utils\\validation.py:2749: UserWarning: X does not have valid feature names, but MinMaxScaler was fitted with feature names\n",
      "  warnings.warn(\n"
     ]
    },
    {
     "name": "stdout",
     "output_type": "stream",
     "text": [
      "\u001b[1m1/1\u001b[0m \u001b[32m━━━━━━━━━━━━━━━━━━━━\u001b[0m\u001b[37m\u001b[0m \u001b[1m0s\u001b[0m 42ms/step\n",
      "\u001b[1m1/1\u001b[0m \u001b[32m━━━━━━━━━━━━━━━━━━━━\u001b[0m\u001b[37m\u001b[0m \u001b[1m0s\u001b[0m 50ms/step\n",
      "\u001b[1m1/1\u001b[0m \u001b[32m━━━━━━━━━━━━━━━━━━━━\u001b[0m\u001b[37m\u001b[0m \u001b[1m0s\u001b[0m 30ms/step\n"
     ]
    },
    {
     "name": "stderr",
     "output_type": "stream",
     "text": [
      "c:\\Users\\Admin\\miniconda3\\envs\\dl_env\\lib\\site-packages\\sklearn\\utils\\validation.py:2749: UserWarning: X does not have valid feature names, but MinMaxScaler was fitted with feature names\n",
      "  warnings.warn(\n",
      "c:\\Users\\Admin\\miniconda3\\envs\\dl_env\\lib\\site-packages\\sklearn\\utils\\validation.py:2749: UserWarning: X does not have valid feature names, but MinMaxScaler was fitted with feature names\n",
      "  warnings.warn(\n",
      "c:\\Users\\Admin\\miniconda3\\envs\\dl_env\\lib\\site-packages\\sklearn\\utils\\validation.py:2749: UserWarning: X does not have valid feature names, but MinMaxScaler was fitted with feature names\n",
      "  warnings.warn(\n"
     ]
    },
    {
     "name": "stdout",
     "output_type": "stream",
     "text": [
      "\u001b[1m1/1\u001b[0m \u001b[32m━━━━━━━━━━━━━━━━━━━━\u001b[0m\u001b[37m\u001b[0m \u001b[1m0s\u001b[0m 32ms/step\n",
      "\u001b[1m1/1\u001b[0m \u001b[32m━━━━━━━━━━━━━━━━━━━━\u001b[0m\u001b[37m\u001b[0m \u001b[1m0s\u001b[0m 33ms/step\n",
      "\u001b[1m1/1\u001b[0m \u001b[32m━━━━━━━━━━━━━━━━━━━━\u001b[0m\u001b[37m\u001b[0m \u001b[1m0s\u001b[0m 32ms/step\n"
     ]
    },
    {
     "name": "stderr",
     "output_type": "stream",
     "text": [
      "c:\\Users\\Admin\\miniconda3\\envs\\dl_env\\lib\\site-packages\\sklearn\\utils\\validation.py:2749: UserWarning: X does not have valid feature names, but MinMaxScaler was fitted with feature names\n",
      "  warnings.warn(\n",
      "c:\\Users\\Admin\\miniconda3\\envs\\dl_env\\lib\\site-packages\\sklearn\\utils\\validation.py:2749: UserWarning: X does not have valid feature names, but MinMaxScaler was fitted with feature names\n",
      "  warnings.warn(\n",
      "c:\\Users\\Admin\\miniconda3\\envs\\dl_env\\lib\\site-packages\\sklearn\\utils\\validation.py:2749: UserWarning: X does not have valid feature names, but MinMaxScaler was fitted with feature names\n",
      "  warnings.warn(\n"
     ]
    },
    {
     "name": "stdout",
     "output_type": "stream",
     "text": [
      "\u001b[1m1/1\u001b[0m \u001b[32m━━━━━━━━━━━━━━━━━━━━\u001b[0m\u001b[37m\u001b[0m \u001b[1m0s\u001b[0m 28ms/step\n",
      "\u001b[1m1/1\u001b[0m \u001b[32m━━━━━━━━━━━━━━━━━━━━\u001b[0m\u001b[37m\u001b[0m \u001b[1m0s\u001b[0m 23ms/step\n",
      "\u001b[1m1/1\u001b[0m \u001b[32m━━━━━━━━━━━━━━━━━━━━\u001b[0m\u001b[37m\u001b[0m \u001b[1m0s\u001b[0m 37ms/step\n"
     ]
    },
    {
     "name": "stderr",
     "output_type": "stream",
     "text": [
      "c:\\Users\\Admin\\miniconda3\\envs\\dl_env\\lib\\site-packages\\sklearn\\utils\\validation.py:2749: UserWarning: X does not have valid feature names, but MinMaxScaler was fitted with feature names\n",
      "  warnings.warn(\n",
      "c:\\Users\\Admin\\miniconda3\\envs\\dl_env\\lib\\site-packages\\sklearn\\utils\\validation.py:2749: UserWarning: X does not have valid feature names, but MinMaxScaler was fitted with feature names\n",
      "  warnings.warn(\n",
      "c:\\Users\\Admin\\miniconda3\\envs\\dl_env\\lib\\site-packages\\sklearn\\utils\\validation.py:2749: UserWarning: X does not have valid feature names, but MinMaxScaler was fitted with feature names\n",
      "  warnings.warn(\n"
     ]
    },
    {
     "name": "stdout",
     "output_type": "stream",
     "text": [
      "\u001b[1m1/1\u001b[0m \u001b[32m━━━━━━━━━━━━━━━━━━━━\u001b[0m\u001b[37m\u001b[0m \u001b[1m0s\u001b[0m 43ms/step\n",
      "\u001b[1m1/1\u001b[0m \u001b[32m━━━━━━━━━━━━━━━━━━━━\u001b[0m\u001b[37m\u001b[0m \u001b[1m0s\u001b[0m 64ms/step\n"
     ]
    },
    {
     "name": "stderr",
     "output_type": "stream",
     "text": [
      "c:\\Users\\Admin\\miniconda3\\envs\\dl_env\\lib\\site-packages\\sklearn\\utils\\validation.py:2749: UserWarning: X does not have valid feature names, but MinMaxScaler was fitted with feature names\n",
      "  warnings.warn(\n",
      "c:\\Users\\Admin\\miniconda3\\envs\\dl_env\\lib\\site-packages\\sklearn\\utils\\validation.py:2749: UserWarning: X does not have valid feature names, but MinMaxScaler was fitted with feature names\n",
      "  warnings.warn(\n"
     ]
    },
    {
     "name": "stdout",
     "output_type": "stream",
     "text": [
      "\u001b[1m1/1\u001b[0m \u001b[32m━━━━━━━━━━━━━━━━━━━━\u001b[0m\u001b[37m\u001b[0m \u001b[1m0s\u001b[0m 61ms/step\n",
      "\u001b[1m1/1\u001b[0m \u001b[32m━━━━━━━━━━━━━━━━━━━━\u001b[0m\u001b[37m\u001b[0m \u001b[1m0s\u001b[0m 78ms/step\n"
     ]
    },
    {
     "name": "stderr",
     "output_type": "stream",
     "text": [
      "c:\\Users\\Admin\\miniconda3\\envs\\dl_env\\lib\\site-packages\\sklearn\\utils\\validation.py:2749: UserWarning: X does not have valid feature names, but MinMaxScaler was fitted with feature names\n",
      "  warnings.warn(\n",
      "c:\\Users\\Admin\\miniconda3\\envs\\dl_env\\lib\\site-packages\\sklearn\\utils\\validation.py:2749: UserWarning: X does not have valid feature names, but MinMaxScaler was fitted with feature names\n",
      "  warnings.warn(\n"
     ]
    },
    {
     "name": "stdout",
     "output_type": "stream",
     "text": [
      "\u001b[1m1/1\u001b[0m \u001b[32m━━━━━━━━━━━━━━━━━━━━\u001b[0m\u001b[37m\u001b[0m \u001b[1m0s\u001b[0m 33ms/step\n",
      "\u001b[1m1/1\u001b[0m \u001b[32m━━━━━━━━━━━━━━━━━━━━\u001b[0m\u001b[37m\u001b[0m \u001b[1m0s\u001b[0m 45ms/step\n",
      "\u001b[1m1/1\u001b[0m \u001b[32m━━━━━━━━━━━━━━━━━━━━\u001b[0m\u001b[37m\u001b[0m \u001b[1m0s\u001b[0m 49ms/step\n"
     ]
    },
    {
     "name": "stderr",
     "output_type": "stream",
     "text": [
      "c:\\Users\\Admin\\miniconda3\\envs\\dl_env\\lib\\site-packages\\sklearn\\utils\\validation.py:2749: UserWarning: X does not have valid feature names, but MinMaxScaler was fitted with feature names\n",
      "  warnings.warn(\n",
      "c:\\Users\\Admin\\miniconda3\\envs\\dl_env\\lib\\site-packages\\sklearn\\utils\\validation.py:2749: UserWarning: X does not have valid feature names, but MinMaxScaler was fitted with feature names\n",
      "  warnings.warn(\n"
     ]
    },
    {
     "name": "stdout",
     "output_type": "stream",
     "text": [
      "\u001b[1m1/1\u001b[0m \u001b[32m━━━━━━━━━━━━━━━━━━━━\u001b[0m\u001b[37m\u001b[0m \u001b[1m0s\u001b[0m 57ms/step\n"
     ]
    },
    {
     "name": "stderr",
     "output_type": "stream",
     "text": [
      "c:\\Users\\Admin\\miniconda3\\envs\\dl_env\\lib\\site-packages\\sklearn\\utils\\validation.py:2749: UserWarning: X does not have valid feature names, but MinMaxScaler was fitted with feature names\n",
      "  warnings.warn(\n",
      "c:\\Users\\Admin\\miniconda3\\envs\\dl_env\\lib\\site-packages\\sklearn\\utils\\validation.py:2749: UserWarning: X does not have valid feature names, but MinMaxScaler was fitted with feature names\n",
      "  warnings.warn(\n"
     ]
    },
    {
     "data": {
      "image/png": "[encoded data removed]",
      "text/plain": [
       "<Figure size 1200x500 with 1 Axes>"
      ]
     },
     "metadata": {},
     "output_type": "display_data"
    },
    {
     "name": "stdout",
     "output_type": "stream",
     "text": [
      "\n",
      "=== Training LSTM for Vitamin_C ===\n",
      "Epoch 1/100\n"
     ]
    },
    {
     "name": "stderr",
     "output_type": "stream",
     "text": [
      "c:\\Users\\Admin\\miniconda3\\envs\\dl_env\\lib\\site-packages\\keras\\src\\layers\\rnn\\rnn.py:199: UserWarning: Do not pass an `input_shape`/`input_dim` argument to a layer. When using Sequential models, prefer using an `Input(shape)` object as the first layer in the model instead.\n",
      "  super().__init__(**kwargs)\n"
     ]
    },
    {
     "name": "stdout",
     "output_type": "stream",
     "text": [
      "23/23 - 6s - 251ms/step - loss: 0.0477 - mae: 0.1661 - val_loss: 0.0460 - val_mae: 0.1777\n",
      "Epoch 2/100\n",
      "23/23 - 1s - 25ms/step - loss: 0.0224 - mae: 0.1148 - val_loss: 0.0320 - val_mae: 0.1409\n",
      "Epoch 3/100\n",
      "23/23 - 1s - 25ms/step - loss: 0.0208 - mae: 0.1107 - val_loss: 0.0276 - val_mae: 0.1300\n",
      "Epoch 4/100\n",
      "23/23 - 1s - 25ms/step - loss: 0.0195 - mae: 0.1059 - val_loss: 0.0288 - val_mae: 0.1353\n",
      "Epoch 5/100\n",
      "23/23 - 1s - 25ms/step - loss: 0.0187 - mae: 0.1054 - val_loss: 0.0271 - val_mae: 0.1306\n",
      "Epoch 6/100\n",
      "23/23 - 1s - 26ms/step - loss: 0.0180 - mae: 0.1024 - val_loss: 0.0262 - val_mae: 0.1286\n",
      "Epoch 7/100\n",
      "23/23 - 1s - 24ms/step - loss: 0.0187 - mae: 0.1054 - val_loss: 0.0265 - val_mae: 0.1287\n",
      "Epoch 8/100\n",
      "23/23 - 1s - 31ms/step - loss: 0.0168 - mae: 0.1002 - val_loss: 0.0224 - val_mae: 0.1182\n",
      "Epoch 9/100\n",
      "23/23 - 1s - 29ms/step - loss: 0.0171 - mae: 0.1000 - val_loss: 0.0224 - val_mae: 0.1180\n",
      "Epoch 10/100\n",
      "23/23 - 1s - 26ms/step - loss: 0.0168 - mae: 0.1004 - val_loss: 0.0207 - val_mae: 0.1119\n",
      "Epoch 11/100\n",
      "23/23 - 1s - 27ms/step - loss: 0.0171 - mae: 0.1002 - val_loss: 0.0231 - val_mae: 0.1202\n",
      "Epoch 12/100\n",
      "23/23 - 1s - 32ms/step - loss: 0.0165 - mae: 0.0990 - val_loss: 0.0204 - val_mae: 0.1108\n",
      "Epoch 13/100\n",
      "23/23 - 1s - 37ms/step - loss: 0.0160 - mae: 0.0981 - val_loss: 0.0193 - val_mae: 0.1074\n",
      "Epoch 14/100\n",
      "23/23 - 1s - 24ms/step - loss: 0.0159 - mae: 0.0962 - val_loss: 0.0208 - val_mae: 0.1131\n",
      "Epoch 15/100\n",
      "23/23 - 1s - 23ms/step - loss: 0.0157 - mae: 0.0969 - val_loss: 0.0229 - val_mae: 0.1203\n",
      "Epoch 16/100\n",
      "23/23 - 1s - 29ms/step - loss: 0.0156 - mae: 0.0964 - val_loss: 0.0197 - val_mae: 0.1099\n",
      "Epoch 17/100\n",
      "23/23 - 1s - 29ms/step - loss: 0.0152 - mae: 0.0948 - val_loss: 0.0199 - val_mae: 0.1103\n",
      "Epoch 18/100\n",
      "23/23 - 1s - 24ms/step - loss: 0.0157 - mae: 0.0958 - val_loss: 0.0197 - val_mae: 0.1105\n",
      "Epoch 19/100\n",
      "23/23 - 1s - 25ms/step - loss: 0.0148 - mae: 0.0940 - val_loss: 0.0195 - val_mae: 0.1105\n",
      "Epoch 20/100\n",
      "23/23 - 1s - 39ms/step - loss: 0.0142 - mae: 0.0917 - val_loss: 0.0183 - val_mae: 0.1063\n",
      "Epoch 21/100\n",
      "23/23 - 1s - 39ms/step - loss: 0.0148 - mae: 0.0925 - val_loss: 0.0176 - val_mae: 0.1041\n",
      "Epoch 22/100\n",
      "23/23 - 1s - 33ms/step - loss: 0.0141 - mae: 0.0903 - val_loss: 0.0165 - val_mae: 0.1006\n",
      "Epoch 23/100\n",
      "23/23 - 1s - 28ms/step - loss: 0.0142 - mae: 0.0910 - val_loss: 0.0174 - val_mae: 0.1035\n",
      "Epoch 24/100\n",
      "23/23 - 1s - 33ms/step - loss: 0.0143 - mae: 0.0912 - val_loss: 0.0187 - val_mae: 0.1083\n",
      "Epoch 25/100\n",
      "23/23 - 1s - 31ms/step - loss: 0.0142 - mae: 0.0914 - val_loss: 0.0174 - val_mae: 0.1042\n",
      "Epoch 26/100\n",
      "23/23 - 1s - 31ms/step - loss: 0.0148 - mae: 0.0924 - val_loss: 0.0177 - val_mae: 0.1056\n",
      "Epoch 27/100\n",
      "23/23 - 1s - 27ms/step - loss: 0.0138 - mae: 0.0890 - val_loss: 0.0149 - val_mae: 0.0956\n",
      "Epoch 28/100\n",
      "23/23 - 1s - 25ms/step - loss: 0.0143 - mae: 0.0910 - val_loss: 0.0169 - val_mae: 0.1022\n",
      "Epoch 29/100\n",
      "23/23 - 1s - 24ms/step - loss: 0.0136 - mae: 0.0883 - val_loss: 0.0161 - val_mae: 0.1003\n",
      "Epoch 30/100\n",
      "23/23 - 1s - 25ms/step - loss: 0.0140 - mae: 0.0893 - val_loss: 0.0174 - val_mae: 0.1046\n",
      "Epoch 31/100\n",
      "23/23 - 1s - 25ms/step - loss: 0.0142 - mae: 0.0898 - val_loss: 0.0167 - val_mae: 0.1023\n",
      "Epoch 32/100\n",
      "23/23 - 1s - 26ms/step - loss: 0.0139 - mae: 0.0891 - val_loss: 0.0157 - val_mae: 0.0992\n",
      "Epoch 33/100\n",
      "23/23 - 1s - 28ms/step - loss: 0.0129 - mae: 0.0850 - val_loss: 0.0153 - val_mae: 0.0980\n",
      "Epoch 34/100\n",
      "23/23 - 1s - 25ms/step - loss: 0.0130 - mae: 0.0865 - val_loss: 0.0187 - val_mae: 0.1108\n",
      "Epoch 35/100\n",
      "23/23 - 1s - 25ms/step - loss: 0.0131 - mae: 0.0861 - val_loss: 0.0154 - val_mae: 0.0989\n",
      "Epoch 36/100\n",
      "23/23 - 1s - 24ms/step - loss: 0.0131 - mae: 0.0849 - val_loss: 0.0159 - val_mae: 0.1003\n",
      "Epoch 37/100\n",
      "23/23 - 1s - 26ms/step - loss: 0.0131 - mae: 0.0855 - val_loss: 0.0158 - val_mae: 0.1001\n"
     ]
    },
    {
     "name": "stderr",
     "output_type": "stream",
     "text": [
      "WARNING:absl:You are saving your model as an HDF5 file via `model.save()` or `keras.saving.save_model(model)`. This file format is considered legacy. We recommend using instead the native Keras format, e.g. `model.save('my_model.keras')` or `keras.saving.save_model(model, 'my_model.keras')`. \n"
     ]
    },
    {
     "name": "stdout",
     "output_type": "stream",
     "text": [
      "\u001b[1m5/5\u001b[0m \u001b[32m━━━━━━━━━━━━━━━━━━━━\u001b[0m\u001b[37m\u001b[0m \u001b[1m1s\u001b[0m 104ms/step\n",
      "Vitamin_C Test RMSE: 6.218, MAE: 4.816\n",
      "\u001b[1m1/1\u001b[0m \u001b[32m━━━━━━━━━━━━━━━━━━━━\u001b[0m\u001b[37m\u001b[0m \u001b[1m0s\u001b[0m 43ms/step\n",
      "\u001b[1m1/1\u001b[0m \u001b[32m━━━━━━━━━━━━━━━━━━━━\u001b[0m\u001b[37m\u001b[0m \u001b[1m0s\u001b[0m 43ms/step\n",
      "\u001b[1m1/1\u001b[0m \u001b[32m━━━━━━━━━━━━━━━━━━━━\u001b[0m\u001b[37m\u001b[0m \u001b[1m0s\u001b[0m 44ms/step\n"
     ]
    },
    {
     "name": "stderr",
     "output_type": "stream",
     "text": [
      "c:\\Users\\Admin\\miniconda3\\envs\\dl_env\\lib\\site-packages\\sklearn\\utils\\validation.py:2749: UserWarning: X does not have valid feature names, but MinMaxScaler was fitted with feature names\n",
      "  warnings.warn(\n",
      "c:\\Users\\Admin\\miniconda3\\envs\\dl_env\\lib\\site-packages\\sklearn\\utils\\validation.py:2749: UserWarning: X does not have valid feature names, but MinMaxScaler was fitted with feature names\n",
      "  warnings.warn(\n"
     ]
    },
    {
     "name": "stdout",
     "output_type": "stream",
     "text": [
      "\u001b[1m1/1\u001b[0m \u001b[32m━━━━━━━━━━━━━━━━━━━━\u001b[0m\u001b[37m\u001b[0m \u001b[1m0s\u001b[0m 52ms/step\n",
      "\u001b[1m1/1\u001b[0m \u001b[32m━━━━━━━━━━━━━━━━━━━━\u001b[0m\u001b[37m\u001b[0m \u001b[1m0s\u001b[0m 21ms/step"
     ]
    },
    {
     "name": "stderr",
     "output_type": "stream",
     "text": [
      "c:\\Users\\Admin\\miniconda3\\envs\\dl_env\\lib\\site-packages\\sklearn\\utils\\validation.py:2749: UserWarning: X does not have valid feature names, but MinMaxScaler was fitted with feature names\n",
      "  warnings.warn(\n",
      "c:\\Users\\Admin\\miniconda3\\envs\\dl_env\\lib\\site-packages\\sklearn\\utils\\validation.py:2749: UserWarning: X does not have valid feature names, but MinMaxScaler was fitted with feature names\n",
      "  warnings.warn(\n"
     ]
    },
    {
     "name": "stdout",
     "output_type": "stream",
     "text": [
      "\u001b[1m1/1\u001b[0m \u001b[32m━━━━━━━━━━━━━━━━━━━━\u001b[0m\u001b[37m\u001b[0m \u001b[1m0s\u001b[0m 44ms/step\n",
      "\u001b[1m1/1\u001b[0m \u001b[32m━━━━━━━━━━━━━━━━━━━━\u001b[0m\u001b[37m\u001b[0m \u001b[1m0s\u001b[0m 42ms/step\n",
      "\u001b[1m1/1\u001b[0m \u001b[32m━━━━━━━━━━━━━━━━━━━━\u001b[0m\u001b[37m\u001b[0m \u001b[1m0s\u001b[0m 30ms/step"
     ]
    },
    {
     "name": "stderr",
     "output_type": "stream",
     "text": [
      "c:\\Users\\Admin\\miniconda3\\envs\\dl_env\\lib\\site-packages\\sklearn\\utils\\validation.py:2749: UserWarning: X does not have valid feature names, but MinMaxScaler was fitted with feature names\n",
      "  warnings.warn(\n",
      "c:\\Users\\Admin\\miniconda3\\envs\\dl_env\\lib\\site-packages\\sklearn\\utils\\validation.py:2749: UserWarning: X does not have valid feature names, but MinMaxScaler was fitted with feature names\n",
      "  warnings.warn(\n"
     ]
    },
    {
     "name": "stdout",
     "output_type": "stream",
     "text": [
      "\u001b[1m1/1\u001b[0m \u001b[32m━━━━━━━━━━━━━━━━━━━━\u001b[0m\u001b[37m\u001b[0m \u001b[1m0s\u001b[0m 51ms/step\n",
      "\u001b[1m1/1\u001b[0m \u001b[32m━━━━━━━━━━━━━━━━━━━━\u001b[0m\u001b[37m\u001b[0m \u001b[1m0s\u001b[0m 47ms/step\n"
     ]
    },
    {
     "name": "stderr",
     "output_type": "stream",
     "text": [
      "c:\\Users\\Admin\\miniconda3\\envs\\dl_env\\lib\\site-packages\\sklearn\\utils\\validation.py:2749: UserWarning: X does not have valid feature names, but MinMaxScaler was fitted with feature names\n",
      "  warnings.warn(\n",
      "c:\\Users\\Admin\\miniconda3\\envs\\dl_env\\lib\\site-packages\\sklearn\\utils\\validation.py:2749: UserWarning: X does not have valid feature names, but MinMaxScaler was fitted with feature names\n",
      "  warnings.warn(\n"
     ]
    },
    {
     "name": "stdout",
     "output_type": "stream",
     "text": [
      "\u001b[1m1/1\u001b[0m \u001b[32m━━━━━━━━━━━━━━━━━━━━\u001b[0m\u001b[37m\u001b[0m \u001b[1m0s\u001b[0m 60ms/step\n",
      "\u001b[1m1/1\u001b[0m \u001b[32m━━━━━━━━━━━━━━━━━━━━\u001b[0m\u001b[37m\u001b[0m \u001b[1m0s\u001b[0m 49ms/step\n",
      "\u001b[1m1/1\u001b[0m \u001b[32m━━━━━━━━━━━━━━━━━━━━\u001b[0m\u001b[37m\u001b[0m \u001b[1m0s\u001b[0m 24ms/step"
     ]
    },
    {
     "name": "stderr",
     "output_type": "stream",
     "text": [
      "c:\\Users\\Admin\\miniconda3\\envs\\dl_env\\lib\\site-packages\\sklearn\\utils\\validation.py:2749: UserWarning: X does not have valid feature names, but MinMaxScaler was fitted with feature names\n",
      "  warnings.warn(\n",
      "c:\\Users\\Admin\\miniconda3\\envs\\dl_env\\lib\\site-packages\\sklearn\\utils\\validation.py:2749: UserWarning: X does not have valid feature names, but MinMaxScaler was fitted with feature names\n",
      "  warnings.warn(\n"
     ]
    },
    {
     "name": "stdout",
     "output_type": "stream",
     "text": [
      "\u001b[1m1/1\u001b[0m \u001b[32m━━━━━━━━━━━━━━━━━━━━\u001b[0m\u001b[37m\u001b[0m \u001b[1m0s\u001b[0m 45ms/step\n",
      "\u001b[1m1/1\u001b[0m \u001b[32m━━━━━━━━━━━━━━━━━━━━\u001b[0m\u001b[37m\u001b[0m \u001b[1m0s\u001b[0m 43ms/step\n",
      "\u001b[1m1/1\u001b[0m \u001b[32m━━━━━━━━━━━━━━━━━━━━\u001b[0m\u001b[37m\u001b[0m \u001b[1m0s\u001b[0m 40ms/step\n"
     ]
    },
    {
     "name": "stderr",
     "output_type": "stream",
     "text": [
      "c:\\Users\\Admin\\miniconda3\\envs\\dl_env\\lib\\site-packages\\sklearn\\utils\\validation.py:2749: UserWarning: X does not have valid feature names, but MinMaxScaler was fitted with feature names\n",
      "  warnings.warn(\n",
      "c:\\Users\\Admin\\miniconda3\\envs\\dl_env\\lib\\site-packages\\sklearn\\utils\\validation.py:2749: UserWarning: X does not have valid feature names, but MinMaxScaler was fitted with feature names\n",
      "  warnings.warn(\n"
     ]
    },
    {
     "name": "stdout",
     "output_type": "stream",
     "text": [
      "\u001b[1m1/1\u001b[0m \u001b[32m━━━━━━━━━━━━━━━━━━━━\u001b[0m\u001b[37m\u001b[0m \u001b[1m0s\u001b[0m 44ms/step\n",
      "\u001b[1m1/1\u001b[0m \u001b[32m━━━━━━━━━━━━━━━━━━━━\u001b[0m\u001b[37m\u001b[0m \u001b[1m0s\u001b[0m 25ms/step"
     ]
    },
    {
     "name": "stderr",
     "output_type": "stream",
     "text": [
      "c:\\Users\\Admin\\miniconda3\\envs\\dl_env\\lib\\site-packages\\sklearn\\utils\\validation.py:2749: UserWarning: X does not have valid feature names, but MinMaxScaler was fitted with feature names\n",
      "  warnings.warn(\n",
      "c:\\Users\\Admin\\miniconda3\\envs\\dl_env\\lib\\site-packages\\sklearn\\utils\\validation.py:2749: UserWarning: X does not have valid feature names, but MinMaxScaler was fitted with feature names\n",
      "  warnings.warn(\n"
     ]
    },
    {
     "name": "stdout",
     "output_type": "stream",
     "text": [
      "\u001b[1m1/1\u001b[0m \u001b[32m━━━━━━━━━━━━━━━━━━━━\u001b[0m\u001b[37m\u001b[0m \u001b[1m0s\u001b[0m 41ms/step\n",
      "\u001b[1m1/1\u001b[0m \u001b[32m━━━━━━━━━━━━━━━━━━━━\u001b[0m\u001b[37m\u001b[0m \u001b[1m0s\u001b[0m 42ms/step\n",
      "\u001b[1m1/1\u001b[0m \u001b[32m━━━━━━━━━━━━━━━━━━━━\u001b[0m\u001b[37m\u001b[0m \u001b[1m0s\u001b[0m 25ms/step\n"
     ]
    },
    {
     "name": "stderr",
     "output_type": "stream",
     "text": [
      "c:\\Users\\Admin\\miniconda3\\envs\\dl_env\\lib\\site-packages\\sklearn\\utils\\validation.py:2749: UserWarning: X does not have valid feature names, but MinMaxScaler was fitted with feature names\n",
      "  warnings.warn(\n",
      "c:\\Users\\Admin\\miniconda3\\envs\\dl_env\\lib\\site-packages\\sklearn\\utils\\validation.py:2749: UserWarning: X does not have valid feature names, but MinMaxScaler was fitted with feature names\n",
      "  warnings.warn(\n"
     ]
    },
    {
     "name": "stdout",
     "output_type": "stream",
     "text": [
      "\u001b[1m1/1\u001b[0m \u001b[32m━━━━━━━━━━━━━━━━━━━━\u001b[0m\u001b[37m\u001b[0m \u001b[1m0s\u001b[0m 47ms/step\n",
      "\u001b[1m1/1\u001b[0m \u001b[32m━━━━━━━━━━━━━━━━━━━━\u001b[0m\u001b[37m\u001b[0m \u001b[1m0s\u001b[0m 42ms/step\n"
     ]
    },
    {
     "name": "stderr",
     "output_type": "stream",
     "text": [
      "c:\\Users\\Admin\\miniconda3\\envs\\dl_env\\lib\\site-packages\\sklearn\\utils\\validation.py:2749: UserWarning: X does not have valid feature names, but MinMaxScaler was fitted with feature names\n",
      "  warnings.warn(\n",
      "c:\\Users\\Admin\\miniconda3\\envs\\dl_env\\lib\\site-packages\\sklearn\\utils\\validation.py:2749: UserWarning: X does not have valid feature names, but MinMaxScaler was fitted with feature names\n",
      "  warnings.warn(\n"
     ]
    },
    {
     "name": "stdout",
     "output_type": "stream",
     "text": [
      "\u001b[1m1/1\u001b[0m \u001b[32m━━━━━━━━━━━━━━━━━━━━\u001b[0m\u001b[37m\u001b[0m \u001b[1m0s\u001b[0m 40ms/step\n",
      "\u001b[1m1/1\u001b[0m \u001b[32m━━━━━━━━━━━━━━━━━━━━\u001b[0m\u001b[37m\u001b[0m \u001b[1m0s\u001b[0m 22ms/step"
     ]
    },
    {
     "name": "stderr",
     "output_type": "stream",
     "text": [
      "c:\\Users\\Admin\\miniconda3\\envs\\dl_env\\lib\\site-packages\\sklearn\\utils\\validation.py:2749: UserWarning: X does not have valid feature names, but MinMaxScaler was fitted with feature names\n",
      "  warnings.warn(\n",
      "c:\\Users\\Admin\\miniconda3\\envs\\dl_env\\lib\\site-packages\\sklearn\\utils\\validation.py:2749: UserWarning: X does not have valid feature names, but MinMaxScaler was fitted with feature names\n",
      "  warnings.warn(\n"
     ]
    },
    {
     "name": "stdout",
     "output_type": "stream",
     "text": [
      "\u001b[1m1/1\u001b[0m \u001b[32m━━━━━━━━━━━━━━━━━━━━\u001b[0m\u001b[37m\u001b[0m \u001b[1m0s\u001b[0m 28ms/step\n",
      "\u001b[1m1/1\u001b[0m \u001b[32m━━━━━━━━━━━━━━━━━━━━\u001b[0m\u001b[37m\u001b[0m \u001b[1m0s\u001b[0m 31ms/step\n"
     ]
    },
    {
     "name": "stderr",
     "output_type": "stream",
     "text": [
      "c:\\Users\\Admin\\miniconda3\\envs\\dl_env\\lib\\site-packages\\sklearn\\utils\\validation.py:2749: UserWarning: X does not have valid feature names, but MinMaxScaler was fitted with feature names\n",
      "  warnings.warn(\n",
      "c:\\Users\\Admin\\miniconda3\\envs\\dl_env\\lib\\site-packages\\sklearn\\utils\\validation.py:2749: UserWarning: X does not have valid feature names, but MinMaxScaler was fitted with feature names\n",
      "  warnings.warn(\n"
     ]
    },
    {
     "name": "stdout",
     "output_type": "stream",
     "text": [
      "\u001b[1m1/1\u001b[0m \u001b[32m━━━━━━━━━━━━━━━━━━━━\u001b[0m\u001b[37m\u001b[0m \u001b[1m0s\u001b[0m 40ms/step\n",
      "\u001b[1m1/1\u001b[0m \u001b[32m━━━━━━━━━━━━━━━━━━━━\u001b[0m\u001b[37m\u001b[0m \u001b[1m0s\u001b[0m 30ms/step\n",
      "\u001b[1m1/1\u001b[0m \u001b[32m━━━━━━━━━━━━━━━━━━━━\u001b[0m\u001b[37m\u001b[0m \u001b[1m0s\u001b[0m 32ms/step\n"
     ]
    },
    {
     "name": "stderr",
     "output_type": "stream",
     "text": [
      "c:\\Users\\Admin\\miniconda3\\envs\\dl_env\\lib\\site-packages\\sklearn\\utils\\validation.py:2749: UserWarning: X does not have valid feature names, but MinMaxScaler was fitted with feature names\n",
      "  warnings.warn(\n",
      "c:\\Users\\Admin\\miniconda3\\envs\\dl_env\\lib\\site-packages\\sklearn\\utils\\validation.py:2749: UserWarning: X does not have valid feature names, but MinMaxScaler was fitted with feature names\n",
      "  warnings.warn(\n"
     ]
    },
    {
     "name": "stdout",
     "output_type": "stream",
     "text": [
      "\u001b[1m1/1\u001b[0m \u001b[32m━━━━━━━━━━━━━━━━━━━━\u001b[0m\u001b[37m\u001b[0m \u001b[1m0s\u001b[0m 41ms/step\n",
      "\u001b[1m1/1\u001b[0m \u001b[32m━━━━━━━━━━━━━━━━━━━━\u001b[0m\u001b[37m\u001b[0m \u001b[1m0s\u001b[0m 34ms/step\n"
     ]
    },
    {
     "name": "stderr",
     "output_type": "stream",
     "text": [
      "c:\\Users\\Admin\\miniconda3\\envs\\dl_env\\lib\\site-packages\\sklearn\\utils\\validation.py:2749: UserWarning: X does not have valid feature names, but MinMaxScaler was fitted with feature names\n",
      "  warnings.warn(\n",
      "c:\\Users\\Admin\\miniconda3\\envs\\dl_env\\lib\\site-packages\\sklearn\\utils\\validation.py:2749: UserWarning: X does not have valid feature names, but MinMaxScaler was fitted with feature names\n",
      "  warnings.warn(\n"
     ]
    },
    {
     "name": "stdout",
     "output_type": "stream",
     "text": [
      "\u001b[1m1/1\u001b[0m \u001b[32m━━━━━━━━━━━━━━━━━━━━\u001b[0m\u001b[37m\u001b[0m \u001b[1m0s\u001b[0m 46ms/step\n",
      "\u001b[1m1/1\u001b[0m \u001b[32m━━━━━━━━━━━━━━━━━━━━\u001b[0m\u001b[37m\u001b[0m \u001b[1m0s\u001b[0m 25ms/step"
     ]
    },
    {
     "name": "stderr",
     "output_type": "stream",
     "text": [
      "c:\\Users\\Admin\\miniconda3\\envs\\dl_env\\lib\\site-packages\\sklearn\\utils\\validation.py:2749: UserWarning: X does not have valid feature names, but MinMaxScaler was fitted with feature names\n",
      "  warnings.warn(\n",
      "c:\\Users\\Admin\\miniconda3\\envs\\dl_env\\lib\\site-packages\\sklearn\\utils\\validation.py:2749: UserWarning: X does not have valid feature names, but MinMaxScaler was fitted with feature names\n",
      "  warnings.warn(\n"
     ]
    },
    {
     "name": "stdout",
     "output_type": "stream",
     "text": [
      "\u001b[1m1/1\u001b[0m \u001b[32m━━━━━━━━━━━━━━━━━━━━\u001b[0m\u001b[37m\u001b[0m \u001b[1m0s\u001b[0m 29ms/step\n",
      "\u001b[1m1/1\u001b[0m \u001b[32m━━━━━━━━━━━━━━━━━━━━\u001b[0m\u001b[37m\u001b[0m \u001b[1m0s\u001b[0m 43ms/step\n"
     ]
    },
    {
     "name": "stderr",
     "output_type": "stream",
     "text": [
      "c:\\Users\\Admin\\miniconda3\\envs\\dl_env\\lib\\site-packages\\sklearn\\utils\\validation.py:2749: UserWarning: X does not have valid feature names, but MinMaxScaler was fitted with feature names\n",
      "  warnings.warn(\n",
      "c:\\Users\\Admin\\miniconda3\\envs\\dl_env\\lib\\site-packages\\sklearn\\utils\\validation.py:2749: UserWarning: X does not have valid feature names, but MinMaxScaler was fitted with feature names\n",
      "  warnings.warn(\n"
     ]
    },
    {
     "data": {
      "image/png": "[encoded data removed]",
      "text/plain": [
       "<Figure size 1200x500 with 1 Axes>"
      ]
     },
     "metadata": {},
     "output_type": "display_data"
    },
    {
     "name": "stdout",
     "output_type": "stream",
     "text": [
      "\n",
      "=== Training LSTM for Antibiotic_A ===\n",
      "Epoch 1/100\n"
     ]
    },
    {
     "name": "stderr",
     "output_type": "stream",
     "text": [
      "c:\\Users\\Admin\\miniconda3\\envs\\dl_env\\lib\\site-packages\\keras\\src\\layers\\rnn\\rnn.py:199: UserWarning: Do not pass an `input_shape`/`input_dim` argument to a layer. When using Sequential models, prefer using an `Input(shape)` object as the first layer in the model instead.\n",
      "  super().__init__(**kwargs)\n"
     ]
    },
    {
     "name": "stdout",
     "output_type": "stream",
     "text": [
      "23/23 - 4s - 175ms/step - loss: 0.0567 - mae: 0.1861 - val_loss: 0.0699 - val_mae: 0.2020\n",
      "Epoch 2/100\n",
      "23/23 - 1s - 27ms/step - loss: 0.0264 - mae: 0.1242 - val_loss: 0.0581 - val_mae: 0.1817\n",
      "Epoch 3/100\n",
      "23/23 - 1s - 24ms/step - loss: 0.0225 - mae: 0.1151 - val_loss: 0.0473 - val_mae: 0.1647\n",
      "Epoch 4/100\n",
      "23/23 - 1s - 24ms/step - loss: 0.0204 - mae: 0.1095 - val_loss: 0.0423 - val_mae: 0.1571\n",
      "Epoch 5/100\n",
      "23/23 - 1s - 23ms/step - loss: 0.0214 - mae: 0.1119 - val_loss: 0.0396 - val_mae: 0.1529\n",
      "Epoch 6/100\n",
      "23/23 - 1s - 24ms/step - loss: 0.0205 - mae: 0.1094 - val_loss: 0.0370 - val_mae: 0.1487\n",
      "Epoch 7/100\n",
      "23/23 - 1s - 24ms/step - loss: 0.0192 - mae: 0.1067 - val_loss: 0.0360 - val_mae: 0.1465\n",
      "Epoch 8/100\n",
      "23/23 - 1s - 24ms/step - loss: 0.0186 - mae: 0.1048 - val_loss: 0.0384 - val_mae: 0.1506\n",
      "Epoch 9/100\n",
      "23/23 - 1s - 24ms/step - loss: 0.0183 - mae: 0.1046 - val_loss: 0.0281 - val_mae: 0.1343\n",
      "Epoch 10/100\n",
      "23/23 - 1s - 25ms/step - loss: 0.0179 - mae: 0.1042 - val_loss: 0.0325 - val_mae: 0.1412\n",
      "Epoch 11/100\n",
      "23/23 - 1s - 24ms/step - loss: 0.0177 - mae: 0.1028 - val_loss: 0.0297 - val_mae: 0.1357\n",
      "Epoch 12/100\n",
      "23/23 - 1s - 24ms/step - loss: 0.0173 - mae: 0.0997 - val_loss: 0.0273 - val_mae: 0.1306\n",
      "Epoch 13/100\n",
      "23/23 - 1s - 24ms/step - loss: 0.0173 - mae: 0.1010 - val_loss: 0.0325 - val_mae: 0.1409\n",
      "Epoch 14/100\n",
      "23/23 - 1s - 24ms/step - loss: 0.0163 - mae: 0.0972 - val_loss: 0.0275 - val_mae: 0.1306\n",
      "Epoch 15/100\n",
      "23/23 - 1s - 24ms/step - loss: 0.0163 - mae: 0.0983 - val_loss: 0.0277 - val_mae: 0.1304\n",
      "Epoch 16/100\n",
      "23/23 - 1s - 23ms/step - loss: 0.0160 - mae: 0.0967 - val_loss: 0.0280 - val_mae: 0.1308\n",
      "Epoch 17/100\n",
      "23/23 - 1s - 23ms/step - loss: 0.0162 - mae: 0.0979 - val_loss: 0.0287 - val_mae: 0.1323\n",
      "Epoch 18/100\n",
      "23/23 - 1s - 23ms/step - loss: 0.0155 - mae: 0.0972 - val_loss: 0.0265 - val_mae: 0.1271\n",
      "Epoch 19/100\n",
      "23/23 - 1s - 23ms/step - loss: 0.0157 - mae: 0.0961 - val_loss: 0.0268 - val_mae: 0.1267\n",
      "Epoch 20/100\n",
      "23/23 - 1s - 24ms/step - loss: 0.0160 - mae: 0.0974 - val_loss: 0.0272 - val_mae: 0.1282\n",
      "Epoch 21/100\n",
      "23/23 - 1s - 24ms/step - loss: 0.0159 - mae: 0.0959 - val_loss: 0.0268 - val_mae: 0.1273\n",
      "Epoch 22/100\n",
      "23/23 - 1s - 24ms/step - loss: 0.0152 - mae: 0.0940 - val_loss: 0.0272 - val_mae: 0.1275\n",
      "Epoch 23/100\n",
      "23/23 - 1s - 24ms/step - loss: 0.0148 - mae: 0.0932 - val_loss: 0.0249 - val_mae: 0.1222\n",
      "Epoch 24/100\n",
      "23/23 - 1s - 24ms/step - loss: 0.0144 - mae: 0.0923 - val_loss: 0.0272 - val_mae: 0.1278\n",
      "Epoch 25/100\n",
      "23/23 - 1s - 26ms/step - loss: 0.0151 - mae: 0.0941 - val_loss: 0.0270 - val_mae: 0.1273\n",
      "Epoch 26/100\n",
      "23/23 - 1s - 26ms/step - loss: 0.0149 - mae: 0.0932 - val_loss: 0.0227 - val_mae: 0.1161\n",
      "Epoch 27/100\n",
      "23/23 - 1s - 28ms/step - loss: 0.0143 - mae: 0.0912 - val_loss: 0.0244 - val_mae: 0.1205\n",
      "Epoch 28/100\n",
      "23/23 - 1s - 27ms/step - loss: 0.0141 - mae: 0.0914 - val_loss: 0.0252 - val_mae: 0.1217\n",
      "Epoch 29/100\n",
      "23/23 - 1s - 26ms/step - loss: 0.0144 - mae: 0.0907 - val_loss: 0.0283 - val_mae: 0.1298\n",
      "Epoch 30/100\n",
      "23/23 - 1s - 26ms/step - loss: 0.0143 - mae: 0.0906 - val_loss: 0.0231 - val_mae: 0.1169\n",
      "Epoch 31/100\n",
      "23/23 - 1s - 26ms/step - loss: 0.0141 - mae: 0.0898 - val_loss: 0.0246 - val_mae: 0.1205\n",
      "Epoch 32/100\n",
      "23/23 - 1s - 28ms/step - loss: 0.0137 - mae: 0.0887 - val_loss: 0.0242 - val_mae: 0.1192\n",
      "Epoch 33/100\n",
      "23/23 - 1s - 28ms/step - loss: 0.0137 - mae: 0.0887 - val_loss: 0.0264 - val_mae: 0.1240\n",
      "Epoch 34/100\n",
      "23/23 - 1s - 36ms/step - loss: 0.0144 - mae: 0.0908 - val_loss: 0.0264 - val_mae: 0.1248\n",
      "Epoch 35/100\n",
      "23/23 - 1s - 29ms/step - loss: 0.0136 - mae: 0.0877 - val_loss: 0.0250 - val_mae: 0.1205\n",
      "Epoch 36/100\n",
      "23/23 - 1s - 31ms/step - loss: 0.0138 - mae: 0.0884 - val_loss: 0.0238 - val_mae: 0.1171\n"
     ]
    },
    {
     "name": "stderr",
     "output_type": "stream",
     "text": [
      "WARNING:absl:You are saving your model as an HDF5 file via `model.save()` or `keras.saving.save_model(model)`. This file format is considered legacy. We recommend using instead the native Keras format, e.g. `model.save('my_model.keras')` or `keras.saving.save_model(model, 'my_model.keras')`. \n"
     ]
    },
    {
     "name": "stdout",
     "output_type": "stream",
     "text": [
      "\u001b[1m5/5\u001b[0m \u001b[32m━━━━━━━━━━━━━━━━━━━━\u001b[0m\u001b[37m\u001b[0m \u001b[1m1s\u001b[0m 120ms/step\n",
      "Antibiotic_A Test RMSE: 6.079, MAE: 4.751\n",
      "\u001b[1m1/1\u001b[0m \u001b[32m━━━━━━━━━━━━━━━━━━━━\u001b[0m\u001b[37m\u001b[0m \u001b[1m0s\u001b[0m 32ms/step\n",
      "\u001b[1m1/1\u001b[0m \u001b[32m━━━━━━━━━━━━━━━━━━━━\u001b[0m\u001b[37m\u001b[0m \u001b[1m0s\u001b[0m 51ms/step\n",
      "\u001b[1m1/1\u001b[0m \u001b[32m━━━━━━━━━━━━━━━━━━━━\u001b[0m\u001b[37m\u001b[0m \u001b[1m0s\u001b[0m 58ms/step\n"
     ]
    },
    {
     "name": "stderr",
     "output_type": "stream",
     "text": [
      "c:\\Users\\Admin\\miniconda3\\envs\\dl_env\\lib\\site-packages\\sklearn\\utils\\validation.py:2749: UserWarning: X does not have valid feature names, but MinMaxScaler was fitted with feature names\n",
      "  warnings.warn(\n",
      "c:\\Users\\Admin\\miniconda3\\envs\\dl_env\\lib\\site-packages\\sklearn\\utils\\validation.py:2749: UserWarning: X does not have valid feature names, but MinMaxScaler was fitted with feature names\n",
      "  warnings.warn(\n",
      "c:\\Users\\Admin\\miniconda3\\envs\\dl_env\\lib\\site-packages\\sklearn\\utils\\validation.py:2749: UserWarning: X does not have valid feature names, but MinMaxScaler was fitted with feature names\n",
      "  warnings.warn(\n"
     ]
    },
    {
     "name": "stdout",
     "output_type": "stream",
     "text": [
      "\u001b[1m1/1\u001b[0m \u001b[32m━━━━━━━━━━━━━━━━━━━━\u001b[0m\u001b[37m\u001b[0m \u001b[1m0s\u001b[0m 40ms/step\n",
      "\u001b[1m1/1\u001b[0m \u001b[32m━━━━━━━━━━━━━━━━━━━━\u001b[0m\u001b[37m\u001b[0m \u001b[1m0s\u001b[0m 38ms/step\n",
      "\u001b[1m1/1\u001b[0m \u001b[32m━━━━━━━━━━━━━━━━━━━━\u001b[0m\u001b[37m\u001b[0m \u001b[1m0s\u001b[0m 32ms/step"
     ]
    },
    {
     "name": "stderr",
     "output_type": "stream",
     "text": [
      "c:\\Users\\Admin\\miniconda3\\envs\\dl_env\\lib\\site-packages\\sklearn\\utils\\validation.py:2749: UserWarning: X does not have valid feature names, but MinMaxScaler was fitted with feature names\n",
      "  warnings.warn(\n",
      "c:\\Users\\Admin\\miniconda3\\envs\\dl_env\\lib\\site-packages\\sklearn\\utils\\validation.py:2749: UserWarning: X does not have valid feature names, but MinMaxScaler was fitted with feature names\n",
      "  warnings.warn(\n"
     ]
    },
    {
     "name": "stdout",
     "output_type": "stream",
     "text": [
      "\u001b[1m1/1\u001b[0m \u001b[32m━━━━━━━━━━━━━━━━━━━━\u001b[0m\u001b[37m\u001b[0m \u001b[1m0s\u001b[0m 54ms/step\n",
      "\u001b[1m1/1\u001b[0m \u001b[32m━━━━━━━━━━━━━━━━━━━━\u001b[0m\u001b[37m\u001b[0m \u001b[1m0s\u001b[0m 31ms/step\n",
      "\u001b[1m1/1\u001b[0m \u001b[32m━━━━━━━━━━━━━━━━━━━━\u001b[0m\u001b[37m\u001b[0m \u001b[1m0s\u001b[0m 62ms/step\n"
     ]
    },
    {
     "name": "stderr",
     "output_type": "stream",
     "text": [
      "c:\\Users\\Admin\\miniconda3\\envs\\dl_env\\lib\\site-packages\\sklearn\\utils\\validation.py:2749: UserWarning: X does not have valid feature names, but MinMaxScaler was fitted with feature names\n",
      "  warnings.warn(\n",
      "c:\\Users\\Admin\\miniconda3\\envs\\dl_env\\lib\\site-packages\\sklearn\\utils\\validation.py:2749: UserWarning: X does not have valid feature names, but MinMaxScaler was fitted with feature names\n",
      "  warnings.warn(\n"
     ]
    },
    {
     "name": "stdout",
     "output_type": "stream",
     "text": [
      "\u001b[1m1/1\u001b[0m \u001b[32m━━━━━━━━━━━━━━━━━━━━\u001b[0m\u001b[37m\u001b[0m \u001b[1m0s\u001b[0m 46ms/step\n",
      "\u001b[1m1/1\u001b[0m \u001b[32m━━━━━━━━━━━━━━━━━━━━\u001b[0m\u001b[37m\u001b[0m \u001b[1m0s\u001b[0m 44ms/step\n"
     ]
    },
    {
     "name": "stderr",
     "output_type": "stream",
     "text": [
      "c:\\Users\\Admin\\miniconda3\\envs\\dl_env\\lib\\site-packages\\sklearn\\utils\\validation.py:2749: UserWarning: X does not have valid feature names, but MinMaxScaler was fitted with feature names\n",
      "  warnings.warn(\n",
      "c:\\Users\\Admin\\miniconda3\\envs\\dl_env\\lib\\site-packages\\sklearn\\utils\\validation.py:2749: UserWarning: X does not have valid feature names, but MinMaxScaler was fitted with feature names\n",
      "  warnings.warn(\n"
     ]
    },
    {
     "name": "stdout",
     "output_type": "stream",
     "text": [
      "\u001b[1m1/1\u001b[0m \u001b[32m━━━━━━━━━━━━━━━━━━━━\u001b[0m\u001b[37m\u001b[0m \u001b[1m0s\u001b[0m 44ms/step\n",
      "\u001b[1m1/1\u001b[0m \u001b[32m━━━━━━━━━━━━━━━━━━━━\u001b[0m\u001b[37m\u001b[0m \u001b[1m0s\u001b[0m 48ms/step\n"
     ]
    },
    {
     "name": "stderr",
     "output_type": "stream",
     "text": [
      "c:\\Users\\Admin\\miniconda3\\envs\\dl_env\\lib\\site-packages\\sklearn\\utils\\validation.py:2749: UserWarning: X does not have valid feature names, but MinMaxScaler was fitted with feature names\n",
      "  warnings.warn(\n",
      "c:\\Users\\Admin\\miniconda3\\envs\\dl_env\\lib\\site-packages\\sklearn\\utils\\validation.py:2749: UserWarning: X does not have valid feature names, but MinMaxScaler was fitted with feature names\n",
      "  warnings.warn(\n"
     ]
    },
    {
     "name": "stdout",
     "output_type": "stream",
     "text": [
      "\u001b[1m1/1\u001b[0m \u001b[32m━━━━━━━━━━━━━━━━━━━━\u001b[0m\u001b[37m\u001b[0m \u001b[1m0s\u001b[0m 67ms/step\n",
      "\u001b[1m1/1\u001b[0m \u001b[32m━━━━━━━━━━━━━━━━━━━━\u001b[0m\u001b[37m\u001b[0m \u001b[1m0s\u001b[0m 32ms/step\n"
     ]
    },
    {
     "name": "stderr",
     "output_type": "stream",
     "text": [
      "c:\\Users\\Admin\\miniconda3\\envs\\dl_env\\lib\\site-packages\\sklearn\\utils\\validation.py:2749: UserWarning: X does not have valid feature names, but MinMaxScaler was fitted with feature names\n",
      "  warnings.warn(\n",
      "c:\\Users\\Admin\\miniconda3\\envs\\dl_env\\lib\\site-packages\\sklearn\\utils\\validation.py:2749: UserWarning: X does not have valid feature names, but MinMaxScaler was fitted with feature names\n",
      "  warnings.warn(\n",
      "c:\\Users\\Admin\\miniconda3\\envs\\dl_env\\lib\\site-packages\\sklearn\\utils\\validation.py:2749: UserWarning: X does not have valid feature names, but MinMaxScaler was fitted with feature names\n",
      "  warnings.warn(\n"
     ]
    },
    {
     "name": "stdout",
     "output_type": "stream",
     "text": [
      "\u001b[1m1/1\u001b[0m \u001b[32m━━━━━━━━━━━━━━━━━━━━\u001b[0m\u001b[37m\u001b[0m \u001b[1m0s\u001b[0m 31ms/step\n",
      "\u001b[1m1/1\u001b[0m \u001b[32m━━━━━━━━━━━━━━━━━━━━\u001b[0m\u001b[37m\u001b[0m \u001b[1m0s\u001b[0m 36ms/step\n",
      "\u001b[1m1/1\u001b[0m \u001b[32m━━━━━━━━━━━━━━━━━━━━\u001b[0m\u001b[37m\u001b[0m \u001b[1m0s\u001b[0m 37ms/step\n"
     ]
    },
    {
     "name": "stderr",
     "output_type": "stream",
     "text": [
      "c:\\Users\\Admin\\miniconda3\\envs\\dl_env\\lib\\site-packages\\sklearn\\utils\\validation.py:2749: UserWarning: X does not have valid feature names, but MinMaxScaler was fitted with feature names\n",
      "  warnings.warn(\n",
      "c:\\Users\\Admin\\miniconda3\\envs\\dl_env\\lib\\site-packages\\sklearn\\utils\\validation.py:2749: UserWarning: X does not have valid feature names, but MinMaxScaler was fitted with feature names\n",
      "  warnings.warn(\n",
      "c:\\Users\\Admin\\miniconda3\\envs\\dl_env\\lib\\site-packages\\sklearn\\utils\\validation.py:2749: UserWarning: X does not have valid feature names, but MinMaxScaler was fitted with feature names\n",
      "  warnings.warn(\n"
     ]
    },
    {
     "name": "stdout",
     "output_type": "stream",
     "text": [
      "\u001b[1m1/1\u001b[0m \u001b[32m━━━━━━━━━━━━━━━━━━━━\u001b[0m\u001b[37m\u001b[0m \u001b[1m0s\u001b[0m 57ms/step\n",
      "\u001b[1m1/1\u001b[0m \u001b[32m━━━━━━━━━━━━━━━━━━━━\u001b[0m\u001b[37m\u001b[0m \u001b[1m0s\u001b[0m 50ms/step\n",
      "\u001b[1m1/1\u001b[0m \u001b[32m━━━━━━━━━━━━━━━━━━━━\u001b[0m\u001b[37m\u001b[0m \u001b[1m0s\u001b[0m 46ms/step\n"
     ]
    },
    {
     "name": "stderr",
     "output_type": "stream",
     "text": [
      "c:\\Users\\Admin\\miniconda3\\envs\\dl_env\\lib\\site-packages\\sklearn\\utils\\validation.py:2749: UserWarning: X does not have valid feature names, but MinMaxScaler was fitted with feature names\n",
      "  warnings.warn(\n",
      "c:\\Users\\Admin\\miniconda3\\envs\\dl_env\\lib\\site-packages\\sklearn\\utils\\validation.py:2749: UserWarning: X does not have valid feature names, but MinMaxScaler was fitted with feature names\n",
      "  warnings.warn(\n",
      "c:\\Users\\Admin\\miniconda3\\envs\\dl_env\\lib\\site-packages\\sklearn\\utils\\validation.py:2749: UserWarning: X does not have valid feature names, but MinMaxScaler was fitted with feature names\n",
      "  warnings.warn(\n"
     ]
    },
    {
     "name": "stdout",
     "output_type": "stream",
     "text": [
      "\u001b[1m1/1\u001b[0m \u001b[32m━━━━━━━━━━━━━━━━━━━━\u001b[0m\u001b[37m\u001b[0m \u001b[1m0s\u001b[0m 36ms/step\n",
      "\u001b[1m1/1\u001b[0m \u001b[32m━━━━━━━━━━━━━━━━━━━━\u001b[0m\u001b[37m\u001b[0m \u001b[1m0s\u001b[0m 48ms/step\n",
      "\u001b[1m1/1\u001b[0m \u001b[32m━━━━━━━━━━━━━━━━━━━━\u001b[0m\u001b[37m\u001b[0m \u001b[1m0s\u001b[0m 52ms/step\n"
     ]
    },
    {
     "name": "stderr",
     "output_type": "stream",
     "text": [
      "c:\\Users\\Admin\\miniconda3\\envs\\dl_env\\lib\\site-packages\\sklearn\\utils\\validation.py:2749: UserWarning: X does not have valid feature names, but MinMaxScaler was fitted with feature names\n",
      "  warnings.warn(\n",
      "c:\\Users\\Admin\\miniconda3\\envs\\dl_env\\lib\\site-packages\\sklearn\\utils\\validation.py:2749: UserWarning: X does not have valid feature names, but MinMaxScaler was fitted with feature names\n",
      "  warnings.warn(\n"
     ]
    },
    {
     "name": "stdout",
     "output_type": "stream",
     "text": [
      "\u001b[1m1/1\u001b[0m \u001b[32m━━━━━━━━━━━━━━━━━━━━\u001b[0m\u001b[37m\u001b[0m \u001b[1m0s\u001b[0m 34ms/step\n",
      "\u001b[1m1/1\u001b[0m \u001b[32m━━━━━━━━━━━━━━━━━━━━\u001b[0m\u001b[37m\u001b[0m \u001b[1m0s\u001b[0m 56ms/step\n"
     ]
    },
    {
     "name": "stderr",
     "output_type": "stream",
     "text": [
      "c:\\Users\\Admin\\miniconda3\\envs\\dl_env\\lib\\site-packages\\sklearn\\utils\\validation.py:2749: UserWarning: X does not have valid feature names, but MinMaxScaler was fitted with feature names\n",
      "  warnings.warn(\n",
      "c:\\Users\\Admin\\miniconda3\\envs\\dl_env\\lib\\site-packages\\sklearn\\utils\\validation.py:2749: UserWarning: X does not have valid feature names, but MinMaxScaler was fitted with feature names\n",
      "  warnings.warn(\n",
      "c:\\Users\\Admin\\miniconda3\\envs\\dl_env\\lib\\site-packages\\sklearn\\utils\\validation.py:2749: UserWarning: X does not have valid feature names, but MinMaxScaler was fitted with feature names\n",
      "  warnings.warn(\n"
     ]
    },
    {
     "name": "stdout",
     "output_type": "stream",
     "text": [
      "\u001b[1m1/1\u001b[0m \u001b[32m━━━━━━━━━━━━━━━━━━━━\u001b[0m\u001b[37m\u001b[0m \u001b[1m0s\u001b[0m 38ms/step\n",
      "\u001b[1m1/1\u001b[0m \u001b[32m━━━━━━━━━━━━━━━━━━━━\u001b[0m\u001b[37m\u001b[0m \u001b[1m0s\u001b[0m 47ms/step\n",
      "\u001b[1m1/1\u001b[0m \u001b[32m━━━━━━━━━━━━━━━━━━━━\u001b[0m\u001b[37m\u001b[0m \u001b[1m0s\u001b[0m 28ms/step"
     ]
    },
    {
     "name": "stderr",
     "output_type": "stream",
     "text": [
      "c:\\Users\\Admin\\miniconda3\\envs\\dl_env\\lib\\site-packages\\sklearn\\utils\\validation.py:2749: UserWarning: X does not have valid feature names, but MinMaxScaler was fitted with feature names\n",
      "  warnings.warn(\n",
      "c:\\Users\\Admin\\miniconda3\\envs\\dl_env\\lib\\site-packages\\sklearn\\utils\\validation.py:2749: UserWarning: X does not have valid feature names, but MinMaxScaler was fitted with feature names\n",
      "  warnings.warn(\n"
     ]
    },
    {
     "name": "stdout",
     "output_type": "stream",
     "text": [
      "\u001b[1m1/1\u001b[0m \u001b[32m━━━━━━━━━━━━━━━━━━━━\u001b[0m\u001b[37m\u001b[0m \u001b[1m0s\u001b[0m 60ms/step\n",
      "\u001b[1m1/1\u001b[0m \u001b[32m━━━━━━━━━━━━━━━━━━━━\u001b[0m\u001b[37m\u001b[0m \u001b[1m0s\u001b[0m 36ms/step\n",
      "\u001b[1m1/1\u001b[0m \u001b[32m━━━━━━━━━━━━━━━━━━━━\u001b[0m\u001b[37m\u001b[0m \u001b[1m0s\u001b[0m 48ms/step\n"
     ]
    },
    {
     "name": "stderr",
     "output_type": "stream",
     "text": [
      "c:\\Users\\Admin\\miniconda3\\envs\\dl_env\\lib\\site-packages\\sklearn\\utils\\validation.py:2749: UserWarning: X does not have valid feature names, but MinMaxScaler was fitted with feature names\n",
      "  warnings.warn(\n",
      "c:\\Users\\Admin\\miniconda3\\envs\\dl_env\\lib\\site-packages\\sklearn\\utils\\validation.py:2749: UserWarning: X does not have valid feature names, but MinMaxScaler was fitted with feature names\n",
      "  warnings.warn(\n",
      "c:\\Users\\Admin\\miniconda3\\envs\\dl_env\\lib\\site-packages\\sklearn\\utils\\validation.py:2749: UserWarning: X does not have valid feature names, but MinMaxScaler was fitted with feature names\n",
      "  warnings.warn(\n"
     ]
    },
    {
     "data": {
      "image/png": "[encoded data removed]",
      "text/plain": [
       "<Figure size 1200x500 with 1 Axes>"
      ]
     },
     "metadata": {},
     "output_type": "display_data"
    },
    {
     "name": "stdout",
     "output_type": "stream",
     "text": [
      "\n",
      "=== Training LSTM for Insulin_Supplies ===\n",
      "Epoch 1/100\n"
     ]
    },
    {
     "name": "stderr",
     "output_type": "stream",
     "text": [
      "c:\\Users\\Admin\\miniconda3\\envs\\dl_env\\lib\\site-packages\\keras\\src\\layers\\rnn\\rnn.py:199: UserWarning: Do not pass an `input_shape`/`input_dim` argument to a layer. When using Sequential models, prefer using an `Input(shape)` object as the first layer in the model instead.\n",
      "  super().__init__(**kwargs)\n"
     ]
    },
    {
     "name": "stdout",
     "output_type": "stream",
     "text": [
      "23/23 - 4s - 163ms/step - loss: 0.0423 - mae: 0.1582 - val_loss: 0.0387 - val_mae: 0.1482\n",
      "Epoch 2/100\n",
      "23/23 - 1s - 24ms/step - loss: 0.0210 - mae: 0.1105 - val_loss: 0.0256 - val_mae: 0.1169\n",
      "Epoch 3/100\n",
      "23/23 - 1s - 24ms/step - loss: 0.0192 - mae: 0.1057 - val_loss: 0.0228 - val_mae: 0.1117\n",
      "Epoch 4/100\n",
      "23/23 - 1s - 24ms/step - loss: 0.0172 - mae: 0.1013 - val_loss: 0.0190 - val_mae: 0.1040\n",
      "Epoch 5/100\n",
      "23/23 - 1s - 27ms/step - loss: 0.0160 - mae: 0.0969 - val_loss: 0.0191 - val_mae: 0.1034\n",
      "Epoch 6/100\n",
      "23/23 - 1s - 38ms/step - loss: 0.0161 - mae: 0.0986 - val_loss: 0.0196 - val_mae: 0.1043\n",
      "Epoch 7/100\n",
      "23/23 - 1s - 40ms/step - loss: 0.0159 - mae: 0.0955 - val_loss: 0.0184 - val_mae: 0.1014\n",
      "Epoch 8/100\n",
      "23/23 - 1s - 31ms/step - loss: 0.0157 - mae: 0.0967 - val_loss: 0.0173 - val_mae: 0.1001\n",
      "Epoch 9/100\n",
      "23/23 - 1s - 27ms/step - loss: 0.0155 - mae: 0.0959 - val_loss: 0.0179 - val_mae: 0.1002\n",
      "Epoch 10/100\n",
      "23/23 - 1s - 29ms/step - loss: 0.0149 - mae: 0.0919 - val_loss: 0.0181 - val_mae: 0.0999\n",
      "Epoch 11/100\n",
      "23/23 - 1s - 27ms/step - loss: 0.0147 - mae: 0.0920 - val_loss: 0.0185 - val_mae: 0.1011\n",
      "Epoch 12/100\n",
      "23/23 - 1s - 33ms/step - loss: 0.0141 - mae: 0.0931 - val_loss: 0.0167 - val_mae: 0.0976\n",
      "Epoch 13/100\n",
      "23/23 - 1s - 26ms/step - loss: 0.0147 - mae: 0.0939 - val_loss: 0.0175 - val_mae: 0.0989\n",
      "Epoch 14/100\n",
      "23/23 - 1s - 29ms/step - loss: 0.0139 - mae: 0.0909 - val_loss: 0.0165 - val_mae: 0.0966\n",
      "Epoch 15/100\n",
      "23/23 - 1s - 28ms/step - loss: 0.0145 - mae: 0.0913 - val_loss: 0.0161 - val_mae: 0.0957\n",
      "Epoch 16/100\n",
      "23/23 - 1s - 28ms/step - loss: 0.0140 - mae: 0.0910 - val_loss: 0.0163 - val_mae: 0.0957\n",
      "Epoch 17/100\n",
      "23/23 - 1s - 30ms/step - loss: 0.0144 - mae: 0.0916 - val_loss: 0.0164 - val_mae: 0.0956\n",
      "Epoch 18/100\n",
      "23/23 - 1s - 25ms/step - loss: 0.0142 - mae: 0.0904 - val_loss: 0.0159 - val_mae: 0.0946\n",
      "Epoch 19/100\n",
      "23/23 - 1s - 25ms/step - loss: 0.0134 - mae: 0.0885 - val_loss: 0.0152 - val_mae: 0.0940\n",
      "Epoch 20/100\n",
      "23/23 - 1s - 25ms/step - loss: 0.0136 - mae: 0.0884 - val_loss: 0.0155 - val_mae: 0.0941\n",
      "Epoch 21/100\n",
      "23/23 - 1s - 24ms/step - loss: 0.0133 - mae: 0.0874 - val_loss: 0.0155 - val_mae: 0.0936\n",
      "Epoch 22/100\n",
      "23/23 - 1s - 25ms/step - loss: 0.0136 - mae: 0.0891 - val_loss: 0.0161 - val_mae: 0.0950\n",
      "Epoch 23/100\n",
      "23/23 - 1s - 24ms/step - loss: 0.0134 - mae: 0.0889 - val_loss: 0.0152 - val_mae: 0.0951\n",
      "Epoch 24/100\n",
      "23/23 - 1s - 25ms/step - loss: 0.0133 - mae: 0.0880 - val_loss: 0.0153 - val_mae: 0.0932\n",
      "Epoch 25/100\n",
      "23/23 - 1s - 24ms/step - loss: 0.0128 - mae: 0.0856 - val_loss: 0.0150 - val_mae: 0.0928\n",
      "Epoch 26/100\n",
      "23/23 - 1s - 24ms/step - loss: 0.0126 - mae: 0.0856 - val_loss: 0.0148 - val_mae: 0.0932\n",
      "Epoch 27/100\n",
      "23/23 - 1s - 24ms/step - loss: 0.0130 - mae: 0.0860 - val_loss: 0.0151 - val_mae: 0.0927\n",
      "Epoch 28/100\n",
      "23/23 - 1s - 25ms/step - loss: 0.0132 - mae: 0.0860 - val_loss: 0.0146 - val_mae: 0.0919\n",
      "Epoch 29/100\n",
      "23/23 - 1s - 25ms/step - loss: 0.0129 - mae: 0.0855 - val_loss: 0.0144 - val_mae: 0.0925\n",
      "Epoch 30/100\n",
      "23/23 - 1s - 24ms/step - loss: 0.0135 - mae: 0.0873 - val_loss: 0.0146 - val_mae: 0.0913\n",
      "Epoch 31/100\n",
      "23/23 - 1s - 27ms/step - loss: 0.0127 - mae: 0.0857 - val_loss: 0.0142 - val_mae: 0.0908\n",
      "Epoch 32/100\n",
      "23/23 - 1s - 25ms/step - loss: 0.0124 - mae: 0.0840 - val_loss: 0.0142 - val_mae: 0.0911\n",
      "Epoch 33/100\n",
      "23/23 - 1s - 26ms/step - loss: 0.0127 - mae: 0.0852 - val_loss: 0.0148 - val_mae: 0.0918\n",
      "Epoch 34/100\n",
      "23/23 - 1s - 25ms/step - loss: 0.0129 - mae: 0.0862 - val_loss: 0.0142 - val_mae: 0.0911\n",
      "Epoch 35/100\n",
      "23/23 - 1s - 24ms/step - loss: 0.0124 - mae: 0.0839 - val_loss: 0.0142 - val_mae: 0.0913\n",
      "Epoch 36/100\n",
      "23/23 - 1s - 24ms/step - loss: 0.0128 - mae: 0.0849 - val_loss: 0.0143 - val_mae: 0.0912\n",
      "Epoch 37/100\n",
      "23/23 - 1s - 26ms/step - loss: 0.0123 - mae: 0.0837 - val_loss: 0.0141 - val_mae: 0.0909\n",
      "Epoch 38/100\n",
      "23/23 - 1s - 28ms/step - loss: 0.0123 - mae: 0.0838 - val_loss: 0.0139 - val_mae: 0.0893\n",
      "Epoch 39/100\n",
      "23/23 - 1s - 27ms/step - loss: 0.0123 - mae: 0.0834 - val_loss: 0.0144 - val_mae: 0.0929\n",
      "Epoch 40/100\n",
      "23/23 - 1s - 27ms/step - loss: 0.0118 - mae: 0.0818 - val_loss: 0.0143 - val_mae: 0.0905\n",
      "Epoch 41/100\n",
      "23/23 - 1s - 25ms/step - loss: 0.0120 - mae: 0.0812 - val_loss: 0.0136 - val_mae: 0.0893\n",
      "Epoch 42/100\n",
      "23/23 - 1s - 25ms/step - loss: 0.0122 - mae: 0.0826 - val_loss: 0.0137 - val_mae: 0.0893\n",
      "Epoch 43/100\n",
      "23/23 - 1s - 24ms/step - loss: 0.0119 - mae: 0.0811 - val_loss: 0.0138 - val_mae: 0.0896\n",
      "Epoch 44/100\n",
      "23/23 - 1s - 24ms/step - loss: 0.0121 - mae: 0.0811 - val_loss: 0.0138 - val_mae: 0.0896\n",
      "Epoch 45/100\n",
      "23/23 - 1s - 25ms/step - loss: 0.0118 - mae: 0.0806 - val_loss: 0.0135 - val_mae: 0.0887\n",
      "Epoch 46/100\n",
      "23/23 - 1s - 27ms/step - loss: 0.0117 - mae: 0.0812 - val_loss: 0.0133 - val_mae: 0.0888\n",
      "Epoch 47/100\n",
      "23/23 - 1s - 25ms/step - loss: 0.0109 - mae: 0.0779 - val_loss: 0.0133 - val_mae: 0.0883\n",
      "Epoch 48/100\n",
      "23/23 - 1s - 24ms/step - loss: 0.0112 - mae: 0.0780 - val_loss: 0.0141 - val_mae: 0.0911\n",
      "Epoch 49/100\n",
      "23/23 - 1s - 24ms/step - loss: 0.0113 - mae: 0.0777 - val_loss: 0.0133 - val_mae: 0.0884\n",
      "Epoch 50/100\n",
      "23/23 - 1s - 27ms/step - loss: 0.0113 - mae: 0.0784 - val_loss: 0.0135 - val_mae: 0.0888\n",
      "Epoch 51/100\n",
      "23/23 - 1s - 24ms/step - loss: 0.0108 - mae: 0.0768 - val_loss: 0.0136 - val_mae: 0.0887\n",
      "Epoch 52/100\n",
      "23/23 - 1s - 24ms/step - loss: 0.0111 - mae: 0.0773 - val_loss: 0.0135 - val_mae: 0.0894\n",
      "Epoch 53/100\n",
      "23/23 - 1s - 24ms/step - loss: 0.0108 - mae: 0.0768 - val_loss: 0.0136 - val_mae: 0.0896\n",
      "Epoch 54/100\n",
      "23/23 - 1s - 25ms/step - loss: 0.0106 - mae: 0.0746 - val_loss: 0.0140 - val_mae: 0.0894\n",
      "Epoch 55/100\n",
      "23/23 - 1s - 24ms/step - loss: 0.0106 - mae: 0.0750 - val_loss: 0.0138 - val_mae: 0.0908\n",
      "Epoch 56/100\n",
      "23/23 - 1s - 24ms/step - loss: 0.0107 - mae: 0.0747 - val_loss: 0.0136 - val_mae: 0.0892\n",
      "Epoch 57/100\n",
      "23/23 - 1s - 25ms/step - loss: 0.0104 - mae: 0.0741 - val_loss: 0.0138 - val_mae: 0.0900\n",
      "Epoch 58/100\n",
      "23/23 - 1s - 24ms/step - loss: 0.0101 - mae: 0.0721 - val_loss: 0.0149 - val_mae: 0.0946\n",
      "Epoch 59/100\n",
      "23/23 - 1s - 24ms/step - loss: 0.0101 - mae: 0.0721 - val_loss: 0.0136 - val_mae: 0.0890\n"
     ]
    },
    {
     "name": "stderr",
     "output_type": "stream",
     "text": [
      "WARNING:absl:You are saving your model as an HDF5 file via `model.save()` or `keras.saving.save_model(model)`. This file format is considered legacy. We recommend using instead the native Keras format, e.g. `model.save('my_model.keras')` or `keras.saving.save_model(model, 'my_model.keras')`. \n"
     ]
    },
    {
     "name": "stdout",
     "output_type": "stream",
     "text": [
      "\u001b[1m5/5\u001b[0m \u001b[32m━━━━━━━━━━━━━━━━━━━━\u001b[0m\u001b[37m\u001b[0m \u001b[1m1s\u001b[0m 87ms/step\n",
      "Insulin_Supplies Test RMSE: 5.812, MAE: 4.553\n",
      "\u001b[1m1/1\u001b[0m \u001b[32m━━━━━━━━━━━━━━━━━━━━\u001b[0m\u001b[37m\u001b[0m \u001b[1m0s\u001b[0m 45ms/step\n",
      "\u001b[1m1/1\u001b[0m \u001b[32m━━━━━━━━━━━━━━━━━━━━\u001b[0m\u001b[37m\u001b[0m \u001b[1m0s\u001b[0m 42ms/step\n",
      "\u001b[1m1/1\u001b[0m \u001b[32m━━━━━━━━━━━━━━━━━━━━\u001b[0m\u001b[37m\u001b[0m \u001b[1m0s\u001b[0m 42ms/step\n"
     ]
    },
    {
     "name": "stderr",
     "output_type": "stream",
     "text": [
      "c:\\Users\\Admin\\miniconda3\\envs\\dl_env\\lib\\site-packages\\sklearn\\utils\\validation.py:2749: UserWarning: X does not have valid feature names, but MinMaxScaler was fitted with feature names\n",
      "  warnings.warn(\n",
      "c:\\Users\\Admin\\miniconda3\\envs\\dl_env\\lib\\site-packages\\sklearn\\utils\\validation.py:2749: UserWarning: X does not have valid feature names, but MinMaxScaler was fitted with feature names\n",
      "  warnings.warn(\n"
     ]
    },
    {
     "name": "stdout",
     "output_type": "stream",
     "text": [
      "\u001b[1m1/1\u001b[0m \u001b[32m━━━━━━━━━━━━━━━━━━━━\u001b[0m\u001b[37m\u001b[0m \u001b[1m0s\u001b[0m 50ms/step\n",
      "\u001b[1m1/1\u001b[0m \u001b[32m━━━━━━━━━━━━━━━━━━━━\u001b[0m\u001b[37m\u001b[0m \u001b[1m0s\u001b[0m 12ms/step"
     ]
    },
    {
     "name": "stderr",
     "output_type": "stream",
     "text": [
      "c:\\Users\\Admin\\miniconda3\\envs\\dl_env\\lib\\site-packages\\sklearn\\utils\\validation.py:2749: UserWarning: X does not have valid feature names, but MinMaxScaler was fitted with feature names\n",
      "  warnings.warn(\n",
      "c:\\Users\\Admin\\miniconda3\\envs\\dl_env\\lib\\site-packages\\sklearn\\utils\\validation.py:2749: UserWarning: X does not have valid feature names, but MinMaxScaler was fitted with feature names\n",
      "  warnings.warn(\n"
     ]
    },
    {
     "name": "stdout",
     "output_type": "stream",
     "text": [
      "\u001b[1m1/1\u001b[0m \u001b[32m━━━━━━━━━━━━━━━━━━━━\u001b[0m\u001b[37m\u001b[0m \u001b[1m0s\u001b[0m 41ms/step\n",
      "\u001b[1m1/1\u001b[0m \u001b[32m━━━━━━━━━━━━━━━━━━━━\u001b[0m\u001b[37m\u001b[0m \u001b[1m0s\u001b[0m 45ms/step\n"
     ]
    },
    {
     "name": "stderr",
     "output_type": "stream",
     "text": [
      "c:\\Users\\Admin\\miniconda3\\envs\\dl_env\\lib\\site-packages\\sklearn\\utils\\validation.py:2749: UserWarning: X does not have valid feature names, but MinMaxScaler was fitted with feature names\n",
      "  warnings.warn(\n",
      "c:\\Users\\Admin\\miniconda3\\envs\\dl_env\\lib\\site-packages\\sklearn\\utils\\validation.py:2749: UserWarning: X does not have valid feature names, but MinMaxScaler was fitted with feature names\n",
      "  warnings.warn(\n"
     ]
    },
    {
     "name": "stdout",
     "output_type": "stream",
     "text": [
      "\u001b[1m1/1\u001b[0m \u001b[32m━━━━━━━━━━━━━━━━━━━━\u001b[0m\u001b[37m\u001b[0m \u001b[1m0s\u001b[0m 43ms/step\n",
      "\u001b[1m1/1\u001b[0m \u001b[32m━━━━━━━━━━━━━━━━━━━━\u001b[0m\u001b[37m\u001b[0m \u001b[1m0s\u001b[0m 46ms/step\n",
      "\u001b[1m1/1\u001b[0m \u001b[32m━━━━━━━━━━━━━━━━━━━━\u001b[0m\u001b[37m\u001b[0m \u001b[1m0s\u001b[0m 22ms/step"
     ]
    },
    {
     "name": "stderr",
     "output_type": "stream",
     "text": [
      "c:\\Users\\Admin\\miniconda3\\envs\\dl_env\\lib\\site-packages\\sklearn\\utils\\validation.py:2749: UserWarning: X does not have valid feature names, but MinMaxScaler was fitted with feature names\n",
      "  warnings.warn(\n",
      "c:\\Users\\Admin\\miniconda3\\envs\\dl_env\\lib\\site-packages\\sklearn\\utils\\validation.py:2749: UserWarning: X does not have valid feature names, but MinMaxScaler was fitted with feature names\n",
      "  warnings.warn(\n"
     ]
    },
    {
     "name": "stdout",
     "output_type": "stream",
     "text": [
      "\u001b[1m1/1\u001b[0m \u001b[32m━━━━━━━━━━━━━━━━━━━━\u001b[0m\u001b[37m\u001b[0m \u001b[1m0s\u001b[0m 44ms/step\n",
      "\u001b[1m1/1\u001b[0m \u001b[32m━━━━━━━━━━━━━━━━━━━━\u001b[0m\u001b[37m\u001b[0m \u001b[1m0s\u001b[0m 48ms/step\n",
      "\u001b[1m1/1\u001b[0m \u001b[32m━━━━━━━━━━━━━━━━━━━━\u001b[0m\u001b[37m\u001b[0m \u001b[1m0s\u001b[0m 20ms/step"
     ]
    },
    {
     "name": "stderr",
     "output_type": "stream",
     "text": [
      "c:\\Users\\Admin\\miniconda3\\envs\\dl_env\\lib\\site-packages\\sklearn\\utils\\validation.py:2749: UserWarning: X does not have valid feature names, but MinMaxScaler was fitted with feature names\n",
      "  warnings.warn(\n",
      "c:\\Users\\Admin\\miniconda3\\envs\\dl_env\\lib\\site-packages\\sklearn\\utils\\validation.py:2749: UserWarning: X does not have valid feature names, but MinMaxScaler was fitted with feature names\n",
      "  warnings.warn(\n"
     ]
    },
    {
     "name": "stdout",
     "output_type": "stream",
     "text": [
      "\u001b[1m1/1\u001b[0m \u001b[32m━━━━━━━━━━━━━━━━━━━━\u001b[0m\u001b[37m\u001b[0m \u001b[1m0s\u001b[0m 35ms/step\n",
      "\u001b[1m1/1\u001b[0m \u001b[32m━━━━━━━━━━━━━━━━━━━━\u001b[0m\u001b[37m\u001b[0m \u001b[1m0s\u001b[0m 98ms/step\n"
     ]
    },
    {
     "name": "stderr",
     "output_type": "stream",
     "text": [
      "c:\\Users\\Admin\\miniconda3\\envs\\dl_env\\lib\\site-packages\\sklearn\\utils\\validation.py:2749: UserWarning: X does not have valid feature names, but MinMaxScaler was fitted with feature names\n",
      "  warnings.warn(\n",
      "c:\\Users\\Admin\\miniconda3\\envs\\dl_env\\lib\\site-packages\\sklearn\\utils\\validation.py:2749: UserWarning: X does not have valid feature names, but MinMaxScaler was fitted with feature names\n",
      "  warnings.warn(\n"
     ]
    },
    {
     "name": "stdout",
     "output_type": "stream",
     "text": [
      "\u001b[1m1/1\u001b[0m \u001b[32m━━━━━━━━━━━━━━━━━━━━\u001b[0m\u001b[37m\u001b[0m \u001b[1m0s\u001b[0m 42ms/step\n",
      "\u001b[1m1/1\u001b[0m \u001b[32m━━━━━━━━━━━━━━━━━━━━\u001b[0m\u001b[37m\u001b[0m \u001b[1m0s\u001b[0m 43ms/step\n",
      "\u001b[1m1/1\u001b[0m \u001b[32m━━━━━━━━━━━━━━━━━━━━\u001b[0m\u001b[37m\u001b[0m \u001b[1m0s\u001b[0m 24ms/step"
     ]
    },
    {
     "name": "stderr",
     "output_type": "stream",
     "text": [
      "c:\\Users\\Admin\\miniconda3\\envs\\dl_env\\lib\\site-packages\\sklearn\\utils\\validation.py:2749: UserWarning: X does not have valid feature names, but MinMaxScaler was fitted with feature names\n",
      "  warnings.warn(\n",
      "c:\\Users\\Admin\\miniconda3\\envs\\dl_env\\lib\\site-packages\\sklearn\\utils\\validation.py:2749: UserWarning: X does not have valid feature names, but MinMaxScaler was fitted with feature names\n",
      "  warnings.warn(\n"
     ]
    },
    {
     "name": "stdout",
     "output_type": "stream",
     "text": [
      "\u001b[1m1/1\u001b[0m \u001b[32m━━━━━━━━━━━━━━━━━━━━\u001b[0m\u001b[37m\u001b[0m \u001b[1m0s\u001b[0m 44ms/step\n",
      "\u001b[1m1/1\u001b[0m \u001b[32m━━━━━━━━━━━━━━━━━━━━\u001b[0m\u001b[37m\u001b[0m \u001b[1m0s\u001b[0m 43ms/step\n",
      "\u001b[1m1/1\u001b[0m \u001b[32m━━━━━━━━━━━━━━━━━━━━\u001b[0m\u001b[37m\u001b[0m \u001b[1m0s\u001b[0m 15ms/step"
     ]
    },
    {
     "name": "stderr",
     "output_type": "stream",
     "text": [
      "c:\\Users\\Admin\\miniconda3\\envs\\dl_env\\lib\\site-packages\\sklearn\\utils\\validation.py:2749: UserWarning: X does not have valid feature names, but MinMaxScaler was fitted with feature names\n",
      "  warnings.warn(\n",
      "c:\\Users\\Admin\\miniconda3\\envs\\dl_env\\lib\\site-packages\\sklearn\\utils\\validation.py:2749: UserWarning: X does not have valid feature names, but MinMaxScaler was fitted with feature names\n",
      "  warnings.warn(\n"
     ]
    },
    {
     "name": "stdout",
     "output_type": "stream",
     "text": [
      "\u001b[1m1/1\u001b[0m \u001b[32m━━━━━━━━━━━━━━━━━━━━\u001b[0m\u001b[37m\u001b[0m \u001b[1m0s\u001b[0m 47ms/step\n",
      "\u001b[1m1/1\u001b[0m \u001b[32m━━━━━━━━━━━━━━━━━━━━\u001b[0m\u001b[37m\u001b[0m \u001b[1m0s\u001b[0m 42ms/step\n",
      "\u001b[1m1/1\u001b[0m \u001b[32m━━━━━━━━━━━━━━━━━━━━\u001b[0m\u001b[37m\u001b[0m \u001b[1m0s\u001b[0m 34ms/step\n"
     ]
    },
    {
     "name": "stderr",
     "output_type": "stream",
     "text": [
      "c:\\Users\\Admin\\miniconda3\\envs\\dl_env\\lib\\site-packages\\sklearn\\utils\\validation.py:2749: UserWarning: X does not have valid feature names, but MinMaxScaler was fitted with feature names\n",
      "  warnings.warn(\n",
      "c:\\Users\\Admin\\miniconda3\\envs\\dl_env\\lib\\site-packages\\sklearn\\utils\\validation.py:2749: UserWarning: X does not have valid feature names, but MinMaxScaler was fitted with feature names\n",
      "  warnings.warn(\n"
     ]
    },
    {
     "name": "stdout",
     "output_type": "stream",
     "text": [
      "\u001b[1m1/1\u001b[0m \u001b[32m━━━━━━━━━━━━━━━━━━━━\u001b[0m\u001b[37m\u001b[0m \u001b[1m0s\u001b[0m 46ms/step\n",
      "\u001b[1m1/1\u001b[0m \u001b[32m━━━━━━━━━━━━━━━━━━━━\u001b[0m\u001b[37m\u001b[0m \u001b[1m0s\u001b[0m 24ms/step"
     ]
    },
    {
     "name": "stderr",
     "output_type": "stream",
     "text": [
      "c:\\Users\\Admin\\miniconda3\\envs\\dl_env\\lib\\site-packages\\sklearn\\utils\\validation.py:2749: UserWarning: X does not have valid feature names, but MinMaxScaler was fitted with feature names\n",
      "  warnings.warn(\n",
      "c:\\Users\\Admin\\miniconda3\\envs\\dl_env\\lib\\site-packages\\sklearn\\utils\\validation.py:2749: UserWarning: X does not have valid feature names, but MinMaxScaler was fitted with feature names\n",
      "  warnings.warn(\n"
     ]
    },
    {
     "name": "stdout",
     "output_type": "stream",
     "text": [
      "\u001b[1m1/1\u001b[0m \u001b[32m━━━━━━━━━━━━━━━━━━━━\u001b[0m\u001b[37m\u001b[0m \u001b[1m0s\u001b[0m 46ms/step\n",
      "\u001b[1m1/1\u001b[0m \u001b[32m━━━━━━━━━━━━━━━━━━━━\u001b[0m\u001b[37m\u001b[0m \u001b[1m0s\u001b[0m 40ms/step\n",
      "\u001b[1m1/1\u001b[0m \u001b[32m━━━━━━━━━━━━━━━━━━━━\u001b[0m\u001b[37m\u001b[0m \u001b[1m0s\u001b[0m 45ms/step\n"
     ]
    },
    {
     "name": "stderr",
     "output_type": "stream",
     "text": [
      "c:\\Users\\Admin\\miniconda3\\envs\\dl_env\\lib\\site-packages\\sklearn\\utils\\validation.py:2749: UserWarning: X does not have valid feature names, but MinMaxScaler was fitted with feature names\n",
      "  warnings.warn(\n",
      "c:\\Users\\Admin\\miniconda3\\envs\\dl_env\\lib\\site-packages\\sklearn\\utils\\validation.py:2749: UserWarning: X does not have valid feature names, but MinMaxScaler was fitted with feature names\n",
      "  warnings.warn(\n"
     ]
    },
    {
     "name": "stdout",
     "output_type": "stream",
     "text": [
      "\u001b[1m1/1\u001b[0m \u001b[32m━━━━━━━━━━━━━━━━━━━━\u001b[0m\u001b[37m\u001b[0m \u001b[1m0s\u001b[0m 58ms/step\n",
      "\u001b[1m1/1\u001b[0m \u001b[32m━━━━━━━━━━━━━━━━━━━━\u001b[0m\u001b[37m\u001b[0m \u001b[1m0s\u001b[0m 28ms/step\n"
     ]
    },
    {
     "name": "stderr",
     "output_type": "stream",
     "text": [
      "c:\\Users\\Admin\\miniconda3\\envs\\dl_env\\lib\\site-packages\\sklearn\\utils\\validation.py:2749: UserWarning: X does not have valid feature names, but MinMaxScaler was fitted with feature names\n",
      "  warnings.warn(\n",
      "c:\\Users\\Admin\\miniconda3\\envs\\dl_env\\lib\\site-packages\\sklearn\\utils\\validation.py:2749: UserWarning: X does not have valid feature names, but MinMaxScaler was fitted with feature names\n",
      "  warnings.warn(\n"
     ]
    },
    {
     "name": "stdout",
     "output_type": "stream",
     "text": [
      "\u001b[1m1/1\u001b[0m \u001b[32m━━━━━━━━━━━━━━━━━━━━\u001b[0m\u001b[37m\u001b[0m \u001b[1m0s\u001b[0m 50ms/step\n",
      "\u001b[1m1/1\u001b[0m \u001b[32m━━━━━━━━━━━━━━━━━━━━\u001b[0m\u001b[37m\u001b[0m \u001b[1m0s\u001b[0m 29ms/step\n"
     ]
    },
    {
     "name": "stderr",
     "output_type": "stream",
     "text": [
      "c:\\Users\\Admin\\miniconda3\\envs\\dl_env\\lib\\site-packages\\sklearn\\utils\\validation.py:2749: UserWarning: X does not have valid feature names, but MinMaxScaler was fitted with feature names\n",
      "  warnings.warn(\n",
      "c:\\Users\\Admin\\miniconda3\\envs\\dl_env\\lib\\site-packages\\sklearn\\utils\\validation.py:2749: UserWarning: X does not have valid feature names, but MinMaxScaler was fitted with feature names\n",
      "  warnings.warn(\n"
     ]
    },
    {
     "name": "stdout",
     "output_type": "stream",
     "text": [
      "\u001b[1m1/1\u001b[0m \u001b[32m━━━━━━━━━━━━━━━━━━━━\u001b[0m\u001b[37m\u001b[0m \u001b[1m0s\u001b[0m 62ms/step\n"
     ]
    },
    {
     "name": "stderr",
     "output_type": "stream",
     "text": [
      "c:\\Users\\Admin\\miniconda3\\envs\\dl_env\\lib\\site-packages\\sklearn\\utils\\validation.py:2749: UserWarning: X does not have valid feature names, but MinMaxScaler was fitted with feature names\n",
      "  warnings.warn(\n",
      "c:\\Users\\Admin\\miniconda3\\envs\\dl_env\\lib\\site-packages\\sklearn\\utils\\validation.py:2749: UserWarning: X does not have valid feature names, but MinMaxScaler was fitted with feature names\n",
      "  warnings.warn(\n"
     ]
    },
    {
     "name": "stdout",
     "output_type": "stream",
     "text": [
      "\u001b[1m1/1\u001b[0m \u001b[32m━━━━━━━━━━━━━━━━━━━━\u001b[0m\u001b[37m\u001b[0m \u001b[1m0s\u001b[0m 69ms/step\n",
      "\u001b[1m1/1\u001b[0m \u001b[32m━━━━━━━━━━━━━━━━━━━━\u001b[0m\u001b[37m\u001b[0m \u001b[1m0s\u001b[0m 42ms/step\n"
     ]
    },
    {
     "name": "stderr",
     "output_type": "stream",
     "text": [
      "c:\\Users\\Admin\\miniconda3\\envs\\dl_env\\lib\\site-packages\\sklearn\\utils\\validation.py:2749: UserWarning: X does not have valid feature names, but MinMaxScaler was fitted with feature names\n",
      "  warnings.warn(\n",
      "c:\\Users\\Admin\\miniconda3\\envs\\dl_env\\lib\\site-packages\\sklearn\\utils\\validation.py:2749: UserWarning: X does not have valid feature names, but MinMaxScaler was fitted with feature names\n",
      "  warnings.warn(\n"
     ]
    },
    {
     "data": {
      "image/png": "[encoded data removed]",
      "text/plain": [
       "<Figure size 1200x500 with 1 Axes>"
      ]
     },
     "metadata": {},
     "output_type": "display_data"
    },
    {
     "name": "stdout",
     "output_type": "stream",
     "text": [
      "\n",
      "=== Training LSTM for PainRelief_Gel ===\n",
      "Epoch 1/100\n"
     ]
    },
    {
     "name": "stderr",
     "output_type": "stream",
     "text": [
      "c:\\Users\\Admin\\miniconda3\\envs\\dl_env\\lib\\site-packages\\keras\\src\\layers\\rnn\\rnn.py:199: UserWarning: Do not pass an `input_shape`/`input_dim` argument to a layer. When using Sequential models, prefer using an `Input(shape)` object as the first layer in the model instead.\n",
      "  super().__init__(**kwargs)\n"
     ]
    },
    {
     "name": "stdout",
     "output_type": "stream",
     "text": [
      "23/23 - 4s - 172ms/step - loss: 0.0492 - mae: 0.1622 - val_loss: 0.0369 - val_mae: 0.1244\n",
      "Epoch 2/100\n",
      "23/23 - 1s - 25ms/step - loss: 0.0326 - mae: 0.1339 - val_loss: 0.0337 - val_mae: 0.1224\n",
      "Epoch 3/100\n",
      "23/23 - 1s - 25ms/step - loss: 0.0306 - mae: 0.1303 - val_loss: 0.0319 - val_mae: 0.1200\n",
      "Epoch 4/100\n",
      "23/23 - 1s - 28ms/step - loss: 0.0287 - mae: 0.1253 - val_loss: 0.0277 - val_mae: 0.1126\n",
      "Epoch 5/100\n",
      "23/23 - 1s - 26ms/step - loss: 0.0276 - mae: 0.1208 - val_loss: 0.0301 - val_mae: 0.1169\n",
      "Epoch 6/100\n",
      "23/23 - 1s - 28ms/step - loss: 0.0262 - mae: 0.1185 - val_loss: 0.0322 - val_mae: 0.1224\n",
      "Epoch 7/100\n",
      "23/23 - 1s - 29ms/step - loss: 0.0262 - mae: 0.1194 - val_loss: 0.0308 - val_mae: 0.1205\n",
      "Epoch 8/100\n",
      "23/23 - 1s - 26ms/step - loss: 0.0257 - mae: 0.1152 - val_loss: 0.0295 - val_mae: 0.1175\n",
      "Epoch 9/100\n",
      "23/23 - 1s - 28ms/step - loss: 0.0245 - mae: 0.1129 - val_loss: 0.0278 - val_mae: 0.1147\n",
      "Epoch 10/100\n",
      "23/23 - 1s - 27ms/step - loss: 0.0240 - mae: 0.1103 - val_loss: 0.0251 - val_mae: 0.1080\n",
      "Epoch 11/100\n",
      "23/23 - 1s - 27ms/step - loss: 0.0224 - mae: 0.1067 - val_loss: 0.0245 - val_mae: 0.1079\n",
      "Epoch 12/100\n",
      "23/23 - 1s - 27ms/step - loss: 0.0224 - mae: 0.1066 - val_loss: 0.0243 - val_mae: 0.1066\n",
      "Epoch 13/100\n",
      "23/23 - 1s - 35ms/step - loss: 0.0221 - mae: 0.1040 - val_loss: 0.0227 - val_mae: 0.1040\n",
      "Epoch 14/100\n",
      "23/23 - 1s - 30ms/step - loss: 0.0221 - mae: 0.1039 - val_loss: 0.0225 - val_mae: 0.1026\n",
      "Epoch 15/100\n",
      "23/23 - 1s - 26ms/step - loss: 0.0211 - mae: 0.1009 - val_loss: 0.0205 - val_mae: 0.0979\n",
      "Epoch 16/100\n",
      "23/23 - 1s - 28ms/step - loss: 0.0199 - mae: 0.0964 - val_loss: 0.0207 - val_mae: 0.0975\n",
      "Epoch 17/100\n",
      "23/23 - 1s - 25ms/step - loss: 0.0202 - mae: 0.0977 - val_loss: 0.0198 - val_mae: 0.0949\n",
      "Epoch 18/100\n",
      "23/23 - 1s - 25ms/step - loss: 0.0204 - mae: 0.0986 - val_loss: 0.0217 - val_mae: 0.1000\n",
      "Epoch 19/100\n",
      "23/23 - 1s - 25ms/step - loss: 0.0202 - mae: 0.0968 - val_loss: 0.0203 - val_mae: 0.0968\n",
      "Epoch 20/100\n",
      "23/23 - 1s - 25ms/step - loss: 0.0186 - mae: 0.0921 - val_loss: 0.0192 - val_mae: 0.0932\n",
      "Epoch 21/100\n",
      "23/23 - 1s - 25ms/step - loss: 0.0196 - mae: 0.0947 - val_loss: 0.0188 - val_mae: 0.0918\n",
      "Epoch 22/100\n",
      "23/23 - 1s - 25ms/step - loss: 0.0199 - mae: 0.0967 - val_loss: 0.0183 - val_mae: 0.0902\n",
      "Epoch 23/100\n",
      "23/23 - 1s - 25ms/step - loss: 0.0182 - mae: 0.0918 - val_loss: 0.0175 - val_mae: 0.0880\n",
      "Epoch 24/100\n",
      "23/23 - 1s - 25ms/step - loss: 0.0190 - mae: 0.0941 - val_loss: 0.0183 - val_mae: 0.0911\n",
      "Epoch 25/100\n",
      "23/23 - 1s - 25ms/step - loss: 0.0185 - mae: 0.0914 - val_loss: 0.0186 - val_mae: 0.0918\n",
      "Epoch 26/100\n",
      "23/23 - 1s - 25ms/step - loss: 0.0180 - mae: 0.0905 - val_loss: 0.0193 - val_mae: 0.0936\n",
      "Epoch 27/100\n",
      "23/23 - 1s - 25ms/step - loss: 0.0182 - mae: 0.0913 - val_loss: 0.0181 - val_mae: 0.0899\n",
      "Epoch 28/100\n",
      "23/23 - 1s - 27ms/step - loss: 0.0179 - mae: 0.0889 - val_loss: 0.0178 - val_mae: 0.0877\n",
      "Epoch 29/100\n",
      "23/23 - 1s - 26ms/step - loss: 0.0184 - mae: 0.0923 - val_loss: 0.0164 - val_mae: 0.0848\n",
      "Epoch 30/100\n",
      "23/23 - 1s - 25ms/step - loss: 0.0175 - mae: 0.0874 - val_loss: 0.0177 - val_mae: 0.0879\n",
      "Epoch 31/100\n",
      "23/23 - 1s - 25ms/step - loss: 0.0180 - mae: 0.0900 - val_loss: 0.0174 - val_mae: 0.0869\n",
      "Epoch 32/100\n",
      "23/23 - 1s - 25ms/step - loss: 0.0176 - mae: 0.0885 - val_loss: 0.0167 - val_mae: 0.0850\n",
      "Epoch 33/100\n",
      "23/23 - 1s - 25ms/step - loss: 0.0181 - mae: 0.0895 - val_loss: 0.0167 - val_mae: 0.0861\n",
      "Epoch 34/100\n",
      "23/23 - 1s - 27ms/step - loss: 0.0180 - mae: 0.0898 - val_loss: 0.0166 - val_mae: 0.0859\n",
      "Epoch 35/100\n",
      "23/23 - 1s - 26ms/step - loss: 0.0181 - mae: 0.0883 - val_loss: 0.0173 - val_mae: 0.0864\n",
      "Epoch 36/100\n",
      "23/23 - 1s - 24ms/step - loss: 0.0176 - mae: 0.0883 - val_loss: 0.0167 - val_mae: 0.0852\n",
      "Epoch 37/100\n",
      "23/23 - 1s - 25ms/step - loss: 0.0181 - mae: 0.0903 - val_loss: 0.0169 - val_mae: 0.0862\n",
      "Epoch 38/100\n",
      "23/23 - 1s - 25ms/step - loss: 0.0178 - mae: 0.0873 - val_loss: 0.0179 - val_mae: 0.0893\n",
      "Epoch 39/100\n",
      "23/23 - 1s - 25ms/step - loss: 0.0173 - mae: 0.0877 - val_loss: 0.0169 - val_mae: 0.0860\n"
     ]
    },
    {
     "name": "stderr",
     "output_type": "stream",
     "text": [
      "WARNING:absl:You are saving your model as an HDF5 file via `model.save()` or `keras.saving.save_model(model)`. This file format is considered legacy. We recommend using instead the native Keras format, e.g. `model.save('my_model.keras')` or `keras.saving.save_model(model, 'my_model.keras')`. \n"
     ]
    },
    {
     "name": "stdout",
     "output_type": "stream",
     "text": [
      "\u001b[1m5/5\u001b[0m \u001b[32m━━━━━━━━━━━━━━━━━━━━\u001b[0m\u001b[37m\u001b[0m \u001b[1m1s\u001b[0m 92ms/step\n",
      "PainRelief_Gel Test RMSE: 10.800, MAE: 7.311\n",
      "\u001b[1m1/1\u001b[0m \u001b[32m━━━━━━━━━━━━━━━━━━━━\u001b[0m\u001b[37m\u001b[0m \u001b[1m0s\u001b[0m 50ms/step\n",
      "\u001b[1m1/1\u001b[0m \u001b[32m━━━━━━━━━━━━━━━━━━━━\u001b[0m\u001b[37m\u001b[0m \u001b[1m0s\u001b[0m 41ms/step\n",
      "\u001b[1m1/1\u001b[0m \u001b[32m━━━━━━━━━━━━━━━━━━━━\u001b[0m\u001b[37m\u001b[0m \u001b[1m0s\u001b[0m 32ms/step\n"
     ]
    },
    {
     "name": "stderr",
     "output_type": "stream",
     "text": [
      "c:\\Users\\Admin\\miniconda3\\envs\\dl_env\\lib\\site-packages\\sklearn\\utils\\validation.py:2749: UserWarning: X does not have valid feature names, but MinMaxScaler was fitted with feature names\n",
      "  warnings.warn(\n",
      "c:\\Users\\Admin\\miniconda3\\envs\\dl_env\\lib\\site-packages\\sklearn\\utils\\validation.py:2749: UserWarning: X does not have valid feature names, but MinMaxScaler was fitted with feature names\n",
      "  warnings.warn(\n"
     ]
    },
    {
     "name": "stdout",
     "output_type": "stream",
     "text": [
      "\u001b[1m1/1\u001b[0m \u001b[32m━━━━━━━━━━━━━━━━━━━━\u001b[0m\u001b[37m\u001b[0m \u001b[1m0s\u001b[0m 45ms/step\n"
     ]
    },
    {
     "name": "stderr",
     "output_type": "stream",
     "text": [
      "c:\\Users\\Admin\\miniconda3\\envs\\dl_env\\lib\\site-packages\\sklearn\\utils\\validation.py:2749: UserWarning: X does not have valid feature names, but MinMaxScaler was fitted with feature names\n",
      "  warnings.warn(\n",
      "c:\\Users\\Admin\\miniconda3\\envs\\dl_env\\lib\\site-packages\\sklearn\\utils\\validation.py:2749: UserWarning: X does not have valid feature names, but MinMaxScaler was fitted with feature names\n",
      "  warnings.warn(\n"
     ]
    },
    {
     "name": "stdout",
     "output_type": "stream",
     "text": [
      "\u001b[1m1/1\u001b[0m \u001b[32m━━━━━━━━━━━━━━━━━━━━\u001b[0m\u001b[37m\u001b[0m \u001b[1m0s\u001b[0m 64ms/step\n",
      "\u001b[1m1/1\u001b[0m \u001b[32m━━━━━━━━━━━━━━━━━━━━\u001b[0m\u001b[37m\u001b[0m \u001b[1m0s\u001b[0m 37ms/step\n"
     ]
    },
    {
     "name": "stderr",
     "output_type": "stream",
     "text": [
      "c:\\Users\\Admin\\miniconda3\\envs\\dl_env\\lib\\site-packages\\sklearn\\utils\\validation.py:2749: UserWarning: X does not have valid feature names, but MinMaxScaler was fitted with feature names\n",
      "  warnings.warn(\n",
      "c:\\Users\\Admin\\miniconda3\\envs\\dl_env\\lib\\site-packages\\sklearn\\utils\\validation.py:2749: UserWarning: X does not have valid feature names, but MinMaxScaler was fitted with feature names\n",
      "  warnings.warn(\n"
     ]
    },
    {
     "name": "stdout",
     "output_type": "stream",
     "text": [
      "\u001b[1m1/1\u001b[0m \u001b[32m━━━━━━━━━━━━━━━━━━━━\u001b[0m\u001b[37m\u001b[0m \u001b[1m0s\u001b[0m 52ms/step\n",
      "\u001b[1m1/1\u001b[0m \u001b[32m━━━━━━━━━━━━━━━━━━━━\u001b[0m\u001b[37m\u001b[0m \u001b[1m0s\u001b[0m 47ms/step\n",
      "\u001b[1m1/1\u001b[0m \u001b[32m━━━━━━━━━━━━━━━━━━━━\u001b[0m\u001b[37m\u001b[0m \u001b[1m0s\u001b[0m 33ms/step"
     ]
    },
    {
     "name": "stderr",
     "output_type": "stream",
     "text": [
      "c:\\Users\\Admin\\miniconda3\\envs\\dl_env\\lib\\site-packages\\sklearn\\utils\\validation.py:2749: UserWarning: X does not have valid feature names, but MinMaxScaler was fitted with feature names\n",
      "  warnings.warn(\n",
      "c:\\Users\\Admin\\miniconda3\\envs\\dl_env\\lib\\site-packages\\sklearn\\utils\\validation.py:2749: UserWarning: X does not have valid feature names, but MinMaxScaler was fitted with feature names\n",
      "  warnings.warn(\n"
     ]
    },
    {
     "name": "stdout",
     "output_type": "stream",
     "text": [
      "\u001b[1m1/1\u001b[0m \u001b[32m━━━━━━━━━━━━━━━━━━━━\u001b[0m\u001b[37m\u001b[0m \u001b[1m0s\u001b[0m 52ms/step\n",
      "\u001b[1m1/1\u001b[0m \u001b[32m━━━━━━━━━━━━━━━━━━━━\u001b[0m\u001b[37m\u001b[0m \u001b[1m0s\u001b[0m 45ms/step\n",
      "\u001b[1m1/1\u001b[0m \u001b[32m━━━━━━━━━━━━━━━━━━━━\u001b[0m\u001b[37m\u001b[0m \u001b[1m0s\u001b[0m 31ms/step"
     ]
    },
    {
     "name": "stderr",
     "output_type": "stream",
     "text": [
      "c:\\Users\\Admin\\miniconda3\\envs\\dl_env\\lib\\site-packages\\sklearn\\utils\\validation.py:2749: UserWarning: X does not have valid feature names, but MinMaxScaler was fitted with feature names\n",
      "  warnings.warn(\n",
      "c:\\Users\\Admin\\miniconda3\\envs\\dl_env\\lib\\site-packages\\sklearn\\utils\\validation.py:2749: UserWarning: X does not have valid feature names, but MinMaxScaler was fitted with feature names\n",
      "  warnings.warn(\n"
     ]
    },
    {
     "name": "stdout",
     "output_type": "stream",
     "text": [
      "\u001b[1m1/1\u001b[0m \u001b[32m━━━━━━━━━━━━━━━━━━━━\u001b[0m\u001b[37m\u001b[0m \u001b[1m0s\u001b[0m 41ms/step\n",
      "\u001b[1m1/1\u001b[0m \u001b[32m━━━━━━━━━━━━━━━━━━━━\u001b[0m\u001b[37m\u001b[0m \u001b[1m0s\u001b[0m 41ms/step\n",
      "\u001b[1m1/1\u001b[0m \u001b[32m━━━━━━━━━━━━━━━━━━━━\u001b[0m\u001b[37m\u001b[0m \u001b[1m0s\u001b[0m 24ms/step"
     ]
    },
    {
     "name": "stderr",
     "output_type": "stream",
     "text": [
      "c:\\Users\\Admin\\miniconda3\\envs\\dl_env\\lib\\site-packages\\sklearn\\utils\\validation.py:2749: UserWarning: X does not have valid feature names, but MinMaxScaler was fitted with feature names\n",
      "  warnings.warn(\n",
      "c:\\Users\\Admin\\miniconda3\\envs\\dl_env\\lib\\site-packages\\sklearn\\utils\\validation.py:2749: UserWarning: X does not have valid feature names, but MinMaxScaler was fitted with feature names\n",
      "  warnings.warn(\n"
     ]
    },
    {
     "name": "stdout",
     "output_type": "stream",
     "text": [
      "\u001b[1m1/1\u001b[0m \u001b[32m━━━━━━━━━━━━━━━━━━━━\u001b[0m\u001b[37m\u001b[0m \u001b[1m0s\u001b[0m 30ms/step\n",
      "\u001b[1m1/1\u001b[0m \u001b[32m━━━━━━━━━━━━━━━━━━━━\u001b[0m\u001b[37m\u001b[0m \u001b[1m0s\u001b[0m 43ms/step\n",
      "\u001b[1m1/1\u001b[0m \u001b[32m━━━━━━━━━━━━━━━━━━━━\u001b[0m\u001b[37m\u001b[0m \u001b[1m0s\u001b[0m 34ms/step"
     ]
    },
    {
     "name": "stderr",
     "output_type": "stream",
     "text": [
      "c:\\Users\\Admin\\miniconda3\\envs\\dl_env\\lib\\site-packages\\sklearn\\utils\\validation.py:2749: UserWarning: X does not have valid feature names, but MinMaxScaler was fitted with feature names\n",
      "  warnings.warn(\n",
      "c:\\Users\\Admin\\miniconda3\\envs\\dl_env\\lib\\site-packages\\sklearn\\utils\\validation.py:2749: UserWarning: X does not have valid feature names, but MinMaxScaler was fitted with feature names\n",
      "  warnings.warn(\n"
     ]
    },
    {
     "name": "stdout",
     "output_type": "stream",
     "text": [
      "\u001b[1m1/1\u001b[0m \u001b[32m━━━━━━━━━━━━━━━━━━━━\u001b[0m\u001b[37m\u001b[0m \u001b[1m0s\u001b[0m 42ms/step\n",
      "\u001b[1m1/1\u001b[0m \u001b[32m━━━━━━━━━━━━━━━━━━━━\u001b[0m\u001b[37m\u001b[0m \u001b[1m0s\u001b[0m 47ms/step\n",
      "\u001b[1m1/1\u001b[0m \u001b[32m━━━━━━━━━━━━━━━━━━━━\u001b[0m\u001b[37m\u001b[0m \u001b[1m0s\u001b[0m 28ms/step"
     ]
    },
    {
     "name": "stderr",
     "output_type": "stream",
     "text": [
      "c:\\Users\\Admin\\miniconda3\\envs\\dl_env\\lib\\site-packages\\sklearn\\utils\\validation.py:2749: UserWarning: X does not have valid feature names, but MinMaxScaler was fitted with feature names\n",
      "  warnings.warn(\n",
      "c:\\Users\\Admin\\miniconda3\\envs\\dl_env\\lib\\site-packages\\sklearn\\utils\\validation.py:2749: UserWarning: X does not have valid feature names, but MinMaxScaler was fitted with feature names\n",
      "  warnings.warn(\n"
     ]
    },
    {
     "name": "stdout",
     "output_type": "stream",
     "text": [
      "\u001b[1m1/1\u001b[0m \u001b[32m━━━━━━━━━━━━━━━━━━━━\u001b[0m\u001b[37m\u001b[0m \u001b[1m0s\u001b[0m 44ms/step\n",
      "\u001b[1m1/1\u001b[0m \u001b[32m━━━━━━━━━━━━━━━━━━━━\u001b[0m\u001b[37m\u001b[0m \u001b[1m0s\u001b[0m 43ms/step\n"
     ]
    },
    {
     "name": "stderr",
     "output_type": "stream",
     "text": [
      "c:\\Users\\Admin\\miniconda3\\envs\\dl_env\\lib\\site-packages\\sklearn\\utils\\validation.py:2749: UserWarning: X does not have valid feature names, but MinMaxScaler was fitted with feature names\n",
      "  warnings.warn(\n",
      "c:\\Users\\Admin\\miniconda3\\envs\\dl_env\\lib\\site-packages\\sklearn\\utils\\validation.py:2749: UserWarning: X does not have valid feature names, but MinMaxScaler was fitted with feature names\n",
      "  warnings.warn(\n"
     ]
    },
    {
     "name": "stdout",
     "output_type": "stream",
     "text": [
      "\u001b[1m1/1\u001b[0m \u001b[32m━━━━━━━━━━━━━━━━━━━━\u001b[0m\u001b[37m\u001b[0m \u001b[1m0s\u001b[0m 65ms/step\n",
      "\u001b[1m1/1\u001b[0m \u001b[32m━━━━━━━━━━━━━━━━━━━━\u001b[0m\u001b[37m\u001b[0m \u001b[1m0s\u001b[0m 37ms/step\n",
      "\u001b[1m1/1\u001b[0m \u001b[32m━━━━━━━━━━━━━━━━━━━━\u001b[0m\u001b[37m\u001b[0m \u001b[1m0s\u001b[0m 45ms/step\n"
     ]
    },
    {
     "name": "stderr",
     "output_type": "stream",
     "text": [
      "c:\\Users\\Admin\\miniconda3\\envs\\dl_env\\lib\\site-packages\\sklearn\\utils\\validation.py:2749: UserWarning: X does not have valid feature names, but MinMaxScaler was fitted with feature names\n",
      "  warnings.warn(\n",
      "c:\\Users\\Admin\\miniconda3\\envs\\dl_env\\lib\\site-packages\\sklearn\\utils\\validation.py:2749: UserWarning: X does not have valid feature names, but MinMaxScaler was fitted with feature names\n",
      "  warnings.warn(\n"
     ]
    },
    {
     "name": "stdout",
     "output_type": "stream",
     "text": [
      "\u001b[1m1/1\u001b[0m \u001b[32m━━━━━━━━━━━━━━━━━━━━\u001b[0m\u001b[37m\u001b[0m \u001b[1m0s\u001b[0m 47ms/step\n"
     ]
    },
    {
     "name": "stderr",
     "output_type": "stream",
     "text": [
      "c:\\Users\\Admin\\miniconda3\\envs\\dl_env\\lib\\site-packages\\sklearn\\utils\\validation.py:2749: UserWarning: X does not have valid feature names, but MinMaxScaler was fitted with feature names\n",
      "  warnings.warn(\n",
      "c:\\Users\\Admin\\miniconda3\\envs\\dl_env\\lib\\site-packages\\sklearn\\utils\\validation.py:2749: UserWarning: X does not have valid feature names, but MinMaxScaler was fitted with feature names\n",
      "  warnings.warn(\n"
     ]
    },
    {
     "name": "stdout",
     "output_type": "stream",
     "text": [
      "\u001b[1m1/1\u001b[0m \u001b[32m━━━━━━━━━━━━━━━━━━━━\u001b[0m\u001b[37m\u001b[0m \u001b[1m0s\u001b[0m 70ms/step\n",
      "\u001b[1m1/1\u001b[0m \u001b[32m━━━━━━━━━━━━━━━━━━━━\u001b[0m\u001b[37m\u001b[0m \u001b[1m0s\u001b[0m 34ms/step\n",
      "\u001b[1m1/1\u001b[0m \u001b[32m━━━━━━━━━━━━━━━━━━━━\u001b[0m\u001b[37m\u001b[0m \u001b[1m0s\u001b[0m 25ms/step"
     ]
    },
    {
     "name": "stderr",
     "output_type": "stream",
     "text": [
      "c:\\Users\\Admin\\miniconda3\\envs\\dl_env\\lib\\site-packages\\sklearn\\utils\\validation.py:2749: UserWarning: X does not have valid feature names, but MinMaxScaler was fitted with feature names\n",
      "  warnings.warn(\n",
      "c:\\Users\\Admin\\miniconda3\\envs\\dl_env\\lib\\site-packages\\sklearn\\utils\\validation.py:2749: UserWarning: X does not have valid feature names, but MinMaxScaler was fitted with feature names\n",
      "  warnings.warn(\n"
     ]
    },
    {
     "name": "stdout",
     "output_type": "stream",
     "text": [
      "\u001b[1m1/1\u001b[0m \u001b[32m━━━━━━━━━━━━━━━━━━━━\u001b[0m\u001b[37m\u001b[0m \u001b[1m0s\u001b[0m 46ms/step\n",
      "\u001b[1m1/1\u001b[0m \u001b[32m━━━━━━━━━━━━━━━━━━━━\u001b[0m\u001b[37m\u001b[0m \u001b[1m0s\u001b[0m 53ms/step\n"
     ]
    },
    {
     "name": "stderr",
     "output_type": "stream",
     "text": [
      "c:\\Users\\Admin\\miniconda3\\envs\\dl_env\\lib\\site-packages\\sklearn\\utils\\validation.py:2749: UserWarning: X does not have valid feature names, but MinMaxScaler was fitted with feature names\n",
      "  warnings.warn(\n",
      "c:\\Users\\Admin\\miniconda3\\envs\\dl_env\\lib\\site-packages\\sklearn\\utils\\validation.py:2749: UserWarning: X does not have valid feature names, but MinMaxScaler was fitted with feature names\n",
      "  warnings.warn(\n"
     ]
    },
    {
     "name": "stdout",
     "output_type": "stream",
     "text": [
      "\u001b[1m1/1\u001b[0m \u001b[32m━━━━━━━━━━━━━━━━━━━━\u001b[0m\u001b[37m\u001b[0m \u001b[1m0s\u001b[0m 54ms/step\n",
      "\u001b[1m1/1\u001b[0m \u001b[32m━━━━━━━━━━━━━━━━━━━━\u001b[0m\u001b[37m\u001b[0m \u001b[1m0s\u001b[0m 45ms/step\n",
      "\u001b[1m1/1\u001b[0m \u001b[32m━━━━━━━━━━━━━━━━━━━━\u001b[0m\u001b[37m\u001b[0m \u001b[1m0s\u001b[0m 23ms/step"
     ]
    },
    {
     "name": "stderr",
     "output_type": "stream",
     "text": [
      "c:\\Users\\Admin\\miniconda3\\envs\\dl_env\\lib\\site-packages\\sklearn\\utils\\validation.py:2749: UserWarning: X does not have valid feature names, but MinMaxScaler was fitted with feature names\n",
      "  warnings.warn(\n",
      "c:\\Users\\Admin\\miniconda3\\envs\\dl_env\\lib\\site-packages\\sklearn\\utils\\validation.py:2749: UserWarning: X does not have valid feature names, but MinMaxScaler was fitted with feature names\n",
      "  warnings.warn(\n"
     ]
    },
    {
     "name": "stdout",
     "output_type": "stream",
     "text": [
      "\u001b[1m1/1\u001b[0m \u001b[32m━━━━━━━━━━━━━━━━━━━━\u001b[0m\u001b[37m\u001b[0m \u001b[1m0s\u001b[0m 44ms/step\n",
      "\u001b[1m1/1\u001b[0m \u001b[32m━━━━━━━━━━━━━━━━━━━━\u001b[0m\u001b[37m\u001b[0m \u001b[1m0s\u001b[0m 49ms/step\n"
     ]
    },
    {
     "name": "stderr",
     "output_type": "stream",
     "text": [
      "c:\\Users\\Admin\\miniconda3\\envs\\dl_env\\lib\\site-packages\\sklearn\\utils\\validation.py:2749: UserWarning: X does not have valid feature names, but MinMaxScaler was fitted with feature names\n",
      "  warnings.warn(\n",
      "c:\\Users\\Admin\\miniconda3\\envs\\dl_env\\lib\\site-packages\\sklearn\\utils\\validation.py:2749: UserWarning: X does not have valid feature names, but MinMaxScaler was fitted with feature names\n",
      "  warnings.warn(\n"
     ]
    },
    {
     "data": {
      "image/png": "[encoded data removed]",
      "text/plain": [
       "<Figure size 1200x500 with 1 Axes>"
      ]
     },
     "metadata": {},
     "output_type": "display_data"
    }
   ],
   "source": [
    "for product in PRODUCTS:\n",
    "    print(f\"\\n=== Training LSTM for {product} ===\")\n",
    "    \n",
    "    df_product = df_all[df_all[\"product\"]==product].copy().reset_index(drop=True)\n",
    "    if df_product.empty:\n",
    "        print(f\"⚠️ No data found for {product}, skipping...\")\n",
    "        continue\n",
    "    \n",
    "    df_product.set_index(\"date\", inplace=True)\n",
    "    \n",
    "    # Scaling\n",
    "    scaler_sales = MinMaxScaler()\n",
    "    scaler_exog = MinMaxScaler()\n",
    "    \n",
    "    df_product[\"sales_scaled\"] = scaler_sales.fit_transform(df_product[[\"sales\"]])\n",
    "    df_product[[\"promotion_scaled\",\"holiday_scaled\"]] = scaler_exog.fit_transform(\n",
    "        df_product[[\"promotion\",\"holiday\"]])\n",
    "    \n",
    "    features = [\"sales_scaled\",\"promotion_scaled\",\"holiday_scaled\"]\n",
    "    X, y = create_sequences(df_product, features)\n",
    "    \n",
    "    # Train/val/test split\n",
    "    train_size = int(0.7*len(X))\n",
    "    val_size = int(0.15*len(X))\n",
    "    X_train, y_train = X[:train_size], y[:train_size]\n",
    "    X_val, y_val = X[train_size:train_size+val_size], y[train_size:train_size+val_size]\n",
    "    X_test, y_test = X[train_size+val_size:], y[train_size+val_size:]\n",
    "    \n",
    "    # Build LSTM\n",
    "    model = Sequential([\n",
    "        LSTM(64, input_shape=(LOOKBACK,len(features)), return_sequences=True),\n",
    "        Dropout(0.2),\n",
    "        LSTM(32, return_sequences=False),\n",
    "        Dropout(0.2),\n",
    "        Dense(16, activation=\"relu\"),\n",
    "        Dense(1, activation=\"linear\")\n",
    "    ])\n",
    "    \n",
    "    model.compile(optimizer=\"adam\", loss=\"mse\", metrics=[\"mae\"])\n",
    "    \n",
    "    # Callbacks\n",
    "    es = EarlyStopping(monitor=\"val_loss\", patience=10, restore_best_weights=True)\n",
    "    \n",
    "    history = model.fit(\n",
    "        X_train, y_train,\n",
    "        validation_data=(X_val, y_val),\n",
    "        epochs=100,\n",
    "        batch_size=32,\n",
    "        callbacks=[es],\n",
    "        verbose=2\n",
    "    )\n",
    "    \n",
    "    # Save final model\n",
    "    \n",
    "    model.save(os.path.join(MODEL_DIR, f\"{product}_lstm.h5\"))\n",
    "    \n",
    "    # ---------------------------\n",
    "    # Evaluate on test\n",
    "    # ---------------------------\n",
    "    y_pred_scaled = model.predict(X_test).ravel()\n",
    "    y_pred = scaler_sales.inverse_transform(y_pred_scaled.reshape(-1,1)).ravel()\n",
    "    y_test_unscaled = scaler_sales.inverse_transform(y_test.reshape(-1,1)).ravel()\n",
    "    \n",
    "    rmse_test = math.sqrt(mean_squared_error(y_test_unscaled, y_pred))\n",
    "    mae_test = mean_absolute_error(y_test_unscaled, y_pred)\n",
    "    print(f\"{product} Test RMSE: {rmse_test:.3f}, MAE: {mae_test:.3f}\")\n",
    "    \n",
    "    # ---------------------------\n",
    "    # Forecast next 30 days\n",
    "    # ---------------------------\n",
    "    last_known_date = df_product.index[-1]\n",
    "    future_dates = pd.date_range(start=last_known_date + timedelta(days=1),\n",
    "                                 periods=FORECAST_HORIZON)\n",
    "    \n",
    "    # Simulate promotions/holidays\n",
    "    future_promo = np.zeros(FORECAST_HORIZON)\n",
    "    for _ in range(3):\n",
    "        start = np.random.randint(0, FORECAST_HORIZON-3)\n",
    "        length = np.random.randint(2,6)\n",
    "        future_promo[start:start+length] = 1\n",
    "    future_holiday = np.zeros(FORECAST_HORIZON)\n",
    "    \n",
    "    last_sequence = df_product[features].iloc[-LOOKBACK:].values.copy()\n",
    "    predictions_scaled = []\n",
    "    \n",
    "    for i in range(FORECAST_HORIZON):\n",
    "        inp = last_sequence.reshape(1, LOOKBACK, len(features))\n",
    "        pred_scaled = model.predict(inp).ravel()[0]\n",
    "        predictions_scaled.append(pred_scaled)\n",
    "        exog_scaled = scaler_exog.transform([[future_promo[i], future_holiday[i]]])[0]\n",
    "        new_row = np.array([pred_scaled, exog_scaled[0], exog_scaled[1]])\n",
    "        last_sequence = np.vstack([last_sequence[1:], new_row])\n",
    "    \n",
    "    predictions_unscaled = scaler_sales.inverse_transform(\n",
    "        np.array(predictions_scaled).reshape(-1,1)).ravel()\n",
    "    \n",
    "    forecast_df = pd.DataFrame({\n",
    "        \"date\": future_dates,\n",
    "        \"product\": product,\n",
    "        \"Model\": \"LSTM\",\n",
    "        \"Forecast\": predictions_unscaled,\n",
    "        \"Actual\": None,\n",
    "        \"promotion\": future_promo,\n",
    "        \"holiday\": future_holiday\n",
    "    })\n",
    "    \n",
    "    master_forecast_df = pd.concat([master_forecast_df, forecast_df], axis=0, ignore_index=True)\n",
    "    \n",
    "    # ---------------------------\n",
    "    # Visualization\n",
    "    # ---------------------------\n",
    "    plt.figure(figsize=(12,5))\n",
    "    plot_start = df_product.index[-90:]\n",
    "    plt.plot(df_product.loc[plot_start,\"sales\"], label=\"Historical Sales\")\n",
    "    plt.plot(forecast_df[\"date\"], forecast_df[\"Forecast\"], label=\"Forecast (30 days)\")\n",
    "    plt.title(f\"{product} LSTM Forecast\")\n",
    "    plt.xlabel(\"Date\")\n",
    "    plt.ylabel(\"Sales\")\n",
    "    plt.legend()\n",
    "    plt.grid(True)\n",
    "    plt.show()"
   ]
  },
  {
   "cell_type": "code",
   "execution_count": 28,
   "id": "3e8bba10",
   "metadata": {},
   "outputs": [
    {
     "data": {
      "text/html": [
       "<div>\n",
       "<style scoped>\n",
       "    .dataframe tbody tr th:only-of-type {\n",
       "        vertical-align: middle;\n",
       "    }\n",
       "\n",
       "    .dataframe tbody tr th {\n",
       "        vertical-align: top;\n",
       "    }\n",
       "\n",
       "    .dataframe thead th {\n",
       "        text-align: right;\n",
       "    }\n",
       "</style>\n",
       "<table border=\"1\" class=\"dataframe\">\n",
       "  <thead>\n",
       "    <tr style=\"text-align: right;\">\n",
       "      <th></th>\n",
       "      <th>Date</th>\n",
       "      <th>Product</th>\n",
       "      <th>Model</th>\n",
       "      <th>Forecast</th>\n",
       "      <th>Actual</th>\n",
       "      <th>promotion</th>\n",
       "      <th>holiday</th>\n",
       "    </tr>\n",
       "  </thead>\n",
       "  <tbody>\n",
       "    <tr>\n",
       "      <th>34</th>\n",
       "      <td>2024-12-05</td>\n",
       "      <td>Vitamin_C</td>\n",
       "      <td>LSTM</td>\n",
       "      <td>54.380768</td>\n",
       "      <td>56</td>\n",
       "      <td>0.0</td>\n",
       "      <td>0.0</td>\n",
       "    </tr>\n",
       "    <tr>\n",
       "      <th>148</th>\n",
       "      <td>2024-12-29</td>\n",
       "      <td>PainRelief_Gel</td>\n",
       "      <td>LSTM</td>\n",
       "      <td>58.045559</td>\n",
       "      <td>57</td>\n",
       "      <td>0.0</td>\n",
       "      <td>0.0</td>\n",
       "    </tr>\n",
       "    <tr>\n",
       "      <th>64</th>\n",
       "      <td>2024-12-05</td>\n",
       "      <td>Antibiotic_A</td>\n",
       "      <td>LSTM</td>\n",
       "      <td>56.537052</td>\n",
       "      <td>58</td>\n",
       "      <td>0.0</td>\n",
       "      <td>0.0</td>\n",
       "    </tr>\n",
       "    <tr>\n",
       "      <th>30</th>\n",
       "      <td>2024-12-01</td>\n",
       "      <td>Vitamin_C</td>\n",
       "      <td>LSTM</td>\n",
       "      <td>62.409168</td>\n",
       "      <td>76</td>\n",
       "      <td>0.0</td>\n",
       "      <td>0.0</td>\n",
       "    </tr>\n",
       "    <tr>\n",
       "      <th>49</th>\n",
       "      <td>2024-12-20</td>\n",
       "      <td>Vitamin_C</td>\n",
       "      <td>LSTM</td>\n",
       "      <td>54.507130</td>\n",
       "      <td>53</td>\n",
       "      <td>0.0</td>\n",
       "      <td>0.0</td>\n",
       "    </tr>\n",
       "    <tr>\n",
       "      <th>107</th>\n",
       "      <td>2024-12-18</td>\n",
       "      <td>Insulin_Supplies</td>\n",
       "      <td>LSTM</td>\n",
       "      <td>57.287426</td>\n",
       "      <td>84</td>\n",
       "      <td>0.0</td>\n",
       "      <td>0.0</td>\n",
       "    </tr>\n",
       "    <tr>\n",
       "      <th>113</th>\n",
       "      <td>2024-12-24</td>\n",
       "      <td>Insulin_Supplies</td>\n",
       "      <td>LSTM</td>\n",
       "      <td>75.447845</td>\n",
       "      <td>65</td>\n",
       "      <td>1.0</td>\n",
       "      <td>0.0</td>\n",
       "    </tr>\n",
       "    <tr>\n",
       "      <th>59</th>\n",
       "      <td>2024-12-30</td>\n",
       "      <td>Vitamin_C</td>\n",
       "      <td>LSTM</td>\n",
       "      <td>59.996380</td>\n",
       "      <td>57</td>\n",
       "      <td>0.0</td>\n",
       "      <td>0.0</td>\n",
       "    </tr>\n",
       "    <tr>\n",
       "      <th>70</th>\n",
       "      <td>2024-12-11</td>\n",
       "      <td>Antibiotic_A</td>\n",
       "      <td>LSTM</td>\n",
       "      <td>71.111244</td>\n",
       "      <td>65</td>\n",
       "      <td>1.0</td>\n",
       "      <td>0.0</td>\n",
       "    </tr>\n",
       "    <tr>\n",
       "      <th>71</th>\n",
       "      <td>2024-12-12</td>\n",
       "      <td>Antibiotic_A</td>\n",
       "      <td>LSTM</td>\n",
       "      <td>67.967453</td>\n",
       "      <td>61</td>\n",
       "      <td>1.0</td>\n",
       "      <td>0.0</td>\n",
       "    </tr>\n",
       "  </tbody>\n",
       "</table>\n",
       "</div>"
      ],
      "text/plain": [
       "          Date           Product Model   Forecast  Actual  promotion  holiday\n",
       "34  2024-12-05         Vitamin_C  LSTM  54.380768      56        0.0      0.0\n",
       "148 2024-12-29    PainRelief_Gel  LSTM  58.045559      57        0.0      0.0\n",
       "64  2024-12-05      Antibiotic_A  LSTM  56.537052      58        0.0      0.0\n",
       "30  2024-12-01         Vitamin_C  LSTM  62.409168      76        0.0      0.0\n",
       "49  2024-12-20         Vitamin_C  LSTM  54.507130      53        0.0      0.0\n",
       "107 2024-12-18  Insulin_Supplies  LSTM  57.287426      84        0.0      0.0\n",
       "113 2024-12-24  Insulin_Supplies  LSTM  75.447845      65        1.0      0.0\n",
       "59  2024-12-30         Vitamin_C  LSTM  59.996380      57        0.0      0.0\n",
       "70  2024-12-11      Antibiotic_A  LSTM  71.111244      65        1.0      0.0\n",
       "71  2024-12-12      Antibiotic_A  LSTM  67.967453      61        1.0      0.0"
      ]
     },
     "execution_count": 28,
     "metadata": {},
     "output_type": "execute_result"
    }
   ],
   "source": [
    "master_forecast_df.sample(10)"
   ]
  },
  {
   "cell_type": "code",
   "execution_count": 29,
   "id": "5c157550",
   "metadata": {},
   "outputs": [],
   "source": [
    "master_forecast_df.rename(columns={\"date\":\"Date\",\"product\":\"Product\"}, inplace=True)"
   ]
  },
  {
   "cell_type": "code",
   "execution_count": 36,
   "id": "32cb70ca",
   "metadata": {},
   "outputs": [],
   "source": [
    "master_forecast_df.drop(['promotion', 'holiday'],inplace=True, axis=1)"
   ]
  },
  {
   "cell_type": "code",
   "execution_count": 37,
   "id": "7bd7d5da",
   "metadata": {},
   "outputs": [
    {
     "data": {
      "text/plain": [
       "(150, 5)"
      ]
     },
     "execution_count": 37,
     "metadata": {},
     "output_type": "execute_result"
    }
   ],
   "source": [
    "master_forecast_df.shape"
   ]
  },
  {
   "cell_type": "code",
   "execution_count": null,
   "id": "478a0be8",
   "metadata": {},
   "outputs": [],
   "source": [
    "test_df=pd.read_csv(\"C:/Users/Admin/NIYOJAN/Data/Synthetic/Test/lstm_data.csv\")"
   ]
  },
  {
   "cell_type": "code",
   "execution_count": 39,
   "id": "cac73a11",
   "metadata": {},
   "outputs": [
    {
     "data": {
      "text/plain": [
       "(150, 5)"
      ]
     },
     "execution_count": 39,
     "metadata": {},
     "output_type": "execute_result"
    }
   ],
   "source": [
    "test_df.shape"
   ]
  },
  {
   "cell_type": "code",
   "execution_count": 40,
   "id": "a45c5eea",
   "metadata": {},
   "outputs": [
    {
     "data": {
      "text/html": [
       "<div>\n",
       "<style scoped>\n",
       "    .dataframe tbody tr th:only-of-type {\n",
       "        vertical-align: middle;\n",
       "    }\n",
       "\n",
       "    .dataframe tbody tr th {\n",
       "        vertical-align: top;\n",
       "    }\n",
       "\n",
       "    .dataframe thead th {\n",
       "        text-align: right;\n",
       "    }\n",
       "</style>\n",
       "<table border=\"1\" class=\"dataframe\">\n",
       "  <thead>\n",
       "    <tr style=\"text-align: right;\">\n",
       "      <th></th>\n",
       "      <th>date</th>\n",
       "      <th>product</th>\n",
       "      <th>sales</th>\n",
       "      <th>promotion</th>\n",
       "      <th>holiday</th>\n",
       "    </tr>\n",
       "  </thead>\n",
       "  <tbody>\n",
       "    <tr>\n",
       "      <th>15</th>\n",
       "      <td>2024-12-16</td>\n",
       "      <td>Paracetamol_500mg</td>\n",
       "      <td>75</td>\n",
       "      <td>0</td>\n",
       "      <td>0</td>\n",
       "    </tr>\n",
       "    <tr>\n",
       "      <th>109</th>\n",
       "      <td>2024-12-20</td>\n",
       "      <td>Insulin_Supplies</td>\n",
       "      <td>65</td>\n",
       "      <td>0</td>\n",
       "      <td>0</td>\n",
       "    </tr>\n",
       "    <tr>\n",
       "      <th>78</th>\n",
       "      <td>2024-12-19</td>\n",
       "      <td>Antibiotic_A</td>\n",
       "      <td>65</td>\n",
       "      <td>0</td>\n",
       "      <td>0</td>\n",
       "    </tr>\n",
       "    <tr>\n",
       "      <th>14</th>\n",
       "      <td>2024-12-15</td>\n",
       "      <td>Paracetamol_500mg</td>\n",
       "      <td>69</td>\n",
       "      <td>0</td>\n",
       "      <td>0</td>\n",
       "    </tr>\n",
       "    <tr>\n",
       "      <th>107</th>\n",
       "      <td>2024-12-18</td>\n",
       "      <td>Insulin_Supplies</td>\n",
       "      <td>84</td>\n",
       "      <td>1</td>\n",
       "      <td>0</td>\n",
       "    </tr>\n",
       "    <tr>\n",
       "      <th>79</th>\n",
       "      <td>2024-12-20</td>\n",
       "      <td>Antibiotic_A</td>\n",
       "      <td>57</td>\n",
       "      <td>0</td>\n",
       "      <td>0</td>\n",
       "    </tr>\n",
       "    <tr>\n",
       "      <th>139</th>\n",
       "      <td>2024-12-20</td>\n",
       "      <td>PainRelief_Gel</td>\n",
       "      <td>61</td>\n",
       "      <td>0</td>\n",
       "      <td>0</td>\n",
       "    </tr>\n",
       "    <tr>\n",
       "      <th>121</th>\n",
       "      <td>2024-12-02</td>\n",
       "      <td>PainRelief_Gel</td>\n",
       "      <td>58</td>\n",
       "      <td>0</td>\n",
       "      <td>0</td>\n",
       "    </tr>\n",
       "    <tr>\n",
       "      <th>116</th>\n",
       "      <td>2024-12-27</td>\n",
       "      <td>Insulin_Supplies</td>\n",
       "      <td>58</td>\n",
       "      <td>0</td>\n",
       "      <td>0</td>\n",
       "    </tr>\n",
       "    <tr>\n",
       "      <th>100</th>\n",
       "      <td>2024-12-11</td>\n",
       "      <td>Insulin_Supplies</td>\n",
       "      <td>59</td>\n",
       "      <td>0</td>\n",
       "      <td>0</td>\n",
       "    </tr>\n",
       "  </tbody>\n",
       "</table>\n",
       "</div>"
      ],
      "text/plain": [
       "           date            product  sales  promotion  holiday\n",
       "15   2024-12-16  Paracetamol_500mg     75          0        0\n",
       "109  2024-12-20   Insulin_Supplies     65          0        0\n",
       "78   2024-12-19       Antibiotic_A     65          0        0\n",
       "14   2024-12-15  Paracetamol_500mg     69          0        0\n",
       "107  2024-12-18   Insulin_Supplies     84          1        0\n",
       "79   2024-12-20       Antibiotic_A     57          0        0\n",
       "139  2024-12-20     PainRelief_Gel     61          0        0\n",
       "121  2024-12-02     PainRelief_Gel     58          0        0\n",
       "116  2024-12-27   Insulin_Supplies     58          0        0\n",
       "100  2024-12-11   Insulin_Supplies     59          0        0"
      ]
     },
     "execution_count": 40,
     "metadata": {},
     "output_type": "execute_result"
    }
   ],
   "source": [
    "test_df.sample(10)"
   ]
  },
  {
   "cell_type": "code",
   "execution_count": 41,
   "id": "74505b64",
   "metadata": {},
   "outputs": [],
   "source": [
    "test_df.drop(['promotion', 'holiday'],inplace=True, axis=1)"
   ]
  },
  {
   "cell_type": "code",
   "execution_count": 42,
   "id": "ba072172",
   "metadata": {},
   "outputs": [
    {
     "data": {
      "text/html": [
       "<div>\n",
       "<style scoped>\n",
       "    .dataframe tbody tr th:only-of-type {\n",
       "        vertical-align: middle;\n",
       "    }\n",
       "\n",
       "    .dataframe tbody tr th {\n",
       "        vertical-align: top;\n",
       "    }\n",
       "\n",
       "    .dataframe thead th {\n",
       "        text-align: right;\n",
       "    }\n",
       "</style>\n",
       "<table border=\"1\" class=\"dataframe\">\n",
       "  <thead>\n",
       "    <tr style=\"text-align: right;\">\n",
       "      <th></th>\n",
       "      <th>date</th>\n",
       "      <th>product</th>\n",
       "      <th>sales</th>\n",
       "    </tr>\n",
       "  </thead>\n",
       "  <tbody>\n",
       "    <tr>\n",
       "      <th>123</th>\n",
       "      <td>2024-12-04</td>\n",
       "      <td>PainRelief_Gel</td>\n",
       "      <td>65</td>\n",
       "    </tr>\n",
       "    <tr>\n",
       "      <th>63</th>\n",
       "      <td>2024-12-04</td>\n",
       "      <td>Antibiotic_A</td>\n",
       "      <td>60</td>\n",
       "    </tr>\n",
       "    <tr>\n",
       "      <th>101</th>\n",
       "      <td>2024-12-12</td>\n",
       "      <td>Insulin_Supplies</td>\n",
       "      <td>63</td>\n",
       "    </tr>\n",
       "    <tr>\n",
       "      <th>75</th>\n",
       "      <td>2024-12-16</td>\n",
       "      <td>Antibiotic_A</td>\n",
       "      <td>56</td>\n",
       "    </tr>\n",
       "    <tr>\n",
       "      <th>35</th>\n",
       "      <td>2024-12-06</td>\n",
       "      <td>Vitamin_C</td>\n",
       "      <td>53</td>\n",
       "    </tr>\n",
       "    <tr>\n",
       "      <th>27</th>\n",
       "      <td>2024-12-28</td>\n",
       "      <td>Paracetamol_500mg</td>\n",
       "      <td>70</td>\n",
       "    </tr>\n",
       "    <tr>\n",
       "      <th>53</th>\n",
       "      <td>2024-12-24</td>\n",
       "      <td>Vitamin_C</td>\n",
       "      <td>65</td>\n",
       "    </tr>\n",
       "    <tr>\n",
       "      <th>34</th>\n",
       "      <td>2024-12-05</td>\n",
       "      <td>Vitamin_C</td>\n",
       "      <td>56</td>\n",
       "    </tr>\n",
       "    <tr>\n",
       "      <th>67</th>\n",
       "      <td>2024-12-08</td>\n",
       "      <td>Antibiotic_A</td>\n",
       "      <td>59</td>\n",
       "    </tr>\n",
       "    <tr>\n",
       "      <th>49</th>\n",
       "      <td>2024-12-20</td>\n",
       "      <td>Vitamin_C</td>\n",
       "      <td>53</td>\n",
       "    </tr>\n",
       "  </tbody>\n",
       "</table>\n",
       "</div>"
      ],
      "text/plain": [
       "           date            product  sales\n",
       "123  2024-12-04     PainRelief_Gel     65\n",
       "63   2024-12-04       Antibiotic_A     60\n",
       "101  2024-12-12   Insulin_Supplies     63\n",
       "75   2024-12-16       Antibiotic_A     56\n",
       "35   2024-12-06          Vitamin_C     53\n",
       "27   2024-12-28  Paracetamol_500mg     70\n",
       "53   2024-12-24          Vitamin_C     65\n",
       "34   2024-12-05          Vitamin_C     56\n",
       "67   2024-12-08       Antibiotic_A     59\n",
       "49   2024-12-20          Vitamin_C     53"
      ]
     },
     "execution_count": 42,
     "metadata": {},
     "output_type": "execute_result"
    }
   ],
   "source": [
    "test_df.sample(10)"
   ]
  },
  {
   "cell_type": "code",
   "execution_count": 43,
   "id": "f0f5848d",
   "metadata": {},
   "outputs": [],
   "source": [
    "# Convert forecast Date to datetime (if not already)\n",
    "master_forecast_df['Date'] = pd.to_datetime(master_forecast_df['Date'])\n",
    "\n",
    "# Convert actuals Date to datetime\n",
    "test_df['date'] = pd.to_datetime(test_df['date'])"
   ]
  },
  {
   "cell_type": "code",
   "execution_count": 44,
   "id": "f315fb69",
   "metadata": {},
   "outputs": [
    {
     "name": "stdout",
     "output_type": "stream",
     "text": [
      "2024-12-01 00:00:00 2024-12-30 00:00:00\n",
      "2024-12-01 00:00:00 2024-12-30 00:00:00\n"
     ]
    }
   ],
   "source": [
    "print(test_df['date'].min(), test_df['date'].max())\n",
    "print(master_forecast_df['Date'].min(), master_forecast_df['Date'].max())"
   ]
  },
  {
   "cell_type": "code",
   "execution_count": 45,
   "id": "16f1e1c1",
   "metadata": {},
   "outputs": [
    {
     "name": "stdout",
     "output_type": "stream",
     "text": [
      "<class 'pandas.core.frame.DataFrame'>\n",
      "RangeIndex: 150 entries, 0 to 149\n",
      "Data columns (total 5 columns):\n",
      " #   Column    Non-Null Count  Dtype         \n",
      "---  ------    --------------  -----         \n",
      " 0   Date      150 non-null    datetime64[ns]\n",
      " 1   Product   150 non-null    object        \n",
      " 2   Model     150 non-null    object        \n",
      " 3   Forecast  150 non-null    float32       \n",
      " 4   Actual    150 non-null    int64         \n",
      "dtypes: datetime64[ns](1), float32(1), int64(1), object(2)\n",
      "memory usage: 5.4+ KB\n",
      "<class 'pandas.core.frame.DataFrame'>\n",
      "RangeIndex: 150 entries, 0 to 149\n",
      "Data columns (total 3 columns):\n",
      " #   Column   Non-Null Count  Dtype         \n",
      "---  ------   --------------  -----         \n",
      " 0   date     150 non-null    datetime64[ns]\n",
      " 1   product  150 non-null    object        \n",
      " 2   sales    150 non-null    int64         \n",
      "dtypes: datetime64[ns](1), int64(1), object(1)\n",
      "memory usage: 3.6+ KB\n"
     ]
    }
   ],
   "source": [
    "master_forecast_df['Product'] = master_forecast_df['Product'].str.strip()\n",
    "test_df['product'] = test_df['product'].str.strip()\n",
    "master_forecast_df.info()\n",
    "test_df.info()"
   ]
  },
  {
   "cell_type": "code",
   "execution_count": 46,
   "id": "cb8053fa",
   "metadata": {},
   "outputs": [],
   "source": [
    "master_forecast_df = master_forecast_df.merge(test_df[['date','product','sales']], \n",
    "                                left_on=['Date','Product'],\n",
    "                                right_on=['date','product'],\n",
    "                                how='left')\n",
    "master_forecast_df['Actual'] = master_forecast_df['sales']"
   ]
  },
  {
   "cell_type": "code",
   "execution_count": 47,
   "id": "1cc34f80",
   "metadata": {},
   "outputs": [
    {
     "data": {
      "text/html": [
       "<div>\n",
       "<style scoped>\n",
       "    .dataframe tbody tr th:only-of-type {\n",
       "        vertical-align: middle;\n",
       "    }\n",
       "\n",
       "    .dataframe tbody tr th {\n",
       "        vertical-align: top;\n",
       "    }\n",
       "\n",
       "    .dataframe thead th {\n",
       "        text-align: right;\n",
       "    }\n",
       "</style>\n",
       "<table border=\"1\" class=\"dataframe\">\n",
       "  <thead>\n",
       "    <tr style=\"text-align: right;\">\n",
       "      <th></th>\n",
       "      <th>Date</th>\n",
       "      <th>Product</th>\n",
       "      <th>Model</th>\n",
       "      <th>Forecast</th>\n",
       "      <th>Actual</th>\n",
       "      <th>date</th>\n",
       "      <th>product</th>\n",
       "      <th>sales</th>\n",
       "    </tr>\n",
       "  </thead>\n",
       "  <tbody>\n",
       "    <tr>\n",
       "      <th>83</th>\n",
       "      <td>2024-12-24</td>\n",
       "      <td>Antibiotic_A</td>\n",
       "      <td>LSTM</td>\n",
       "      <td>68.164635</td>\n",
       "      <td>61</td>\n",
       "      <td>2024-12-24</td>\n",
       "      <td>Antibiotic_A</td>\n",
       "      <td>61</td>\n",
       "    </tr>\n",
       "    <tr>\n",
       "      <th>129</th>\n",
       "      <td>2024-12-10</td>\n",
       "      <td>PainRelief_Gel</td>\n",
       "      <td>LSTM</td>\n",
       "      <td>61.057377</td>\n",
       "      <td>62</td>\n",
       "      <td>2024-12-10</td>\n",
       "      <td>PainRelief_Gel</td>\n",
       "      <td>62</td>\n",
       "    </tr>\n",
       "    <tr>\n",
       "      <th>64</th>\n",
       "      <td>2024-12-05</td>\n",
       "      <td>Antibiotic_A</td>\n",
       "      <td>LSTM</td>\n",
       "      <td>56.537052</td>\n",
       "      <td>58</td>\n",
       "      <td>2024-12-05</td>\n",
       "      <td>Antibiotic_A</td>\n",
       "      <td>58</td>\n",
       "    </tr>\n",
       "    <tr>\n",
       "      <th>49</th>\n",
       "      <td>2024-12-20</td>\n",
       "      <td>Vitamin_C</td>\n",
       "      <td>LSTM</td>\n",
       "      <td>54.507130</td>\n",
       "      <td>53</td>\n",
       "      <td>2024-12-20</td>\n",
       "      <td>Vitamin_C</td>\n",
       "      <td>53</td>\n",
       "    </tr>\n",
       "    <tr>\n",
       "      <th>48</th>\n",
       "      <td>2024-12-19</td>\n",
       "      <td>Vitamin_C</td>\n",
       "      <td>LSTM</td>\n",
       "      <td>54.540730</td>\n",
       "      <td>60</td>\n",
       "      <td>2024-12-19</td>\n",
       "      <td>Vitamin_C</td>\n",
       "      <td>60</td>\n",
       "    </tr>\n",
       "    <tr>\n",
       "      <th>7</th>\n",
       "      <td>2024-12-08</td>\n",
       "      <td>Paracetamol_500mg</td>\n",
       "      <td>LSTM</td>\n",
       "      <td>69.848541</td>\n",
       "      <td>65</td>\n",
       "      <td>2024-12-08</td>\n",
       "      <td>Paracetamol_500mg</td>\n",
       "      <td>65</td>\n",
       "    </tr>\n",
       "    <tr>\n",
       "      <th>128</th>\n",
       "      <td>2024-12-09</td>\n",
       "      <td>PainRelief_Gel</td>\n",
       "      <td>LSTM</td>\n",
       "      <td>86.006577</td>\n",
       "      <td>57</td>\n",
       "      <td>2024-12-09</td>\n",
       "      <td>PainRelief_Gel</td>\n",
       "      <td>57</td>\n",
       "    </tr>\n",
       "    <tr>\n",
       "      <th>117</th>\n",
       "      <td>2024-12-28</td>\n",
       "      <td>Insulin_Supplies</td>\n",
       "      <td>LSTM</td>\n",
       "      <td>67.669014</td>\n",
       "      <td>49</td>\n",
       "      <td>2024-12-28</td>\n",
       "      <td>Insulin_Supplies</td>\n",
       "      <td>49</td>\n",
       "    </tr>\n",
       "    <tr>\n",
       "      <th>20</th>\n",
       "      <td>2024-12-21</td>\n",
       "      <td>Paracetamol_500mg</td>\n",
       "      <td>LSTM</td>\n",
       "      <td>62.172653</td>\n",
       "      <td>55</td>\n",
       "      <td>2024-12-21</td>\n",
       "      <td>Paracetamol_500mg</td>\n",
       "      <td>55</td>\n",
       "    </tr>\n",
       "    <tr>\n",
       "      <th>143</th>\n",
       "      <td>2024-12-24</td>\n",
       "      <td>PainRelief_Gel</td>\n",
       "      <td>LSTM</td>\n",
       "      <td>62.270580</td>\n",
       "      <td>86</td>\n",
       "      <td>2024-12-24</td>\n",
       "      <td>PainRelief_Gel</td>\n",
       "      <td>86</td>\n",
       "    </tr>\n",
       "  </tbody>\n",
       "</table>\n",
       "</div>"
      ],
      "text/plain": [
       "          Date            Product Model   Forecast  Actual       date  \\\n",
       "83  2024-12-24       Antibiotic_A  LSTM  68.164635      61 2024-12-24   \n",
       "129 2024-12-10     PainRelief_Gel  LSTM  61.057377      62 2024-12-10   \n",
       "64  2024-12-05       Antibiotic_A  LSTM  56.537052      58 2024-12-05   \n",
       "49  2024-12-20          Vitamin_C  LSTM  54.507130      53 2024-12-20   \n",
       "48  2024-12-19          Vitamin_C  LSTM  54.540730      60 2024-12-19   \n",
       "7   2024-12-08  Paracetamol_500mg  LSTM  69.848541      65 2024-12-08   \n",
       "128 2024-12-09     PainRelief_Gel  LSTM  86.006577      57 2024-12-09   \n",
       "117 2024-12-28   Insulin_Supplies  LSTM  67.669014      49 2024-12-28   \n",
       "20  2024-12-21  Paracetamol_500mg  LSTM  62.172653      55 2024-12-21   \n",
       "143 2024-12-24     PainRelief_Gel  LSTM  62.270580      86 2024-12-24   \n",
       "\n",
       "               product  sales  \n",
       "83        Antibiotic_A     61  \n",
       "129     PainRelief_Gel     62  \n",
       "64        Antibiotic_A     58  \n",
       "49           Vitamin_C     53  \n",
       "48           Vitamin_C     60  \n",
       "7    Paracetamol_500mg     65  \n",
       "128     PainRelief_Gel     57  \n",
       "117   Insulin_Supplies     49  \n",
       "20   Paracetamol_500mg     55  \n",
       "143     PainRelief_Gel     86  "
      ]
     },
     "execution_count": 47,
     "metadata": {},
     "output_type": "execute_result"
    }
   ],
   "source": [
    "master_forecast_df.sample(10)"
   ]
  },
  {
   "cell_type": "code",
   "execution_count": 48,
   "id": "4a7ab112",
   "metadata": {},
   "outputs": [],
   "source": [
    "master_forecast_df.drop(['date','product','sales'], axis=1, inplace=True)"
   ]
  },
  {
   "cell_type": "code",
   "execution_count": 49,
   "id": "9bde0cfe",
   "metadata": {},
   "outputs": [
    {
     "data": {
      "text/html": [
       "<div>\n",
       "<style scoped>\n",
       "    .dataframe tbody tr th:only-of-type {\n",
       "        vertical-align: middle;\n",
       "    }\n",
       "\n",
       "    .dataframe tbody tr th {\n",
       "        vertical-align: top;\n",
       "    }\n",
       "\n",
       "    .dataframe thead th {\n",
       "        text-align: right;\n",
       "    }\n",
       "</style>\n",
       "<table border=\"1\" class=\"dataframe\">\n",
       "  <thead>\n",
       "    <tr style=\"text-align: right;\">\n",
       "      <th></th>\n",
       "      <th>Date</th>\n",
       "      <th>Product</th>\n",
       "      <th>Model</th>\n",
       "      <th>Forecast</th>\n",
       "      <th>Actual</th>\n",
       "    </tr>\n",
       "  </thead>\n",
       "  <tbody>\n",
       "    <tr>\n",
       "      <th>121</th>\n",
       "      <td>2024-12-02</td>\n",
       "      <td>PainRelief_Gel</td>\n",
       "      <td>LSTM</td>\n",
       "      <td>59.404396</td>\n",
       "      <td>58</td>\n",
       "    </tr>\n",
       "    <tr>\n",
       "      <th>22</th>\n",
       "      <td>2024-12-23</td>\n",
       "      <td>Paracetamol_500mg</td>\n",
       "      <td>LSTM</td>\n",
       "      <td>60.146324</td>\n",
       "      <td>75</td>\n",
       "    </tr>\n",
       "    <tr>\n",
       "      <th>4</th>\n",
       "      <td>2024-12-05</td>\n",
       "      <td>Paracetamol_500mg</td>\n",
       "      <td>LSTM</td>\n",
       "      <td>63.583912</td>\n",
       "      <td>95</td>\n",
       "    </tr>\n",
       "    <tr>\n",
       "      <th>145</th>\n",
       "      <td>2024-12-26</td>\n",
       "      <td>PainRelief_Gel</td>\n",
       "      <td>LSTM</td>\n",
       "      <td>55.729500</td>\n",
       "      <td>102</td>\n",
       "    </tr>\n",
       "    <tr>\n",
       "      <th>111</th>\n",
       "      <td>2024-12-22</td>\n",
       "      <td>Insulin_Supplies</td>\n",
       "      <td>LSTM</td>\n",
       "      <td>70.324722</td>\n",
       "      <td>55</td>\n",
       "    </tr>\n",
       "    <tr>\n",
       "      <th>48</th>\n",
       "      <td>2024-12-19</td>\n",
       "      <td>Vitamin_C</td>\n",
       "      <td>LSTM</td>\n",
       "      <td>54.540730</td>\n",
       "      <td>60</td>\n",
       "    </tr>\n",
       "    <tr>\n",
       "      <th>86</th>\n",
       "      <td>2024-12-27</td>\n",
       "      <td>Antibiotic_A</td>\n",
       "      <td>LSTM</td>\n",
       "      <td>55.427002</td>\n",
       "      <td>57</td>\n",
       "    </tr>\n",
       "    <tr>\n",
       "      <th>142</th>\n",
       "      <td>2024-12-23</td>\n",
       "      <td>PainRelief_Gel</td>\n",
       "      <td>LSTM</td>\n",
       "      <td>88.584496</td>\n",
       "      <td>96</td>\n",
       "    </tr>\n",
       "    <tr>\n",
       "      <th>87</th>\n",
       "      <td>2024-12-28</td>\n",
       "      <td>Antibiotic_A</td>\n",
       "      <td>LSTM</td>\n",
       "      <td>53.323826</td>\n",
       "      <td>52</td>\n",
       "    </tr>\n",
       "    <tr>\n",
       "      <th>75</th>\n",
       "      <td>2024-12-16</td>\n",
       "      <td>Antibiotic_A</td>\n",
       "      <td>LSTM</td>\n",
       "      <td>60.997707</td>\n",
       "      <td>56</td>\n",
       "    </tr>\n",
       "  </tbody>\n",
       "</table>\n",
       "</div>"
      ],
      "text/plain": [
       "          Date            Product Model   Forecast  Actual\n",
       "121 2024-12-02     PainRelief_Gel  LSTM  59.404396      58\n",
       "22  2024-12-23  Paracetamol_500mg  LSTM  60.146324      75\n",
       "4   2024-12-05  Paracetamol_500mg  LSTM  63.583912      95\n",
       "145 2024-12-26     PainRelief_Gel  LSTM  55.729500     102\n",
       "111 2024-12-22   Insulin_Supplies  LSTM  70.324722      55\n",
       "48  2024-12-19          Vitamin_C  LSTM  54.540730      60\n",
       "86  2024-12-27       Antibiotic_A  LSTM  55.427002      57\n",
       "142 2024-12-23     PainRelief_Gel  LSTM  88.584496      96\n",
       "87  2024-12-28       Antibiotic_A  LSTM  53.323826      52\n",
       "75  2024-12-16       Antibiotic_A  LSTM  60.997707      56"
      ]
     },
     "execution_count": 49,
     "metadata": {},
     "output_type": "execute_result"
    }
   ],
   "source": [
    "master_forecast_df.sample(10)"
   ]
  },
  {
   "cell_type": "code",
   "execution_count": 50,
   "id": "6131daaa",
   "metadata": {},
   "outputs": [
    {
     "data": {
      "text/plain": [
       "(150, 5)"
      ]
     },
     "execution_count": 50,
     "metadata": {},
     "output_type": "execute_result"
    }
   ],
   "source": [
    "master_forecast_df.shape"
   ]
  },
  {
   "cell_type": "code",
   "execution_count": 51,
   "id": "97913964",
   "metadata": {},
   "outputs": [],
   "source": [
    "master_forecast_df.to_csv(os.path.join(FORECAST_DIR, \"LSTM_Forecast.csv\"), index=False)"
   ]
  },
  {
   "cell_type": "code",
   "execution_count": null,
   "id": "5669c9b8",
   "metadata": {},
   "outputs": [],
   "source": []
  }
 ],
 "metadata": {
  "kernelspec": {
   "display_name": "dl_env",
   "language": "python",
   "name": "python3"
  },
  "language_info": {
   "codemirror_mode": {
    "name": "ipython",
    "version": 3
   },
   "file_extension": ".py",
   "mimetype": "text/x-python",
   "name": "python",
   "nbconvert_exporter": "python",
   "pygments_lexer": "ipython3",
   "version": "3.10.18"
  }
 },
 "nbformat": 4,
 "nbformat_minor": 5
}
