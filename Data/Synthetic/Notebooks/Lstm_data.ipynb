{
 "cells": [
  {
   "cell_type": "markdown",
   "id": "857b7d0f",
   "metadata": {},
   "source": [
    "## LSTM Synthetic Dataset"
   ]
  },
  {
   "cell_type": "code",
   "execution_count": 15,
   "id": "0495851c",
   "metadata": {},
   "outputs": [],
   "source": [
    "import numpy as np \n",
    "import pandas as pd\n",
    "import matplotlib.pyplot as plt\n",
    "import seaborn as sns\n",
    "import random"
   ]
  },
  {
   "cell_type": "code",
   "execution_count": 16,
   "id": "e8342094",
   "metadata": {},
   "outputs": [],
   "source": [
    "SEED = 42\n",
    "np.random.seed(SEED)\n",
    "random.seed(SEED)"
   ]
  },
  {
   "cell_type": "code",
   "execution_count": 17,
   "id": "af39dbd9",
   "metadata": {},
   "outputs": [],
   "source": [
    "PRODUCTS = [\n",
    "    \"Paracetamol_500mg\",\n",
    "    \"Vitamin_C\",\n",
    "    \"Antibiotic_A\",\n",
    "    \"Insulin_Supplies\",\n",
    "    \"PainRelief_Gel\"\n",
    "]"
   ]
  },
  {
   "cell_type": "code",
   "execution_count": 18,
   "id": "5757fd74",
   "metadata": {},
   "outputs": [],
   "source": [
    "start_date = pd.to_datetime(\"2022-01-01\")\n",
    "end_date = pd.to_datetime(\"2024-12-31\") # ~3 years\n",
    "dates = pd.date_range(start_date, end_date, freq='D')\n",
    "n = len(dates)"
   ]
  },
  {
   "cell_type": "code",
   "execution_count": 19,
   "id": "0bd82b5b",
   "metadata": {},
   "outputs": [],
   "source": [
    "all_products_data = []"
   ]
  },
  {
   "cell_type": "code",
   "execution_count": 20,
   "id": "fad2edc7",
   "metadata": {},
   "outputs": [],
   "source": [
    "for product in PRODUCTS:\n",
    "    # Base demand and weekly/annual seasonality\n",
    "    base = 50 + 5 * np.sin(2 * np.pi * dates.dayofyear / 365.25)\n",
    "    weekly = 5 * np.sin(2 * np.pi * dates.dayofweek / 7)\n",
    "    trend = np.linspace(0, 10, n)\n",
    "    \n",
    "    # Promotions: product-specific pattern\n",
    "    promotion = np.zeros(n, dtype=int)\n",
    "    for year in [2022, 2023, 2024]:\n",
    "        year_dates = pd.date_range(f\"{year}-01-01\", f\"{year}-12-31\", freq='D')\n",
    "        for _ in range(15):\n",
    "            start = np.random.choice(year_dates[:-10])\n",
    "            length = np.random.randint(3, 10)\n",
    "            idx_start = (start - start_date).days\n",
    "            promotion[idx_start: idx_start+length] = 1\n",
    "    \n",
    "    # Holidays (same across products)\n",
    "    holiday_dates = [\n",
    "        pd.to_datetime(\"2022-01-01\"), pd.to_datetime(\"2022-12-25\"),\n",
    "        pd.to_datetime(\"2023-01-01\"), pd.to_datetime(\"2023-11-12\"),\n",
    "        pd.to_datetime(\"2024-01-01\"), pd.to_datetime(\"2024-11-01\")\n",
    "    ]\n",
    "    holiday_flag = np.isin(dates, holiday_dates).astype(int)\n",
    "    \n",
    "    # Noise & promotion/holiday uplift\n",
    "    noise = np.random.normal(0, 3, n)\n",
    "    promo_uplift = promotion * (15 + np.random.normal(0, 5, n))\n",
    "    holiday_uplift = holiday_flag * 20\n",
    "    \n",
    "    # Product-specific irregularity\n",
    "    if product == \"Paracetamol_500mg\":\n",
    "        spike = np.random.randint(0, 20, n)\n",
    "    elif product == \"PainRelief_Gel\":\n",
    "        spike = promotion * np.random.randint(10, 30, n)\n",
    "    else:\n",
    "        spike = np.zeros(n)\n",
    "    \n",
    "    sales = base + weekly + trend + promo_uplift + holiday_uplift + noise + spike\n",
    "    sales = np.clip(sales.round().astype(int), a_min=0, a_max=None)\n",
    "    \n",
    "    df_product = pd.DataFrame({\n",
    "        \"date\": dates,\n",
    "        \"product\": product,\n",
    "        \"sales\": sales,\n",
    "        \"promotion\": promotion,\n",
    "        \"holiday\": holiday_flag\n",
    "    })\n",
    "    \n",
    "    all_products_data.append(df_product)"
   ]
  },
  {
   "cell_type": "code",
   "execution_count": 21,
   "id": "a99f0574",
   "metadata": {},
   "outputs": [],
   "source": [
    "df_all = pd.concat(all_products_data).reset_index(drop=True)"
   ]
  },
  {
   "cell_type": "code",
   "execution_count": 22,
   "id": "beef4603",
   "metadata": {},
   "outputs": [
    {
     "data": {
      "text/html": [
       "<div>\n",
       "<style scoped>\n",
       "    .dataframe tbody tr th:only-of-type {\n",
       "        vertical-align: middle;\n",
       "    }\n",
       "\n",
       "    .dataframe tbody tr th {\n",
       "        vertical-align: top;\n",
       "    }\n",
       "\n",
       "    .dataframe thead th {\n",
       "        text-align: right;\n",
       "    }\n",
       "</style>\n",
       "<table border=\"1\" class=\"dataframe\">\n",
       "  <thead>\n",
       "    <tr style=\"text-align: right;\">\n",
       "      <th></th>\n",
       "      <th>date</th>\n",
       "      <th>product</th>\n",
       "      <th>sales</th>\n",
       "      <th>promotion</th>\n",
       "      <th>holiday</th>\n",
       "    </tr>\n",
       "  </thead>\n",
       "  <tbody>\n",
       "    <tr>\n",
       "      <th>2979</th>\n",
       "      <td>2024-02-27</td>\n",
       "      <td>Antibiotic_A</td>\n",
       "      <td>76</td>\n",
       "      <td>1</td>\n",
       "      <td>0</td>\n",
       "    </tr>\n",
       "    <tr>\n",
       "      <th>4691</th>\n",
       "      <td>2022-11-04</td>\n",
       "      <td>PainRelief_Gel</td>\n",
       "      <td>47</td>\n",
       "      <td>0</td>\n",
       "      <td>0</td>\n",
       "    </tr>\n",
       "    <tr>\n",
       "      <th>5316</th>\n",
       "      <td>2024-07-21</td>\n",
       "      <td>PainRelief_Gel</td>\n",
       "      <td>91</td>\n",
       "      <td>1</td>\n",
       "      <td>0</td>\n",
       "    </tr>\n",
       "    <tr>\n",
       "      <th>191</th>\n",
       "      <td>2022-07-11</td>\n",
       "      <td>Paracetamol_500mg</td>\n",
       "      <td>82</td>\n",
       "      <td>1</td>\n",
       "      <td>0</td>\n",
       "    </tr>\n",
       "    <tr>\n",
       "      <th>2833</th>\n",
       "      <td>2023-10-04</td>\n",
       "      <td>Antibiotic_A</td>\n",
       "      <td>56</td>\n",
       "      <td>0</td>\n",
       "      <td>0</td>\n",
       "    </tr>\n",
       "    <tr>\n",
       "      <th>1661</th>\n",
       "      <td>2023-07-20</td>\n",
       "      <td>Vitamin_C</td>\n",
       "      <td>68</td>\n",
       "      <td>1</td>\n",
       "      <td>0</td>\n",
       "    </tr>\n",
       "    <tr>\n",
       "      <th>3968</th>\n",
       "      <td>2023-11-12</td>\n",
       "      <td>Insulin_Supplies</td>\n",
       "      <td>44</td>\n",
       "      <td>0</td>\n",
       "      <td>0</td>\n",
       "    </tr>\n",
       "    <tr>\n",
       "      <th>687</th>\n",
       "      <td>2023-11-19</td>\n",
       "      <td>Paracetamol_500mg</td>\n",
       "      <td>52</td>\n",
       "      <td>0</td>\n",
       "      <td>0</td>\n",
       "    </tr>\n",
       "    <tr>\n",
       "      <th>2187</th>\n",
       "      <td>2024-12-27</td>\n",
       "      <td>Vitamin_C</td>\n",
       "      <td>59</td>\n",
       "      <td>0</td>\n",
       "      <td>0</td>\n",
       "    </tr>\n",
       "    <tr>\n",
       "      <th>608</th>\n",
       "      <td>2023-09-01</td>\n",
       "      <td>Paracetamol_500mg</td>\n",
       "      <td>67</td>\n",
       "      <td>0</td>\n",
       "      <td>0</td>\n",
       "    </tr>\n",
       "  </tbody>\n",
       "</table>\n",
       "</div>"
      ],
      "text/plain": [
       "           date            product  sales  promotion  holiday\n",
       "2979 2024-02-27       Antibiotic_A     76          1        0\n",
       "4691 2022-11-04     PainRelief_Gel     47          0        0\n",
       "5316 2024-07-21     PainRelief_Gel     91          1        0\n",
       "191  2022-07-11  Paracetamol_500mg     82          1        0\n",
       "2833 2023-10-04       Antibiotic_A     56          0        0\n",
       "1661 2023-07-20          Vitamin_C     68          1        0\n",
       "3968 2023-11-12   Insulin_Supplies     44          0        0\n",
       "687  2023-11-19  Paracetamol_500mg     52          0        0\n",
       "2187 2024-12-27          Vitamin_C     59          0        0\n",
       "608  2023-09-01  Paracetamol_500mg     67          0        0"
      ]
     },
     "execution_count": 22,
     "metadata": {},
     "output_type": "execute_result"
    }
   ],
   "source": [
    "df_all.sample(10)"
   ]
  },
  {
   "cell_type": "code",
   "execution_count": 23,
   "id": "1d05e0e6",
   "metadata": {},
   "outputs": [
    {
     "name": "stdout",
     "output_type": "stream",
     "text": [
      "<class 'pandas.core.frame.DataFrame'>\n",
      "RangeIndex: 5480 entries, 0 to 5479\n",
      "Data columns (total 5 columns):\n",
      " #   Column     Non-Null Count  Dtype         \n",
      "---  ------     --------------  -----         \n",
      " 0   date       5480 non-null   datetime64[ns]\n",
      " 1   product    5480 non-null   object        \n",
      " 2   sales      5480 non-null   int64         \n",
      " 3   promotion  5480 non-null   int64         \n",
      " 4   holiday    5480 non-null   int64         \n",
      "dtypes: datetime64[ns](1), int64(3), object(1)\n",
      "memory usage: 214.2+ KB\n"
     ]
    }
   ],
   "source": [
    "df_all.info()"
   ]
  },
  {
   "cell_type": "code",
   "execution_count": 24,
   "id": "025d06f0",
   "metadata": {},
   "outputs": [
    {
     "data": {
      "text/plain": [
       "(5480, 5)"
      ]
     },
     "execution_count": 24,
     "metadata": {},
     "output_type": "execute_result"
    }
   ],
   "source": [
    "df_all.shape"
   ]
  },
  {
   "cell_type": "code",
   "execution_count": 25,
   "id": "d84811b7",
   "metadata": {},
   "outputs": [],
   "source": [
    "train_df = df_all[df_all[\"date\"] <= \"2024-11-30\"]\n",
    "test_df  = df_all[(df_all[\"date\"] >= \"2024-12-01\") & (df_all[\"date\"] <= \"2024-12-30\")]"
   ]
  },
  {
   "cell_type": "code",
   "execution_count": 26,
   "id": "46852b99",
   "metadata": {},
   "outputs": [
    {
     "data": {
      "text/plain": [
       "((5325, 5), (150, 5))"
      ]
     },
     "execution_count": 26,
     "metadata": {},
     "output_type": "execute_result"
    }
   ],
   "source": [
    "train_df.shape, test_df.shape   "
   ]
  },
  {
   "cell_type": "code",
   "execution_count": null,
   "id": "861c0aca",
   "metadata": {},
   "outputs": [],
   "source": [
    "train_df.to_csv(\"C:/Users/Admin/NIYOJAN/Data/Synthetic/Training/Lstm_data.csv\", index=False)"
   ]
  },
  {
   "cell_type": "code",
   "execution_count": null,
   "id": "80d02699",
   "metadata": {},
   "outputs": [],
   "source": [
    "test_df.to_csv(\"C:/Users/Admin/NIYOJAN/Data/Synthetic/Test/Lstm_data.csv\", index=False)"
   ]
  }
 ],
 "metadata": {
  "kernelspec": {
   "display_name": "dl_env",
   "language": "python",
   "name": "python3"
  },
  "language_info": {
   "codemirror_mode": {
    "name": "ipython",
    "version": 3
   },
   "file_extension": ".py",
   "mimetype": "text/x-python",
   "name": "python",
   "nbconvert_exporter": "python",
   "pygments_lexer": "ipython3",
   "version": "3.10.18"
  }
 },
 "nbformat": 4,
 "nbformat_minor": 5
}
