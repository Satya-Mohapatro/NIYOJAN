{
 "cells": [
  {
   "cell_type": "markdown",
   "id": "c5df1da5",
   "metadata": {},
   "source": [
    "## Prophet Synthetic Dataset"
   ]
  },
  {
   "cell_type": "code",
   "execution_count": 1,
   "id": "994bb128",
   "metadata": {},
   "outputs": [],
   "source": [
    "import pandas as pd\n",
    "import numpy as np\n",
    "import matplotlib.pyplot as plt\n",
    "import seaborn as sns"
   ]
  },
  {
   "cell_type": "code",
   "execution_count": 2,
   "id": "fce5d62c",
   "metadata": {},
   "outputs": [],
   "source": [
    "RANDOM_SEED = 42\n",
    "np.random.seed(RANDOM_SEED)\n",
    "plt.rcParams['figure.figsize'] = (12, 6)\n",
    "sns.set_style('whitegrid')"
   ]
  },
  {
   "cell_type": "markdown",
   "id": "f04bf7b4",
   "metadata": {},
   "source": [
    "daily sales for 'Cough Syrup' over 3 years"
   ]
  },
  {
   "cell_type": "code",
   "execution_count": 3,
   "id": "821c03b7",
   "metadata": {},
   "outputs": [],
   "source": [
    "def generate_synthetic_sales(product_name, start_date='2022-01-01', periods=3*365, freq='D'):\n",
    "    \"\"\"\n",
    "    Generates synthetic daily sales data for a product with seasonal effects:\n",
    "    - ORS: summer peak\n",
    "    - Cough Syrup: winter peak\n",
    "    - Vitamin C: cold/flu spikes in winter\n",
    "    - Sunscreen: summer peak\n",
    "    - Antihistamine: pollen/allergy season (spring)\n",
    "    \"\"\"\n",
    "    dates = pd.date_range(start=start_date, periods=periods, freq=freq)\n",
    "    n = len(dates)\n",
    "    \n",
    "    # Base level\n",
    "    base_level = {\n",
    "        'ORS_Solution': 15, 'Cough_Syrup': 20, 'Vitamin_C': 18,\n",
    "        'Sunscreen': 10, 'Antihistamine': 12\n",
    "    }.get(product_name, 15)\n",
    "    \n",
    "    # Seasonal strength\n",
    "    seasonal_strength = 0.6\n",
    "    weekly_strength = 0.2\n",
    "    promo_spike_strength = 30\n",
    "    noise_std = 3\n",
    "    \n",
    "    day_of_year = dates.dayofyear.values\n",
    "    day_of_week = dates.dayofweek.values\n",
    "    \n",
    "    # Define yearly seasonality per product\n",
    "    if product_name in ['Cough_Syrup', 'Vitamin_C']:\n",
    "        # Winter peak: Nov-Feb\n",
    "        yearly = seasonal_strength * (1 + np.cos((2*np.pi*(day_of_year - 15))/365))\n",
    "    elif product_name in ['ORS_Solution', 'Sunscreen']:\n",
    "        # Summer peak: May-Aug\n",
    "        yearly = seasonal_strength * (1 + np.cos((2*np.pi*(day_of_year - 200))/365))\n",
    "    elif product_name == 'Antihistamine':\n",
    "        # Spring peak: Mar-May\n",
    "        yearly = seasonal_strength * (1 + np.cos((2*np.pi*(day_of_year - 100))/365))\n",
    "    else:\n",
    "        yearly = np.zeros(n)\n",
    "    \n",
    "    # Weekly seasonality\n",
    "    weekly = weekly_strength * (1 + 0.5 * ((day_of_week >= 0) & (day_of_week <= 4)).astype(float))\n",
    "    \n",
    "    # Trend: slight upward\n",
    "    trend = 0.01 * np.arange(n) / 365.0\n",
    "    \n",
    "    # Base signal\n",
    "    raw_signal = base_level * (1 + yearly + weekly + trend)\n",
    "    \n",
    "    # Promotional spikes\n",
    "    promo = np.zeros(n)\n",
    "    rng = np.random.default_rng(RANDOM_SEED)\n",
    "    for i, dt in enumerate(dates):\n",
    "        # chance of promo in peak season\n",
    "        if ((product_name in ['Cough_Syrup', 'Vitamin_C']) and dt.month in [11,12,1,2]) or \\\n",
    "           ((product_name in ['ORS_Solution','Sunscreen']) and dt.month in [5,6,7,8]) or \\\n",
    "           ((product_name == 'Antihistamine') and dt.month in [3,4,5]):\n",
    "            if rng.random() < 0.03:\n",
    "                promo_length = rng.integers(2,7)\n",
    "                promo[i:i+promo_length] += promo_spike_strength * (1 + rng.random())\n",
    "        # occasional random promo\n",
    "        elif rng.random() < 0.005:\n",
    "            promo_length = rng.integers(1,4)\n",
    "            promo[i:i+promo_length] += promo_spike_strength*0.6\n",
    "    \n",
    "    # Random anomalies\n",
    "    anomalies = np.zeros(n)\n",
    "    for i in range(n):\n",
    "        if rng.random() < 0.002:\n",
    "            anomalies[i] = -0.7 * raw_signal[i]\n",
    "    \n",
    "    # Noise\n",
    "    noise = rng.normal(0, noise_std, n)\n",
    "    \n",
    "    y = raw_signal + promo + anomalies + noise\n",
    "    y = np.clip(y, 0, None)\n",
    "    y = np.round(y).astype(int)\n",
    "    \n",
    "    df = pd.DataFrame({\n",
    "        'ds': dates,\n",
    "        'y': y,\n",
    "        'product': product_name\n",
    "    })\n",
    "    \n",
    "    # Add regressors\n",
    "    df['month'] = df['ds'].dt.month\n",
    "    df['day_of_year'] = df['ds'].dt.dayofyear\n",
    "    # Winter flag\n",
    "    df['is_winter'] = df['month'].isin([11,12,1,2]).astype(int)\n",
    "    # Synthetic temp (summer=hot, winter=cold)\n",
    "    df['temp'] = 25 + 8*np.sin(2*np.pi*(df['day_of_year'] - 200)/365) + np.random.normal(0,1,len(df))\n",
    "    \n",
    "    return df"
   ]
  },
  {
   "cell_type": "code",
   "execution_count": 4,
   "id": "3fdb39bb",
   "metadata": {},
   "outputs": [],
   "source": [
    "# Generate for all products\n",
    "products = ['ORS_Solution', 'Cough_Syrup', 'Vitamin_C', 'Sunscreen', 'Antihistamine']\n",
    "all_data = pd.concat([generate_synthetic_sales(p) for p in products], ignore_index=True)"
   ]
  },
  {
   "cell_type": "code",
   "execution_count": 5,
   "id": "575aa3b6",
   "metadata": {},
   "outputs": [
    {
     "data": {
      "text/html": [
       "<div>\n",
       "<style scoped>\n",
       "    .dataframe tbody tr th:only-of-type {\n",
       "        vertical-align: middle;\n",
       "    }\n",
       "\n",
       "    .dataframe tbody tr th {\n",
       "        vertical-align: top;\n",
       "    }\n",
       "\n",
       "    .dataframe thead th {\n",
       "        text-align: right;\n",
       "    }\n",
       "</style>\n",
       "<table border=\"1\" class=\"dataframe\">\n",
       "  <thead>\n",
       "    <tr style=\"text-align: right;\">\n",
       "      <th></th>\n",
       "      <th>ds</th>\n",
       "      <th>y</th>\n",
       "      <th>product</th>\n",
       "      <th>month</th>\n",
       "      <th>day_of_year</th>\n",
       "      <th>is_winter</th>\n",
       "      <th>temp</th>\n",
       "    </tr>\n",
       "  </thead>\n",
       "  <tbody>\n",
       "    <tr>\n",
       "      <th>914</th>\n",
       "      <td>2024-07-03</td>\n",
       "      <td>41</td>\n",
       "      <td>ORS_Solution</td>\n",
       "      <td>7</td>\n",
       "      <td>185</td>\n",
       "      <td>0</td>\n",
       "      <td>22.861878</td>\n",
       "    </tr>\n",
       "    <tr>\n",
       "      <th>1929</th>\n",
       "      <td>2024-04-14</td>\n",
       "      <td>33</td>\n",
       "      <td>Cough_Syrup</td>\n",
       "      <td>4</td>\n",
       "      <td>105</td>\n",
       "      <td>0</td>\n",
       "      <td>18.975010</td>\n",
       "    </tr>\n",
       "    <tr>\n",
       "      <th>4794</th>\n",
       "      <td>2023-02-19</td>\n",
       "      <td>28</td>\n",
       "      <td>Antihistamine</td>\n",
       "      <td>2</td>\n",
       "      <td>50</td>\n",
       "      <td>1</td>\n",
       "      <td>20.604043</td>\n",
       "    </tr>\n",
       "    <tr>\n",
       "      <th>2308</th>\n",
       "      <td>2022-04-29</td>\n",
       "      <td>36</td>\n",
       "      <td>Vitamin_C</td>\n",
       "      <td>4</td>\n",
       "      <td>119</td>\n",
       "      <td>0</td>\n",
       "      <td>17.658715</td>\n",
       "    </tr>\n",
       "    <tr>\n",
       "      <th>88</th>\n",
       "      <td>2022-03-30</td>\n",
       "      <td>25</td>\n",
       "      <td>ORS_Solution</td>\n",
       "      <td>3</td>\n",
       "      <td>89</td>\n",
       "      <td>0</td>\n",
       "      <td>16.928151</td>\n",
       "    </tr>\n",
       "    <tr>\n",
       "      <th>3339</th>\n",
       "      <td>2022-02-24</td>\n",
       "      <td>12</td>\n",
       "      <td>Sunscreen</td>\n",
       "      <td>2</td>\n",
       "      <td>55</td>\n",
       "      <td>1</td>\n",
       "      <td>21.983368</td>\n",
       "    </tr>\n",
       "    <tr>\n",
       "      <th>312</th>\n",
       "      <td>2022-11-09</td>\n",
       "      <td>26</td>\n",
       "      <td>ORS_Solution</td>\n",
       "      <td>11</td>\n",
       "      <td>313</td>\n",
       "      <td>1</td>\n",
       "      <td>33.271208</td>\n",
       "    </tr>\n",
       "    <tr>\n",
       "      <th>4873</th>\n",
       "      <td>2023-05-09</td>\n",
       "      <td>26</td>\n",
       "      <td>Antihistamine</td>\n",
       "      <td>5</td>\n",
       "      <td>129</td>\n",
       "      <td>0</td>\n",
       "      <td>17.714020</td>\n",
       "    </tr>\n",
       "    <tr>\n",
       "      <th>4851</th>\n",
       "      <td>2023-04-17</td>\n",
       "      <td>28</td>\n",
       "      <td>Antihistamine</td>\n",
       "      <td>4</td>\n",
       "      <td>107</td>\n",
       "      <td>0</td>\n",
       "      <td>19.552639</td>\n",
       "    </tr>\n",
       "    <tr>\n",
       "      <th>1375</th>\n",
       "      <td>2022-10-08</td>\n",
       "      <td>32</td>\n",
       "      <td>Cough_Syrup</td>\n",
       "      <td>10</td>\n",
       "      <td>281</td>\n",
       "      <td>0</td>\n",
       "      <td>32.666467</td>\n",
       "    </tr>\n",
       "  </tbody>\n",
       "</table>\n",
       "</div>"
      ],
      "text/plain": [
       "             ds   y        product  month  day_of_year  is_winter       temp\n",
       "914  2024-07-03  41   ORS_Solution      7          185          0  22.861878\n",
       "1929 2024-04-14  33    Cough_Syrup      4          105          0  18.975010\n",
       "4794 2023-02-19  28  Antihistamine      2           50          1  20.604043\n",
       "2308 2022-04-29  36      Vitamin_C      4          119          0  17.658715\n",
       "88   2022-03-30  25   ORS_Solution      3           89          0  16.928151\n",
       "3339 2022-02-24  12      Sunscreen      2           55          1  21.983368\n",
       "312  2022-11-09  26   ORS_Solution     11          313          1  33.271208\n",
       "4873 2023-05-09  26  Antihistamine      5          129          0  17.714020\n",
       "4851 2023-04-17  28  Antihistamine      4          107          0  19.552639\n",
       "1375 2022-10-08  32    Cough_Syrup     10          281          0  32.666467"
      ]
     },
     "execution_count": 5,
     "metadata": {},
     "output_type": "execute_result"
    }
   ],
   "source": [
    "all_data.sample(10)"
   ]
  },
  {
   "cell_type": "code",
   "execution_count": 6,
   "id": "bea00501",
   "metadata": {},
   "outputs": [
    {
     "data": {
      "text/plain": [
       "(5475, 7)"
      ]
     },
     "execution_count": 6,
     "metadata": {},
     "output_type": "execute_result"
    }
   ],
   "source": [
    "all_data.shape"
   ]
  },
  {
   "cell_type": "code",
   "execution_count": 7,
   "id": "cbdb03cb",
   "metadata": {},
   "outputs": [
    {
     "name": "stdout",
     "output_type": "stream",
     "text": [
      "<class 'pandas.core.frame.DataFrame'>\n",
      "RangeIndex: 5475 entries, 0 to 5474\n",
      "Data columns (total 7 columns):\n",
      " #   Column       Non-Null Count  Dtype         \n",
      "---  ------       --------------  -----         \n",
      " 0   ds           5475 non-null   datetime64[ns]\n",
      " 1   y            5475 non-null   int64         \n",
      " 2   product      5475 non-null   object        \n",
      " 3   month        5475 non-null   int32         \n",
      " 4   day_of_year  5475 non-null   int32         \n",
      " 5   is_winter    5475 non-null   int64         \n",
      " 6   temp         5475 non-null   float64       \n",
      "dtypes: datetime64[ns](1), float64(1), int32(2), int64(2), object(1)\n",
      "memory usage: 256.8+ KB\n"
     ]
    }
   ],
   "source": [
    "all_data.info()"
   ]
  },
  {
   "cell_type": "code",
   "execution_count": 8,
   "id": "d3b413c5",
   "metadata": {},
   "outputs": [],
   "source": [
    "train_df = all_data[all_data[\"ds\"] <= \"2024-11-30\"]\n",
    "test_df  = all_data[(all_data[\"ds\"] >= \"2024-12-01\") & (all_data[\"ds\"] <= \"2024-12-30\")]"
   ]
  },
  {
   "cell_type": "code",
   "execution_count": 14,
   "id": "6174b981",
   "metadata": {},
   "outputs": [
    {
     "name": "stdout",
     "output_type": "stream",
     "text": [
      "2024-12-01 00:00:00 2024-12-30 00:00:00\n"
     ]
    }
   ],
   "source": [
    "print(test_df['ds'].min(), test_df['ds'].max())"
   ]
  },
  {
   "cell_type": "code",
   "execution_count": 9,
   "id": "694fff36",
   "metadata": {},
   "outputs": [
    {
     "data": {
      "text/plain": [
       "((5325, 7), (150, 7))"
      ]
     },
     "execution_count": 9,
     "metadata": {},
     "output_type": "execute_result"
    }
   ],
   "source": [
    "train_df.shape, test_df.shape"
   ]
  },
  {
   "cell_type": "code",
   "execution_count": null,
   "id": "3e163f67",
   "metadata": {},
   "outputs": [],
   "source": [
    "train_df.to_csv(\"C:/Users/Admin/NIYOJAN/Data/Synthetic/Training/prophet_data.csv\", index=False)"
   ]
  },
  {
   "cell_type": "code",
   "execution_count": null,
   "id": "6728c2e8",
   "metadata": {},
   "outputs": [],
   "source": [
    "test_df.to_csv(\"C:/Users/Admin/NIYOJAN/Data/Synthetic/Test/prophet_data.csv\", index=False)"
   ]
  }
 ],
 "metadata": {
  "kernelspec": {
   "display_name": "dl_env",
   "language": "python",
   "name": "python3"
  },
  "language_info": {
   "codemirror_mode": {
    "name": "ipython",
    "version": 3
   },
   "file_extension": ".py",
   "mimetype": "text/x-python",
   "name": "python",
   "nbconvert_exporter": "python",
   "pygments_lexer": "ipython3",
   "version": "3.10.18"
  }
 },
 "nbformat": 4,
 "nbformat_minor": 5
}
