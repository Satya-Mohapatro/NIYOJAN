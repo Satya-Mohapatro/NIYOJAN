{
 "cells": [
  {
   "cell_type": "markdown",
   "id": "962ef92a",
   "metadata": {},
   "source": [
    "## XGBoost Synthetic Dataset"
   ]
  },
  {
   "cell_type": "code",
   "execution_count": 1,
   "id": "fe1766b6",
   "metadata": {},
   "outputs": [],
   "source": [
    "import pandas as pd\n",
    "import numpy as np\n",
    "import matplotlib.pyplot as plt\n",
    "import seaborn as sns"
   ]
  },
  {
   "cell_type": "code",
   "execution_count": 2,
   "id": "9a863d30",
   "metadata": {},
   "outputs": [],
   "source": [
    "np.random.seed(42)"
   ]
  },
  {
   "cell_type": "code",
   "execution_count": 3,
   "id": "9c8fbff6",
   "metadata": {},
   "outputs": [],
   "source": [
    "products = [\n",
    "    \"ORS_Solution\",        # temp-sensitive (heatwaves)\n",
    "    \"Paracetamol_500mg\",   # flu season + outbreak flags\n",
    "    \"Antibiotic_A\",        # doctor-driven + irregular demand\n",
    "    \"Sunscreen\",           # summer + weather\n",
    "    \"Travel_Antidiarrheal\" # travel/holiday sensitive\n",
    "]"
   ]
  },
  {
   "cell_type": "code",
   "execution_count": 4,
   "id": "e997daaa",
   "metadata": {},
   "outputs": [],
   "source": [
    "start_date = \"2022-01-01\"\n",
    "end_date   = \"2024-12-31\"   # 3 years\n",
    "dates = pd.date_range(start=start_date, end=end_date, freq=\"D\")"
   ]
  },
  {
   "cell_type": "code",
   "execution_count": 5,
   "id": "e94b22d9",
   "metadata": {},
   "outputs": [],
   "source": [
    "# Create master dataset\n",
    "data = []\n",
    "for date in dates:\n",
    "    temp = 20 + 10*np.sin(2*np.pi*date.timetuple().tm_yday/365) + np.random.normal(0,2)  # seasonal temp\n",
    "    holiday = 1 if date.weekday() in [5,6] else 0  # weekend as holiday\n",
    "    outbreak = 1 if (date.month in [1,2,12] and np.random.rand() < 0.05) else 0  # flu outbreak chance\n",
    "    \n",
    "    for product in products:\n",
    "        # Base sales per product\n",
    "        if product == \"ORS_Solution\":\n",
    "            sales = 30 + 2*temp + 10*holiday + np.random.normal(0,5)\n",
    "        elif product == \"Paracetamol_500mg\":\n",
    "            sales = 40 + 15*outbreak + np.random.normal(0,8)\n",
    "        elif product == \"Antibiotic_A\":\n",
    "            sales = 25 + np.random.poisson(3) + np.random.normal(0,4)\n",
    "        elif product == \"Sunscreen\":\n",
    "            sales = 20 + 3*max(temp-25,0) + np.random.normal(0,5)\n",
    "        elif product == \"Travel/Antidiarrheal\":\n",
    "            sales = 15 + 12*holiday + np.random.normal(0,3)\n",
    "        \n",
    "        sales = float(np.ravel(sales)[0])  \n",
    "        data.append([date, product, temp, holiday, outbreak, max(0, int(sales))])"
   ]
  },
  {
   "cell_type": "code",
   "execution_count": 6,
   "id": "335a255d",
   "metadata": {},
   "outputs": [],
   "source": [
    "df = pd.DataFrame(data, columns=[\"date\",\"product\",\"temperature\",\"holiday\",\"outbreak\",\"sales\"])"
   ]
  },
  {
   "cell_type": "code",
   "execution_count": 7,
   "id": "86970de9",
   "metadata": {},
   "outputs": [
    {
     "data": {
      "text/plain": [
       "(5480, 6)"
      ]
     },
     "execution_count": 7,
     "metadata": {},
     "output_type": "execute_result"
    }
   ],
   "source": [
    "df.shape"
   ]
  },
  {
   "cell_type": "code",
   "execution_count": 8,
   "id": "0283b0f6",
   "metadata": {},
   "outputs": [
    {
     "name": "stdout",
     "output_type": "stream",
     "text": [
      "<class 'pandas.core.frame.DataFrame'>\n",
      "RangeIndex: 5480 entries, 0 to 5479\n",
      "Data columns (total 6 columns):\n",
      " #   Column       Non-Null Count  Dtype         \n",
      "---  ------       --------------  -----         \n",
      " 0   date         5480 non-null   datetime64[ns]\n",
      " 1   product      5480 non-null   object        \n",
      " 2   temperature  5480 non-null   float64       \n",
      " 3   holiday      5480 non-null   int64         \n",
      " 4   outbreak     5480 non-null   int64         \n",
      " 5   sales        5480 non-null   int64         \n",
      "dtypes: datetime64[ns](1), float64(1), int64(3), object(1)\n",
      "memory usage: 257.0+ KB\n"
     ]
    }
   ],
   "source": [
    "df.info()"
   ]
  },
  {
   "cell_type": "code",
   "execution_count": 9,
   "id": "c6513c01",
   "metadata": {},
   "outputs": [
    {
     "data": {
      "text/html": [
       "<div>\n",
       "<style scoped>\n",
       "    .dataframe tbody tr th:only-of-type {\n",
       "        vertical-align: middle;\n",
       "    }\n",
       "\n",
       "    .dataframe tbody tr th {\n",
       "        vertical-align: top;\n",
       "    }\n",
       "\n",
       "    .dataframe thead th {\n",
       "        text-align: right;\n",
       "    }\n",
       "</style>\n",
       "<table border=\"1\" class=\"dataframe\">\n",
       "  <thead>\n",
       "    <tr style=\"text-align: right;\">\n",
       "      <th></th>\n",
       "      <th>date</th>\n",
       "      <th>product</th>\n",
       "      <th>temperature</th>\n",
       "      <th>holiday</th>\n",
       "      <th>outbreak</th>\n",
       "      <th>sales</th>\n",
       "    </tr>\n",
       "  </thead>\n",
       "  <tbody>\n",
       "    <tr>\n",
       "      <th>1457</th>\n",
       "      <td>2022-10-19</td>\n",
       "      <td>Antibiotic_A</td>\n",
       "      <td>9.946125</td>\n",
       "      <td>0</td>\n",
       "      <td>0</td>\n",
       "      <td>31</td>\n",
       "    </tr>\n",
       "    <tr>\n",
       "      <th>3932</th>\n",
       "      <td>2024-02-26</td>\n",
       "      <td>Antibiotic_A</td>\n",
       "      <td>29.790525</td>\n",
       "      <td>0</td>\n",
       "      <td>0</td>\n",
       "      <td>31</td>\n",
       "    </tr>\n",
       "    <tr>\n",
       "      <th>4801</th>\n",
       "      <td>2024-08-18</td>\n",
       "      <td>Paracetamol_500mg</td>\n",
       "      <td>15.291859</td>\n",
       "      <td>1</td>\n",
       "      <td>0</td>\n",
       "      <td>39</td>\n",
       "    </tr>\n",
       "    <tr>\n",
       "      <th>4490</th>\n",
       "      <td>2024-06-17</td>\n",
       "      <td>ORS_Solution</td>\n",
       "      <td>20.483677</td>\n",
       "      <td>0</td>\n",
       "      <td>0</td>\n",
       "      <td>74</td>\n",
       "    </tr>\n",
       "    <tr>\n",
       "      <th>1114</th>\n",
       "      <td>2022-08-11</td>\n",
       "      <td>Travel_Antidiarrheal</td>\n",
       "      <td>15.485726</td>\n",
       "      <td>0</td>\n",
       "      <td>0</td>\n",
       "      <td>11</td>\n",
       "    </tr>\n",
       "    <tr>\n",
       "      <th>2554</th>\n",
       "      <td>2023-05-26</td>\n",
       "      <td>Travel_Antidiarrheal</td>\n",
       "      <td>28.748027</td>\n",
       "      <td>0</td>\n",
       "      <td>0</td>\n",
       "      <td>31</td>\n",
       "    </tr>\n",
       "    <tr>\n",
       "      <th>4979</th>\n",
       "      <td>2024-09-22</td>\n",
       "      <td>Travel_Antidiarrheal</td>\n",
       "      <td>10.585379</td>\n",
       "      <td>1</td>\n",
       "      <td>0</td>\n",
       "      <td>20</td>\n",
       "    </tr>\n",
       "    <tr>\n",
       "      <th>731</th>\n",
       "      <td>2022-05-27</td>\n",
       "      <td>Paracetamol_500mg</td>\n",
       "      <td>27.665481</td>\n",
       "      <td>0</td>\n",
       "      <td>0</td>\n",
       "      <td>35</td>\n",
       "    </tr>\n",
       "    <tr>\n",
       "      <th>1929</th>\n",
       "      <td>2023-01-21</td>\n",
       "      <td>Travel_Antidiarrheal</td>\n",
       "      <td>22.031891</td>\n",
       "      <td>1</td>\n",
       "      <td>0</td>\n",
       "      <td>26</td>\n",
       "    </tr>\n",
       "    <tr>\n",
       "      <th>602</th>\n",
       "      <td>2022-05-01</td>\n",
       "      <td>Antibiotic_A</td>\n",
       "      <td>28.321157</td>\n",
       "      <td>1</td>\n",
       "      <td>0</td>\n",
       "      <td>35</td>\n",
       "    </tr>\n",
       "  </tbody>\n",
       "</table>\n",
       "</div>"
      ],
      "text/plain": [
       "           date               product  temperature  holiday  outbreak  sales\n",
       "1457 2022-10-19          Antibiotic_A     9.946125        0         0     31\n",
       "3932 2024-02-26          Antibiotic_A    29.790525        0         0     31\n",
       "4801 2024-08-18     Paracetamol_500mg    15.291859        1         0     39\n",
       "4490 2024-06-17          ORS_Solution    20.483677        0         0     74\n",
       "1114 2022-08-11  Travel_Antidiarrheal    15.485726        0         0     11\n",
       "2554 2023-05-26  Travel_Antidiarrheal    28.748027        0         0     31\n",
       "4979 2024-09-22  Travel_Antidiarrheal    10.585379        1         0     20\n",
       "731  2022-05-27     Paracetamol_500mg    27.665481        0         0     35\n",
       "1929 2023-01-21  Travel_Antidiarrheal    22.031891        1         0     26\n",
       "602  2022-05-01          Antibiotic_A    28.321157        1         0     35"
      ]
     },
     "execution_count": 9,
     "metadata": {},
     "output_type": "execute_result"
    }
   ],
   "source": [
    "df.sample(10)"
   ]
  },
  {
   "cell_type": "code",
   "execution_count": 10,
   "id": "ab309bfb",
   "metadata": {},
   "outputs": [],
   "source": [
    "train_df = df[df[\"date\"] <= \"2024-11-30\"]\n",
    "test_df  = df[(df[\"date\"] >= \"2024-12-01\") & (df[\"date\"] <= \"2024-12-30\")]"
   ]
  },
  {
   "cell_type": "code",
   "execution_count": 11,
   "id": "bfaacf28",
   "metadata": {},
   "outputs": [
    {
     "data": {
      "text/plain": [
       "((5325, 6), (150, 6))"
      ]
     },
     "execution_count": 11,
     "metadata": {},
     "output_type": "execute_result"
    }
   ],
   "source": [
    "train_df.shape, test_df.shape"
   ]
  },
  {
   "cell_type": "code",
   "execution_count": 12,
   "id": "460ae8d4",
   "metadata": {},
   "outputs": [],
   "source": [
    "train_df.to_csv(\"C:/Users/Admin/IIS/Data/Synthetic/Training/xgb_data.csv\", index=False)"
   ]
  },
  {
   "cell_type": "code",
   "execution_count": 13,
   "id": "5b4129c2",
   "metadata": {},
   "outputs": [],
   "source": [
    "test_df.to_csv(\"C:/Users/Admin/IIS/Data/Synthetic/Test/xbg_data.csv\", index=False)"
   ]
  }
 ],
 "metadata": {
  "kernelspec": {
   "display_name": "dl_env",
   "language": "python",
   "name": "python3"
  },
  "language_info": {
   "codemirror_mode": {
    "name": "ipython",
    "version": 3
   },
   "file_extension": ".py",
   "mimetype": "text/x-python",
   "name": "python",
   "nbconvert_exporter": "python",
   "pygments_lexer": "ipython3",
   "version": "3.10.18"
  }
 },
 "nbformat": 4,
 "nbformat_minor": 5
}
