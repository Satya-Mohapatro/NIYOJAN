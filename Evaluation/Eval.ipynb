{
 "cells": [
  {
   "cell_type": "markdown",
   "id": "88de7eb8",
   "metadata": {},
   "source": [
    "## Evaluation of Models"
   ]
  },
  {
   "cell_type": "code",
   "execution_count": 4,
   "id": "717faac2",
   "metadata": {},
   "outputs": [],
   "source": [
    "import numpy as np\n",
    "import pandas as pd"
   ]
  },
  {
   "cell_type": "code",
   "execution_count": null,
   "id": "cd21d2bc",
   "metadata": {},
   "outputs": [],
   "source": [
    "forecast_master=pd.read_csv('C:/Users/Admin/NIYOJAN/Forecasts/forecast_master.csv')"
   ]
  },
  {
   "cell_type": "code",
   "execution_count": 6,
   "id": "c9d57109",
   "metadata": {},
   "outputs": [],
   "source": [
    "def mape(y_true, y_pred):\n",
    "    return np.mean(np.abs((y_true - y_pred) / y_true)) * 100\n",
    "\n",
    "def rmse(y_true, y_pred):\n",
    "    return np.sqrt(np.mean((y_true - y_pred) ** 2))\n",
    "\n",
    "def mae(y_true, y_pred):\n",
    "    return np.mean(np.abs(y_true - y_pred))"
   ]
  },
  {
   "cell_type": "code",
   "execution_count": 8,
   "id": "1829fa29",
   "metadata": {},
   "outputs": [
    {
     "name": "stderr",
     "output_type": "stream",
     "text": [
      "C:\\Users\\Admin\\AppData\\Local\\Temp\\ipykernel_15252\\1841825358.py:4: FutureWarning: DataFrameGroupBy.apply operated on the grouping columns. This behavior is deprecated, and in a future version of pandas the grouping columns will be excluded from the operation. Either pass `include_groups=False` to exclude the groupings or explicitly select the grouping columns after groupby to silence this warning.\n",
      "  .apply(lambda g: pd.Series({\n"
     ]
    }
   ],
   "source": [
    "results = (\n",
    "    forecast_master\n",
    "    .groupby([\"Product\", \"Model\"])\n",
    "    .apply(lambda g: pd.Series({\n",
    "        \"MAPE\": mape(g[\"Actual\"], g[\"Forecast\"]),\n",
    "        \"RMSE\": rmse(g[\"Actual\"], g[\"Forecast\"]),\n",
    "        \"MAE\": mae(g[\"Actual\"], g[\"Forecast\"])\n",
    "    }))\n",
    "    .reset_index()\n",
    ")"
   ]
  },
  {
   "cell_type": "code",
   "execution_count": 13,
   "id": "75df3096",
   "metadata": {},
   "outputs": [
    {
     "data": {
      "text/html": [
       "<div>\n",
       "<style scoped>\n",
       "    .dataframe tbody tr th:only-of-type {\n",
       "        vertical-align: middle;\n",
       "    }\n",
       "\n",
       "    .dataframe tbody tr th {\n",
       "        vertical-align: top;\n",
       "    }\n",
       "\n",
       "    .dataframe thead th {\n",
       "        text-align: right;\n",
       "    }\n",
       "</style>\n",
       "<table border=\"1\" class=\"dataframe\">\n",
       "  <thead>\n",
       "    <tr style=\"text-align: right;\">\n",
       "      <th></th>\n",
       "      <th>Product</th>\n",
       "      <th>Model</th>\n",
       "      <th>MAPE</th>\n",
       "      <th>RMSE</th>\n",
       "      <th>MAE</th>\n",
       "    </tr>\n",
       "  </thead>\n",
       "  <tbody>\n",
       "    <tr>\n",
       "      <th>15</th>\n",
       "      <td>Sunscreen</td>\n",
       "      <td>XGBoost</td>\n",
       "      <td>21.208077</td>\n",
       "      <td>4.750439</td>\n",
       "      <td>3.633333</td>\n",
       "    </tr>\n",
       "    <tr>\n",
       "      <th>16</th>\n",
       "      <td>Travel_Antidiarrheal</td>\n",
       "      <td>XGBoost</td>\n",
       "      <td>21.236296</td>\n",
       "      <td>4.813176</td>\n",
       "      <td>3.633333</td>\n",
       "    </tr>\n",
       "    <tr>\n",
       "      <th>6</th>\n",
       "      <td>Insulin_Supplies</td>\n",
       "      <td>LSTM</td>\n",
       "      <td>16.378477</td>\n",
       "      <td>12.404423</td>\n",
       "      <td>10.068242</td>\n",
       "    </tr>\n",
       "    <tr>\n",
       "      <th>2</th>\n",
       "      <td>Antibiotic_A</td>\n",
       "      <td>XGBoost</td>\n",
       "      <td>14.944504</td>\n",
       "      <td>5.507571</td>\n",
       "      <td>4.533333</td>\n",
       "    </tr>\n",
       "    <tr>\n",
       "      <th>9</th>\n",
       "      <td>ORS_Solution</td>\n",
       "      <td>XGBoost</td>\n",
       "      <td>11.869063</td>\n",
       "      <td>8.951722</td>\n",
       "      <td>7.533333</td>\n",
       "    </tr>\n",
       "    <tr>\n",
       "      <th>3</th>\n",
       "      <td>Antihistamine</td>\n",
       "      <td>Prophet</td>\n",
       "      <td>16.270847</td>\n",
       "      <td>3.612257</td>\n",
       "      <td>2.900784</td>\n",
       "    </tr>\n",
       "    <tr>\n",
       "      <th>5</th>\n",
       "      <td>Cough_Syrup</td>\n",
       "      <td>Prophet</td>\n",
       "      <td>10.813428</td>\n",
       "      <td>14.257021</td>\n",
       "      <td>7.073845</td>\n",
       "    </tr>\n",
       "    <tr>\n",
       "      <th>12</th>\n",
       "      <td>Paracetamol_500mg</td>\n",
       "      <td>LSTM</td>\n",
       "      <td>13.311868</td>\n",
       "      <td>12.313900</td>\n",
       "      <td>10.162996</td>\n",
       "    </tr>\n",
       "    <tr>\n",
       "      <th>4</th>\n",
       "      <td>Cough_Syrup</td>\n",
       "      <td>ARIMA</td>\n",
       "      <td>9.040577</td>\n",
       "      <td>2.758840</td>\n",
       "      <td>1.728790</td>\n",
       "    </tr>\n",
       "    <tr>\n",
       "      <th>17</th>\n",
       "      <td>Vitamin_C</td>\n",
       "      <td>ARIMA</td>\n",
       "      <td>5.664047</td>\n",
       "      <td>3.297656</td>\n",
       "      <td>2.237978</td>\n",
       "    </tr>\n",
       "  </tbody>\n",
       "</table>\n",
       "</div>"
      ],
      "text/plain": [
       "                 Product    Model       MAPE       RMSE        MAE\n",
       "15             Sunscreen  XGBoost  21.208077   4.750439   3.633333\n",
       "16  Travel_Antidiarrheal  XGBoost  21.236296   4.813176   3.633333\n",
       "6       Insulin_Supplies     LSTM  16.378477  12.404423  10.068242\n",
       "2           Antibiotic_A  XGBoost  14.944504   5.507571   4.533333\n",
       "9           ORS_Solution  XGBoost  11.869063   8.951722   7.533333\n",
       "3          Antihistamine  Prophet  16.270847   3.612257   2.900784\n",
       "5            Cough_Syrup  Prophet  10.813428  14.257021   7.073845\n",
       "12     Paracetamol_500mg     LSTM  13.311868  12.313900  10.162996\n",
       "4            Cough_Syrup    ARIMA   9.040577   2.758840   1.728790\n",
       "17             Vitamin_C    ARIMA   5.664047   3.297656   2.237978"
      ]
     },
     "execution_count": 13,
     "metadata": {},
     "output_type": "execute_result"
    }
   ],
   "source": [
    "results.sample(10)"
   ]
  },
  {
   "cell_type": "code",
   "execution_count": 15,
   "id": "3b3228d6",
   "metadata": {},
   "outputs": [],
   "source": [
    "results.to_csv(\"C:/Users/Admin/IIS/Evaluation/model_evaluation_results.csv\", index=False)"
   ]
  },
  {
   "cell_type": "markdown",
   "id": "78578bee",
   "metadata": {},
   "source": [
    "## Selecting Best Model"
   ]
  },
  {
   "cell_type": "code",
   "execution_count": 17,
   "id": "30344e17",
   "metadata": {},
   "outputs": [],
   "source": [
    "# Select the row with lowest RMSE for each product\n",
    "best_models = (\n",
    "    results.loc[results.groupby(\"Product\")[\"RMSE\"].idxmin()]\n",
    "    [[\"Product\", \"Model\", \"RMSE\"]]\n",
    "    .rename(columns={\"Model\": \"Best_Model\", \"RMSE\": \"Error_Score\"})\n",
    "    .reset_index(drop=True)\n",
    ")"
   ]
  },
  {
   "cell_type": "code",
   "execution_count": 21,
   "id": "9786b93a",
   "metadata": {},
   "outputs": [
    {
     "data": {
      "text/html": [
       "<div>\n",
       "<style scoped>\n",
       "    .dataframe tbody tr th:only-of-type {\n",
       "        vertical-align: middle;\n",
       "    }\n",
       "\n",
       "    .dataframe tbody tr th {\n",
       "        vertical-align: top;\n",
       "    }\n",
       "\n",
       "    .dataframe thead th {\n",
       "        text-align: right;\n",
       "    }\n",
       "</style>\n",
       "<table border=\"1\" class=\"dataframe\">\n",
       "  <thead>\n",
       "    <tr style=\"text-align: right;\">\n",
       "      <th></th>\n",
       "      <th>Product</th>\n",
       "      <th>Best_Model</th>\n",
       "      <th>Error_Score</th>\n",
       "    </tr>\n",
       "  </thead>\n",
       "  <tbody>\n",
       "    <tr>\n",
       "      <th>0</th>\n",
       "      <td>Antibiotic_A</td>\n",
       "      <td>ARIMA</td>\n",
       "      <td>2.259436</td>\n",
       "    </tr>\n",
       "    <tr>\n",
       "      <th>1</th>\n",
       "      <td>Antihistamine</td>\n",
       "      <td>Prophet</td>\n",
       "      <td>3.612257</td>\n",
       "    </tr>\n",
       "    <tr>\n",
       "      <th>2</th>\n",
       "      <td>Cough_Syrup</td>\n",
       "      <td>ARIMA</td>\n",
       "      <td>2.758840</td>\n",
       "    </tr>\n",
       "    <tr>\n",
       "      <th>3</th>\n",
       "      <td>Insulin_Supplies</td>\n",
       "      <td>LSTM</td>\n",
       "      <td>12.404423</td>\n",
       "    </tr>\n",
       "    <tr>\n",
       "      <th>4</th>\n",
       "      <td>ORS_Solution</td>\n",
       "      <td>ARIMA</td>\n",
       "      <td>2.514885</td>\n",
       "    </tr>\n",
       "    <tr>\n",
       "      <th>5</th>\n",
       "      <td>PainRelief_Gel</td>\n",
       "      <td>LSTM</td>\n",
       "      <td>19.670599</td>\n",
       "    </tr>\n",
       "    <tr>\n",
       "      <th>6</th>\n",
       "      <td>Paracetamol_500mg</td>\n",
       "      <td>ARIMA</td>\n",
       "      <td>7.618366</td>\n",
       "    </tr>\n",
       "    <tr>\n",
       "      <th>7</th>\n",
       "      <td>Sunscreen</td>\n",
       "      <td>Prophet</td>\n",
       "      <td>3.438714</td>\n",
       "    </tr>\n",
       "    <tr>\n",
       "      <th>8</th>\n",
       "      <td>Travel_Antidiarrheal</td>\n",
       "      <td>XGBoost</td>\n",
       "      <td>4.813176</td>\n",
       "    </tr>\n",
       "    <tr>\n",
       "      <th>9</th>\n",
       "      <td>Vitamin_C</td>\n",
       "      <td>ARIMA</td>\n",
       "      <td>3.297656</td>\n",
       "    </tr>\n",
       "  </tbody>\n",
       "</table>\n",
       "</div>"
      ],
      "text/plain": [
       "                Product Best_Model  Error_Score\n",
       "0          Antibiotic_A      ARIMA     2.259436\n",
       "1         Antihistamine    Prophet     3.612257\n",
       "2           Cough_Syrup      ARIMA     2.758840\n",
       "3      Insulin_Supplies       LSTM    12.404423\n",
       "4          ORS_Solution      ARIMA     2.514885\n",
       "5        PainRelief_Gel       LSTM    19.670599\n",
       "6     Paracetamol_500mg      ARIMA     7.618366\n",
       "7             Sunscreen    Prophet     3.438714\n",
       "8  Travel_Antidiarrheal    XGBoost     4.813176\n",
       "9             Vitamin_C      ARIMA     3.297656"
      ]
     },
     "execution_count": 21,
     "metadata": {},
     "output_type": "execute_result"
    }
   ],
   "source": [
    "best_models.head(10)"
   ]
  },
  {
   "cell_type": "code",
   "execution_count": null,
   "id": "713fd570",
   "metadata": {},
   "outputs": [],
   "source": [
    "best_models.to_csv(\"C:/Users/Admin/NIYOJAN/Evaluation/best_models_per_product.csv\", index=False)"
   ]
  },
  {
   "cell_type": "markdown",
   "id": "ed98c36a",
   "metadata": {},
   "source": [
    "## Standardize Forecast Outputs"
   ]
  },
  {
   "cell_type": "code",
   "execution_count": 23,
   "id": "393fd1d7",
   "metadata": {},
   "outputs": [],
   "source": [
    "# Merge master forecasts with best model table\n",
    "final_forecasts = forecast_master.merge(\n",
    "    best_models,\n",
    "    left_on=[\"Product\", \"Model\"],\n",
    "    right_on=[\"Product\", \"Best_Model\"],\n",
    "    how=\"inner\"\n",
    ")"
   ]
  },
  {
   "cell_type": "code",
   "execution_count": 24,
   "id": "d446f726",
   "metadata": {},
   "outputs": [],
   "source": [
    "# Keep only required columns\n",
    "final_forecasts = final_forecasts[[\"Date\", \"Product\", \"Forecast\"]].rename(\n",
    "    columns={\"Forecast\": \"Forecast_Sales\"}\n",
    ")"
   ]
  },
  {
   "cell_type": "code",
   "execution_count": 25,
   "id": "341c5c1e",
   "metadata": {},
   "outputs": [],
   "source": [
    "# Sort for neatness\n",
    "final_forecasts = final_forecasts.sort_values([\"Product\", \"Date\"]).reset_index(drop=True)"
   ]
  },
  {
   "cell_type": "code",
   "execution_count": 38,
   "id": "e731b0f0",
   "metadata": {},
   "outputs": [
    {
     "data": {
      "text/html": [
       "<div>\n",
       "<style scoped>\n",
       "    .dataframe tbody tr th:only-of-type {\n",
       "        vertical-align: middle;\n",
       "    }\n",
       "\n",
       "    .dataframe tbody tr th {\n",
       "        vertical-align: top;\n",
       "    }\n",
       "\n",
       "    .dataframe thead th {\n",
       "        text-align: right;\n",
       "    }\n",
       "</style>\n",
       "<table border=\"1\" class=\"dataframe\">\n",
       "  <thead>\n",
       "    <tr style=\"text-align: right;\">\n",
       "      <th></th>\n",
       "      <th>Date</th>\n",
       "      <th>Product</th>\n",
       "      <th>Forecast_Sales</th>\n",
       "    </tr>\n",
       "  </thead>\n",
       "  <tbody>\n",
       "    <tr>\n",
       "      <th>58</th>\n",
       "      <td>2024-12-29</td>\n",
       "      <td>Antihistamine</td>\n",
       "      <td>23.261299</td>\n",
       "    </tr>\n",
       "    <tr>\n",
       "      <th>71</th>\n",
       "      <td>2024-12-12</td>\n",
       "      <td>Cough_Syrup</td>\n",
       "      <td>23.044094</td>\n",
       "    </tr>\n",
       "    <tr>\n",
       "      <th>89</th>\n",
       "      <td>2024-12-30</td>\n",
       "      <td>Cough_Syrup</td>\n",
       "      <td>19.707716</td>\n",
       "    </tr>\n",
       "    <tr>\n",
       "      <th>220</th>\n",
       "      <td>2024-12-11</td>\n",
       "      <td>Sunscreen</td>\n",
       "      <td>13.388565</td>\n",
       "    </tr>\n",
       "    <tr>\n",
       "      <th>92</th>\n",
       "      <td>2024-12-03</td>\n",
       "      <td>Insulin_Supplies</td>\n",
       "      <td>59.251700</td>\n",
       "    </tr>\n",
       "    <tr>\n",
       "      <th>267</th>\n",
       "      <td>2024-12-28</td>\n",
       "      <td>Travel_Antidiarrheal</td>\n",
       "      <td>14.000000</td>\n",
       "    </tr>\n",
       "    <tr>\n",
       "      <th>190</th>\n",
       "      <td>2024-12-11</td>\n",
       "      <td>Paracetamol_500mg</td>\n",
       "      <td>60.232085</td>\n",
       "    </tr>\n",
       "    <tr>\n",
       "      <th>144</th>\n",
       "      <td>2024-12-25</td>\n",
       "      <td>ORS_Solution</td>\n",
       "      <td>8.800441</td>\n",
       "    </tr>\n",
       "    <tr>\n",
       "      <th>128</th>\n",
       "      <td>2024-12-09</td>\n",
       "      <td>ORS_Solution</td>\n",
       "      <td>8.074105</td>\n",
       "    </tr>\n",
       "    <tr>\n",
       "      <th>246</th>\n",
       "      <td>2024-12-07</td>\n",
       "      <td>Travel_Antidiarrheal</td>\n",
       "      <td>18.000000</td>\n",
       "    </tr>\n",
       "  </tbody>\n",
       "</table>\n",
       "</div>"
      ],
      "text/plain": [
       "           Date               Product  Forecast_Sales\n",
       "58   2024-12-29         Antihistamine       23.261299\n",
       "71   2024-12-12           Cough_Syrup       23.044094\n",
       "89   2024-12-30           Cough_Syrup       19.707716\n",
       "220  2024-12-11             Sunscreen       13.388565\n",
       "92   2024-12-03      Insulin_Supplies       59.251700\n",
       "267  2024-12-28  Travel_Antidiarrheal       14.000000\n",
       "190  2024-12-11     Paracetamol_500mg       60.232085\n",
       "144  2024-12-25          ORS_Solution        8.800441\n",
       "128  2024-12-09          ORS_Solution        8.074105\n",
       "246  2024-12-07  Travel_Antidiarrheal       18.000000"
      ]
     },
     "execution_count": 38,
     "metadata": {},
     "output_type": "execute_result"
    }
   ],
   "source": [
    "final_forecasts.sample(10)"
   ]
  },
  {
   "cell_type": "code",
   "execution_count": 39,
   "id": "ab92b4ad",
   "metadata": {},
   "outputs": [
    {
     "data": {
      "text/plain": [
       "(300, 3)"
      ]
     },
     "execution_count": 39,
     "metadata": {},
     "output_type": "execute_result"
    }
   ],
   "source": [
    "final_forecasts.shape"
   ]
  },
  {
   "cell_type": "code",
   "execution_count": null,
   "id": "87c83105",
   "metadata": {},
   "outputs": [],
   "source": [
    "final_forecasts.to_csv(\"C:/Users/Admin/NIYOJAN/Forecasts/final_standardized_forecasts.csv\", index=False)"
   ]
  }
 ],
 "metadata": {
  "kernelspec": {
   "display_name": "dl_env",
   "language": "python",
   "name": "python3"
  },
  "language_info": {
   "codemirror_mode": {
    "name": "ipython",
    "version": 3
   },
   "file_extension": ".py",
   "mimetype": "text/x-python",
   "name": "python",
   "nbconvert_exporter": "python",
   "pygments_lexer": "ipython3",
   "version": "3.10.18"
  }
 },
 "nbformat": 4,
 "nbformat_minor": 5
}
